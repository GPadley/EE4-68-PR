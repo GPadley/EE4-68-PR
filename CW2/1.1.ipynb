{
 "cells": [
  {
   "cell_type": "code",
   "execution_count": 45,
   "metadata": {},
   "outputs": [],
   "source": [
    "import numpy as np\n",
    "import pandas as pd\n",
    "from scipy.io import loadmat\n",
    "import json\n",
    "train_idx = loadmat('PR_data/cuhk03_new_protocol_config_labeled.mat')['train_idx'].flatten()\n",
    "camId = loadmat('PR_data/cuhk03_new_protocol_config_labeled.mat')['camId'].flatten()\n",
    "filelist = loadmat('PR_data/cuhk03_new_protocol_config_labeled.mat')['filelist'].flatten()\n",
    "gallery_idx = loadmat('PR_data/cuhk03_new_protocol_config_labeled.mat')['gallery_idx'].flatten()\n",
    "labels = loadmat('PR_data/cuhk03_new_protocol_config_labeled.mat')['labels'].flatten()\n",
    "query_idx = loadmat('PR_data/cuhk03_new_protocol_config_labeled.mat')['query_idx'].flatten()\n",
    "with open('PR_data/feature_data.json', 'r') as f:\n",
    "    features = np.array(json.load(f))\n",
    "train_idx -= 1\n",
    "gallery_idx -= 1\n",
    "query_idx -= 1\n",
    "max_val = np.amax(features)\n",
    "features = np.divide(features, max_val)"
   ]
  },
  {
   "cell_type": "code",
   "execution_count": 46,
   "metadata": {},
   "outputs": [],
   "source": [
    "train_features = features[train_idx.tolist()]\n",
    "gallery_features = features[gallery_idx.tolist()]\n",
    "query_features = features[query_idx.tolist()]\n",
    "\n",
    "train_label = labels[train_idx.tolist()]\n",
    "gallery_label = labels[gallery_idx.tolist()]\n",
    "query_label = labels[query_idx.tolist()]\n",
    "\n",
    "train_cam = camId[train_idx.tolist()]\n",
    "gallery_cam = camId[gallery_idx.tolist()]\n",
    "query_cam = camId[query_idx.tolist()]"
   ]
  },
  {
   "cell_type": "markdown",
   "metadata": {},
   "source": [
    "## Bagging functions"
   ]
  },
  {
   "cell_type": "code",
   "execution_count": 47,
   "metadata": {},
   "outputs": [
    {
     "name": "stdout",
     "output_type": "stream",
     "text": [
      "(7368, 3)\n"
     ]
    }
   ],
   "source": [
    "#zip together the training features, thier labels and cameras\n",
    "labeled_train = np.asarray(list(zip(train_features, train_label, train_cam)))\n",
    "print(labeled_train.shape)"
   ]
  },
  {
   "cell_type": "code",
   "execution_count": 48,
   "metadata": {},
   "outputs": [],
   "source": [
    "import random as rand\n",
    "from more_itertools import locate\n",
    "\n",
    "in_triples = np.empty((7368, 3), int)\n",
    "out_pairs =  np.empty((7368, 2), int)\n",
    "for i in range(labeled_train.shape[0]) :\n",
    "\n",
    "    \n",
    "    current_id = labeled_train[i][1]\n",
    "    current_cam = labeled_train[i][2]\n",
    "    #ensure there are three unique ID's randomly selected\n",
    "    rand_id1 = rand.choice(train_label)\n",
    "    rand_id2 = rand.choice(train_label)\n",
    "    while not(rand_id1 != current_id) and not(rand_id2 != current_id) and not(rand_id1 != rand_id2) :\n",
    "        rand_id1 = rand.choice(train_label)\n",
    "        rand_id2 = rand.choice(train_label)\n",
    "\n",
    "#     print(current_id, rand_id1, rand_id2)\n",
    "\n",
    "    triple_set = list(locate(labeled_train, lambda x: \n",
    "                        (x[1] == current_id and x[2] != current_cam)  \n",
    "                        or (x[1] == rand_id1 and x[2] != current_cam)\n",
    "                        or (x[1] == rand_id2 and x[2] != current_cam)\n",
    "                            ))\n",
    "#     print(triple_set)\n",
    "\n",
    "    triple_1 = rand.choice(triple_set)\n",
    "    triple_2 = rand.choice(triple_set)\n",
    "    while triple_1 == triple_2 : \n",
    "        triple_1 = rand.choice(triple_set)\n",
    "        triple_2 = rand.choice(triple_set)\n",
    "\n",
    "    in_triples[i] = [i, triple_1, triple_2]\n",
    "\n",
    "    out_pairs[i] = [(current_id == labeled_train[triple_1][1]),(current_id == labeled_train[triple_2][1])]\n",
    "    \n"
   ]
  },
  {
   "cell_type": "code",
   "execution_count": 49,
   "metadata": {},
   "outputs": [
    {
     "name": "stdout",
     "output_type": "stream",
     "text": [
      "[[   0    7  473]\n",
      " [   1 6198 6199]\n",
      " [   2  130  330]\n",
      " [   3    6    8]\n",
      " [   4    5 3805]\n",
      " [   5 1953    3]\n",
      " [   6 3601 2179]\n",
      " [   7 5590  606]\n",
      " [   8    4    1]\n",
      " [   9    0 4479]]\n",
      "[[1 0]\n",
      " [0 0]\n",
      " [0 0]\n",
      " [1 1]\n",
      " [1 0]\n",
      " [0 1]\n",
      " [0 0]\n",
      " [0 0]\n",
      " [1 1]\n",
      " [1 0]]\n"
     ]
    }
   ],
   "source": [
    "print(in_triples[0:10])\n",
    "print(out_pairs[0:10])"
   ]
  },
  {
   "cell_type": "code",
   "execution_count": 50,
   "metadata": {},
   "outputs": [],
   "source": [
    "from sklearn.neighbors import KNeighborsClassifier\n",
    "classifier = KNeighborsClassifier(n_neighbors=120,metric='manhattan')\n",
    "classifier.fit(gallery_features,gallery_label)\n",
    "values = classifier.kneighbors(query_features)"
   ]
  },
  {
   "cell_type": "code",
   "execution_count": 6,
   "metadata": {
    "scrolled": true
   },
   "outputs": [
    {
     "name": "stdout",
     "output_type": "stream",
     "text": [
      "[0, 0, 0, 0, 0, 0, 0, 0, 0, 0, 0, 0, 0, 0, 0, 0, 0, 0, 0, 0, 0, 0, 0, 0, 0, 0, 0, 0, 0, 0, 0, 0, 0, 0, 0, 0, 0, 0, 0, 0, 0, 0, 0, 0, 0, 0, 0, 0, 0, 0, 0, 0, 0, 0, 0, 0, 0, 0, 0, 0, 0, 0, 0, 0, 0, 0, 0, 0, 0, 0, 0, 0, 0, 0, 0, 0, 0, 0, 0, 0, 0, 0, 0, 0, 0, 0, 0, 0, 0, 0, 0, 0, 0, 0, 0, 0, 0, 0, 0, 0]\n"
     ]
    }
   ],
   "source": [
    "rankN = range(1,101)\n",
    "ranks = [0] * len(rankN)\n",
    "\n",
    "for i in range(len(query_idx)):\n",
    "    cam_match = 0\n",
    "    for j in range(len(values[1][i])):\n",
    "        if gallery_label[values[1][i][j]] == query_label[i] and gallery_cam[values[1][i][j]] != query_cam[i]:\n",
    "            \n",
    "            for k in range(len(rankN)):\n",
    "                if j - cam_match <= rankN[k]-1:\n",
    "                    ranks[k] += 1\n",
    "            break\n",
    "            \n",
    "        elif gallery_label[values[1][i][j]] == query_label[i] and gallery_cam[values[1][i][j]] == query_cam[i]:\n",
    "            cam_match += 1"
   ]
  },
  {
   "cell_type": "code",
   "execution_count": 7,
   "metadata": {},
   "outputs": [
    {
     "name": "stdout",
     "output_type": "stream",
     "text": [
      "Rank:  1   Accuracy:  0.47214285714285714\n",
      "Rank:  2   Accuracy:  0.5478571428571428\n",
      "Rank:  3   Accuracy:  0.5985714285714285\n",
      "Rank:  4   Accuracy:  0.6371428571428571\n",
      "Rank:  5   Accuracy:  0.6614285714285715\n",
      "Rank:  6   Accuracy:  0.6878571428571428\n",
      "Rank:  7   Accuracy:  0.7028571428571428\n",
      "Rank:  8   Accuracy:  0.7207142857142858\n",
      "Rank:  9   Accuracy:  0.7378571428571429\n",
      "Rank:  10   Accuracy:  0.7507142857142857\n",
      "Rank:  11   Accuracy:  0.7592857142857142\n",
      "Rank:  12   Accuracy:  0.7735714285714286\n",
      "Rank:  13   Accuracy:  0.7842857142857143\n",
      "Rank:  14   Accuracy:  0.79\n",
      "Rank:  15   Accuracy:  0.7978571428571428\n",
      "Rank:  16   Accuracy:  0.8\n",
      "Rank:  17   Accuracy:  0.8057142857142857\n",
      "Rank:  18   Accuracy:  0.8121428571428572\n",
      "Rank:  19   Accuracy:  0.8228571428571428\n",
      "Rank:  20   Accuracy:  0.8264285714285714\n",
      "Rank:  21   Accuracy:  0.8292857142857143\n",
      "Rank:  22   Accuracy:  0.8342857142857143\n",
      "Rank:  23   Accuracy:  0.8385714285714285\n",
      "Rank:  24   Accuracy:  0.8421428571428572\n",
      "Rank:  25   Accuracy:  0.845\n",
      "Rank:  26   Accuracy:  0.8492857142857143\n",
      "Rank:  27   Accuracy:  0.8535714285714285\n",
      "Rank:  28   Accuracy:  0.8564285714285714\n",
      "Rank:  29   Accuracy:  0.8592857142857143\n",
      "Rank:  30   Accuracy:  0.86\n",
      "Rank:  31   Accuracy:  0.8642857142857143\n",
      "Rank:  32   Accuracy:  0.8664285714285714\n",
      "Rank:  33   Accuracy:  0.8685714285714285\n",
      "Rank:  34   Accuracy:  0.8707142857142857\n",
      "Rank:  35   Accuracy:  0.8714285714285714\n",
      "Rank:  36   Accuracy:  0.8742857142857143\n",
      "Rank:  37   Accuracy:  0.8764285714285714\n",
      "Rank:  38   Accuracy:  0.8778571428571429\n",
      "Rank:  39   Accuracy:  0.8792857142857143\n",
      "Rank:  40   Accuracy:  0.8807142857142857\n",
      "Rank:  41   Accuracy:  0.8835714285714286\n",
      "Rank:  42   Accuracy:  0.885\n",
      "Rank:  43   Accuracy:  0.8871428571428571\n",
      "Rank:  44   Accuracy:  0.8878571428571429\n",
      "Rank:  45   Accuracy:  0.8907142857142857\n",
      "Rank:  46   Accuracy:  0.8942857142857142\n",
      "Rank:  47   Accuracy:  0.895\n",
      "Rank:  48   Accuracy:  0.895\n",
      "Rank:  49   Accuracy:  0.8957142857142857\n",
      "Rank:  50   Accuracy:  0.8957142857142857\n",
      "Rank:  51   Accuracy:  0.8978571428571429\n",
      "Rank:  52   Accuracy:  0.9\n",
      "Rank:  53   Accuracy:  0.9028571428571428\n",
      "Rank:  54   Accuracy:  0.905\n",
      "Rank:  55   Accuracy:  0.9064285714285715\n",
      "Rank:  56   Accuracy:  0.9071428571428571\n",
      "Rank:  57   Accuracy:  0.9085714285714286\n",
      "Rank:  58   Accuracy:  0.9092857142857143\n",
      "Rank:  59   Accuracy:  0.9107142857142857\n",
      "Rank:  60   Accuracy:  0.9114285714285715\n",
      "Rank:  61   Accuracy:  0.9128571428571428\n",
      "Rank:  62   Accuracy:  0.9142857142857143\n",
      "Rank:  63   Accuracy:  0.9178571428571428\n",
      "Rank:  64   Accuracy:  0.9192857142857143\n",
      "Rank:  65   Accuracy:  0.92\n",
      "Rank:  66   Accuracy:  0.9221428571428572\n",
      "Rank:  67   Accuracy:  0.9235714285714286\n",
      "Rank:  68   Accuracy:  0.9242857142857143\n",
      "Rank:  69   Accuracy:  0.925\n",
      "Rank:  70   Accuracy:  0.9264285714285714\n",
      "Rank:  71   Accuracy:  0.9264285714285714\n",
      "Rank:  72   Accuracy:  0.9264285714285714\n",
      "Rank:  73   Accuracy:  0.9264285714285714\n",
      "Rank:  74   Accuracy:  0.9292857142857143\n",
      "Rank:  75   Accuracy:  0.9292857142857143\n",
      "Rank:  76   Accuracy:  0.93\n",
      "Rank:  77   Accuracy:  0.9321428571428572\n",
      "Rank:  78   Accuracy:  0.9335714285714286\n",
      "Rank:  79   Accuracy:  0.9335714285714286\n",
      "Rank:  80   Accuracy:  0.9335714285714286\n",
      "Rank:  81   Accuracy:  0.9342857142857143\n",
      "Rank:  82   Accuracy:  0.9371428571428572\n",
      "Rank:  83   Accuracy:  0.9378571428571428\n",
      "Rank:  84   Accuracy:  0.9378571428571428\n",
      "Rank:  85   Accuracy:  0.9378571428571428\n",
      "Rank:  86   Accuracy:  0.9378571428571428\n",
      "Rank:  87   Accuracy:  0.9385714285714286\n",
      "Rank:  88   Accuracy:  0.9385714285714286\n",
      "Rank:  89   Accuracy:  0.9385714285714286\n",
      "Rank:  90   Accuracy:  0.9407142857142857\n",
      "Rank:  91   Accuracy:  0.9407142857142857\n",
      "Rank:  92   Accuracy:  0.9407142857142857\n",
      "Rank:  93   Accuracy:  0.9414285714285714\n",
      "Rank:  94   Accuracy:  0.9414285714285714\n",
      "Rank:  95   Accuracy:  0.9428571428571428\n",
      "Rank:  96   Accuracy:  0.9428571428571428\n",
      "Rank:  97   Accuracy:  0.9428571428571428\n",
      "Rank:  98   Accuracy:  0.9442857142857143\n",
      "Rank:  99   Accuracy:  0.945\n",
      "Rank:  100   Accuracy:  0.9457142857142857\n"
     ]
    }
   ],
   "source": [
    "for i in range(len(ranks)) :\n",
    "    print(\"Rank: \", rankN[i], \"  Accuracy: \", ranks[i]/len(query_label))"
   ]
  },
  {
   "cell_type": "code",
   "execution_count": null,
   "metadata": {},
   "outputs": [],
   "source": []
  }
 ],
 "metadata": {
  "kernelspec": {
   "display_name": "Python 3",
   "language": "python",
   "name": "python3"
  },
  "language_info": {
   "codemirror_mode": {
    "name": "ipython",
    "version": 3
   },
   "file_extension": ".py",
   "mimetype": "text/x-python",
   "name": "python",
   "nbconvert_exporter": "python",
   "pygments_lexer": "ipython3",
   "version": "3.5.4"
  }
 },
 "nbformat": 4,
 "nbformat_minor": 2
}
