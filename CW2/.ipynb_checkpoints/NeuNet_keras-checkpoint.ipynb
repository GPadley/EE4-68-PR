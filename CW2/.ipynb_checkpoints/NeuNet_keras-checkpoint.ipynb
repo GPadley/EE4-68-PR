{
 "cells": [
  {
   "cell_type": "code",
   "execution_count": 1,
   "metadata": {},
   "outputs": [
    {
     "name": "stderr",
     "output_type": "stream",
     "text": [
      "c:\\users\\georg\\appdata\\local\\programs\\python\\python35\\lib\\site-packages\\h5py\\__init__.py:36: FutureWarning: Conversion of the second argument of issubdtype from `float` to `np.floating` is deprecated. In future, it will be treated as `np.float64 == np.dtype(float).type`.\n",
      "  from ._conv import register_converters as _register_converters\n",
      "Using TensorFlow backend.\n"
     ]
    }
   ],
   "source": [
    "import keras\n",
    "from keras.datasets import mnist\n",
    "from keras.models import Sequential\n",
    "from keras.layers import Dense, Dropout, Flatten\n",
    "from keras.layers import Conv2D, MaxPooling2D\n",
    "from keras import backend as K"
   ]
  },
  {
   "cell_type": "code",
   "execution_count": 2,
   "metadata": {},
   "outputs": [],
   "source": [
    "import numpy as np\n",
    "import pandas as pd\n",
    "from scipy.io import loadmat\n",
    "import json\n",
    "train_idx = loadmat('PR_data/cuhk03_new_protocol_config_labeled.mat')['train_idx'].flatten()\n",
    "camId = loadmat('PR_data/cuhk03_new_protocol_config_labeled.mat')['camId'].flatten()\n",
    "filelist = loadmat('PR_data/cuhk03_new_protocol_config_labeled.mat')['filelist'].flatten()\n",
    "gallery_idx = loadmat('PR_data/cuhk03_new_protocol_config_labeled.mat')['gallery_idx'].flatten()\n",
    "labels = loadmat('PR_data/cuhk03_new_protocol_config_labeled.mat')['labels'].flatten()\n",
    "query_idx = loadmat('PR_data/cuhk03_new_protocol_config_labeled.mat')['query_idx'].flatten()\n",
    "with open('PR_data/feature_data.json', 'r') as f:\n",
    "    features = np.array(json.load(f))\n",
    "train_idx -= 1\n",
    "gallery_idx -= 1\n",
    "query_idx -= 1\n",
    "features = np.divide(features,np.amax(features))"
   ]
  },
  {
   "cell_type": "code",
   "execution_count": 5,
   "metadata": {},
   "outputs": [],
   "source": [
    "train_features = features[train_idx.tolist()]\n",
    "gallery_features = features[gallery_idx.tolist()]\n",
    "query_features = features[query_idx.tolist()]\n",
    "\n",
    "train_label = labels[train_idx.tolist()]\n",
    "gallery_label = labels[gallery_idx.tolist()]\n",
    "query_label = labels[query_idx.tolist()]\n",
    "\n",
    "train_cam = camId[train_idx.tolist()]\n",
    "gallery_cam = camId[gallery_idx.tolist()]\n",
    "query_cam = camId[query_idx.tolist()]\n",
    "\n",
    "labeled_train = np.asarray(list(zip(train_features, train_label, train_cam)))\n",
    "labeled_gallery = np.asarray(list(zip(gallery_features, gallery_label, gallery_cam)))\n",
    "labeled_query = np.asarray(list(zip(query_features, query_label, query_cam)))"
   ]
  },
  {
   "cell_type": "markdown",
   "metadata": {},
   "source": [
    "### Formalise training data into input triples and output pairs"
   ]
  },
  {
   "cell_type": "code",
   "execution_count": 4,
   "metadata": {},
   "outputs": [],
   "source": [
    "import random as rand\n",
    "from more_itertools import locate\n",
    "\n",
    "in_triples_train = np.empty((7368, 3), int)\n",
    "out_pairs_train =  np.empty((7368, 2), int)\n",
    "for i in range(labeled_train.shape[0]) :\n",
    "\n",
    "    \n",
    "    current_id = labeled_train[i][1]\n",
    "    current_cam = labeled_train[i][2]\n",
    "    #ensure there are three unique ID's randomly selected\n",
    "    rand_id1 = rand.choice(train_label)\n",
    "    rand_id2 = rand.choice(train_label)\n",
    "    while not((rand_id1 != current_id) and (rand_id2 != current_id) and (rand_id1 != rand_id2)) :\n",
    "        rand_id1 = rand.choice(train_label)\n",
    "        rand_id2 = rand.choice(train_label)\n",
    "\n",
    "\n",
    "    triple_set = list(locate(labeled_train, lambda x: \n",
    "                        (x[1] == current_id and x[2] != current_cam)  \n",
    "                        or (x[1] == rand_id1)\n",
    "                        or (x[1] == rand_id2)\n",
    "                            ))\n",
    "\n",
    "    triple_1 = rand.choice(triple_set)\n",
    "    triple_2 = rand.choice(triple_set)\n",
    "    while triple_1 == triple_2 : \n",
    "        triple_1 = rand.choice(triple_set)\n",
    "        triple_2 = rand.choice(triple_set)\n",
    "\n",
    "    in_triples_train[i] = [triple_1, i, triple_2]\n",
    "\n",
    "    out_pairs_train[i] = [(current_id == labeled_train[triple_1][1]),(current_id == labeled_train[triple_2][1])]"
   ]
  },
  {
   "cell_type": "markdown",
   "metadata": {},
   "source": [
    "### Formalise test data into input triple and output pairs"
   ]
  },
  {
   "cell_type": "code",
   "execution_count": 5,
   "metadata": {},
   "outputs": [],
   "source": [
    "x_train = np.empty((7368, 3, 2048), float)\n",
    "for i in range(in_triples_train.shape[0]):\n",
    "    x_train[i] = train_features[in_triples_train[i]]\n",
    "    \n",
    "\n",
    "x_train = x_train.reshape(x_train.shape[0], x_train.shape[1], x_train.shape[2], 1)\n",
    "\n",
    "y_train = out_pairs_train"
   ]
  },
  {
   "cell_type": "markdown",
   "metadata": {},
   "source": [
    "### Set up Neural Network"
   ]
  },
  {
   "cell_type": "code",
   "execution_count": 13,
   "metadata": {},
   "outputs": [],
   "source": [
    "input_shape = (3, 2048, 1)\n",
    "\n",
    "model = Sequential()\n",
    "model.add(Conv2D(32, kernel_size=(2, 2),\n",
    "                 activation='relu',\n",
    "                 input_shape=input_shape))\n",
    "model.add(Conv2D(64, (2, 2), activation='relu'))\n",
    "model.add(Dropout(0.25))\n",
    "model.add(Flatten())\n",
    "model.add(Dense(128, activation='relu'))\n",
    "model.add(Dropout(0.5))\n",
    "model.add(Dense(2, activation='softmax'))\n",
    "\n",
    "model.compile(loss=keras.losses.categorical_crossentropy,\n",
    "              optimizer=keras.optimizers.Adadelta(),\n",
    "              metrics=['accuracy'])"
   ]
  },
  {
   "cell_type": "code",
   "execution_count": 6,
   "metadata": {},
   "outputs": [
    {
     "name": "stdout",
     "output_type": "stream",
     "text": [
      "Epoch 1/20\n",
      "7368/7368 [==============================] - 11s 1ms/step - loss: 0.2643 - acc: 0.5835\n",
      "Epoch 2/20\n",
      "7368/7368 [==============================] - 5s 727us/step - loss: 0.1532 - acc: 0.6960\n",
      "Epoch 3/20\n",
      "7368/7368 [==============================] - 5s 703us/step - loss: 0.0717 - acc: 0.6707\n",
      "Epoch 4/20\n",
      "7368/7368 [==============================] - 6s 793us/step - loss: 0.0610 - acc: 0.6813 1s - loss: \n",
      "Epoch 5/20\n",
      "7368/7368 [==============================] - 6s 778us/step - loss: 0.0563 - acc: 0.7204\n",
      "Epoch 6/20\n",
      "7368/7368 [==============================] - 5s 711us/step - loss: 0.0543 - acc: 0.7029\n",
      "Epoch 7/20\n",
      "7368/7368 [==============================] - 5s 712us/step - loss: 0.0526 - acc: 0.7215\n",
      "Epoch 8/20\n",
      "7368/7368 [==============================] - 5s 712us/step - loss: 0.0503 - acc: 0.7376 1s - loss: 0.\n",
      "Epoch 9/20\n",
      "7368/7368 [==============================] - 5s 710us/step - loss: 0.0493 - acc: 0.7629\n",
      "Epoch 10/20\n",
      "7368/7368 [==============================] - 5s 713us/step - loss: 0.0485 - acc: 0.8009\n",
      "Epoch 11/20\n",
      "7368/7368 [==============================] - 5s 713us/step - loss: 0.0480 - acc: 0.7800\n",
      "Epoch 12/20\n",
      "7368/7368 [==============================] - 5s 710us/step - loss: 0.0475 - acc: 0.7693\n",
      "Epoch 13/20\n",
      "7368/7368 [==============================] - 5s 713us/step - loss: 0.0471 - acc: 0.7500\n",
      "Epoch 14/20\n",
      "7368/7368 [==============================] - 5s 712us/step - loss: 0.0473 - acc: 0.7303\n",
      "Epoch 15/20\n",
      "7368/7368 [==============================] - 5s 710us/step - loss: 0.0469 - acc: 0.7906\n",
      "Epoch 16/20\n",
      "7368/7368 [==============================] - 5s 712us/step - loss: 0.0469 - acc: 0.7484\n",
      "Epoch 17/20\n",
      "7368/7368 [==============================] - 5s 707us/step - loss: 0.0469 - acc: 0.7395\n",
      "Epoch 18/20\n",
      "7368/7368 [==============================] - 6s 788us/step - loss: 0.0470 - acc: 0.7995\n",
      "Epoch 19/20\n",
      "7368/7368 [==============================] - 6s 781us/step - loss: 0.0467 - acc: 0.7655\n",
      "Epoch 20/20\n",
      "7368/7368 [==============================] - 5s 731us/step - loss: 0.0467 - acc: 0.7706\n"
     ]
    },
    {
     "data": {
      "text/plain": [
       "<keras.callbacks.History at 0x1f9817bfa20>"
      ]
     },
     "execution_count": 6,
     "metadata": {},
     "output_type": "execute_result"
    }
   ],
   "source": [
    "batch_size = 128\n",
    "epochs = 20\n",
    "\n",
    "model.fit(x_train, y_train,\n",
    "          batch_size=batch_size,\n",
    "          epochs=epochs,\n",
    "          verbose=1)\n",
    "# score = model.evaluate(x_test, y_test, verbose=0)\n",
    "# print('Test loss:', score[0])\n",
    "# print('Test accuracy:', score[1])"
   ]
  },
  {
   "cell_type": "code",
   "execution_count": 14,
   "metadata": {},
   "outputs": [],
   "source": [
    "model.load_weights('model20181211_7146.h5')"
   ]
  },
  {
   "cell_type": "code",
   "execution_count": 17,
   "metadata": {},
   "outputs": [
    {
     "data": {
      "text/plain": [
       "'7706'"
      ]
     },
     "execution_count": 17,
     "metadata": {},
     "output_type": "execute_result"
    }
   ],
   "source": [
    "str(model.history.history['acc'][-1])[2:6]"
   ]
  },
  {
   "cell_type": "code",
   "execution_count": 7,
   "metadata": {},
   "outputs": [],
   "source": [
    "model.save('model20181213_7706.h5')"
   ]
  },
  {
   "cell_type": "markdown",
   "metadata": {},
   "source": [
    "``` python\n",
    "    predict([gallery[i], [query], [gallery[!i])                           \n",
    "```\n",
    "- ensure query[!i] does not use the same camera as test_data\n",
    "- for each i generate highest probability test_data matches to it with all other queries !i (set to zero for invalid !i)\n",
    "- sort the list of probabilities indexed for query[i]\n",
    "- choose top *r* depending on rank\n",
    "- gereate score 1 or 0 dependin on if the correct match is found within that rank\n",
    "- repeat for all Test_data\n"
   ]
  },
  {
   "cell_type": "markdown",
   "metadata": {},
   "source": [
    "Alternate prediction loop choosing a single K with a different label to I"
   ]
  },
  {
   "cell_type": "code",
   "execution_count": 8,
   "metadata": {},
   "outputs": [
    {
     "data": {
      "application/vnd.jupyter.widget-view+json": {
       "model_id": "c284cc2231a04797852b0a6a558d97b8",
       "version_major": 2,
       "version_minor": 0
      },
      "text/plain": [
       "HBox(children=(IntProgress(value=0, max=1400), HTML(value='')))"
      ]
     },
     "metadata": {},
     "output_type": "display_data"
    },
    {
     "name": "stdout",
     "output_type": "stream",
     "text": [
      "\n"
     ]
    }
   ],
   "source": [
    "from tqdm import tqdm_notebook as tqdm\n",
    "predictions = np.zeros((1400, 5328, 3))\n",
    "\n",
    "# for i in tqdm(range(labeled_gallery.shape[0])) :\n",
    "for i in tqdm(range(predictions.shape[0])) :\n",
    "    j_pred = np.zeros((5328, 3))\n",
    "    \n",
    "    k = rand.randrange(gallery_label.shape[0])\n",
    "\n",
    "    for j in range(labeled_gallery.shape[0]):\n",
    "        k_pred = 0\n",
    "        \n",
    "        \n",
    "        if k == j: #check for same data point or same cam\n",
    "            continue\n",
    "        x_pred = np.empty((1, 3, 2048), float)\n",
    "        x_pred[0][0] = gallery_features[j]\n",
    "        x_pred[0][1] = query_features[i]\n",
    "        x_pred[0][2] = gallery_features[k]\n",
    "        x_pred = x_pred.reshape(1, 3, 2048, 1)\n",
    "        k_pred = model.predict(x_pred)[0][0]\n",
    "        \n",
    "#         print(k_pred , labeled_query[j][1])\n",
    "         \n",
    "        \n",
    "        j_pred[j] = [k_pred, labeled_gallery[j][1], labeled_gallery[j][2]] #store best prediction and its ID\n",
    "        \n",
    "    inds = np.argsort(j_pred.T[0])\n",
    "    j_pred = np.asarray(list(zip(j_pred.T[0][inds], j_pred.T[1][inds], j_pred.T[2][inds])))\n",
    "#     print(j_pred)\n",
    "    predictions[i] = j_pred #sort list by descending probability\n",
    "\n",
    "\n",
    "#predictions should now be an sorted array of best predictions of each \n",
    "#gallery image in descenting order in a list with the corresponding predicted ID"
   ]
  },
  {
   "cell_type": "code",
   "execution_count": 21,
   "metadata": {},
   "outputs": [
    {
     "data": {
      "application/vnd.jupyter.widget-view+json": {
       "model_id": "2faf94bab86647d2897bc5aed041dec3",
       "version_major": 2,
       "version_minor": 0
      },
      "text/plain": [
       "HBox(children=(IntProgress(value=0, max=1400), HTML(value='')))"
      ]
     },
     "metadata": {},
     "output_type": "display_data"
    },
    {
     "name": "stdout",
     "output_type": "stream",
     "text": [
      "\n"
     ]
    }
   ],
   "source": [
    "import random as rand\n",
    "from more_itertools import locate\n",
    "from tqdm import tqdm_notebook as tqdm\n",
    "predictions = np.zeros((1400, 5328, 3))\n",
    "\n",
    "# for i in tqdm(range(labeled_gallery.shape[0])) :\n",
    "for i in tqdm(range(1400)) :\n",
    "    j_pred = np.zeros((5328, 3))\n",
    "\n",
    "    k = rand.randrange(gallery_label.shape[0])\n",
    "\n",
    "\n",
    "    x_pred = np.empty((3, 5328, 2048), float)\n",
    "    x_pred[0]= gallery_features\n",
    "    x_pred[1] = query_features[i]\n",
    "    x_pred[2] = gallery_features[k]\n",
    "    x_pred = np.transpose(x_pred,(1,0,2))\n",
    "    x_pred = x_pred.reshape(gallery_features.shape[0], 3, 2048, 1)\n",
    "    k_pred = model.predict(x_pred).T[0]\n",
    "    k_pred\n",
    "\n",
    "    j_pred = np.asarray([k_pred, gallery_label, gallery_cam]) #store predictions, label and camera\n",
    "\n",
    "    inds = np.argsort(j_pred[0])\n",
    "    j_pred = np.asarray(list(zip(j_pred[0][inds], j_pred[1][inds], j_pred[2][inds])))\n",
    "#     print(j_pred)\n",
    "    predictions[i] = j_pred #sort list by descending probability"
   ]
  },
  {
   "cell_type": "markdown",
   "metadata": {},
   "source": [
    "##### Get the rank accuracies of the resulting predictions"
   ]
  },
  {
   "cell_type": "code",
   "execution_count": 22,
   "metadata": {},
   "outputs": [
    {
     "name": "stdout",
     "output_type": "stream",
     "text": [
      "Rank:  1  Accuracy:  0.48142857142857143\n",
      "Rank:  2  Accuracy:  0.5578571428571428\n",
      "Rank:  3  Accuracy:  0.6078571428571429\n",
      "Rank:  4  Accuracy:  0.6464285714285715\n",
      "Rank:  5  Accuracy:  0.6771428571428572\n",
      "Rank:  6  Accuracy:  0.7014285714285714\n",
      "Rank:  7  Accuracy:  0.7242857142857143\n",
      "Rank:  8  Accuracy:  0.7414285714285714\n",
      "Rank:  9  Accuracy:  0.76\n",
      "Rank:  10  Accuracy:  0.7685714285714286\n",
      "Rank:  11  Accuracy:  0.7757142857142857\n",
      "Rank:  12  Accuracy:  0.7835714285714286\n",
      "Rank:  13  Accuracy:  0.7892857142857143\n",
      "Rank:  14  Accuracy:  0.7964285714285714\n",
      "Rank:  15  Accuracy:  0.8042857142857143\n",
      "Rank:  16  Accuracy:  0.81\n",
      "Rank:  17  Accuracy:  0.8185714285714286\n",
      "Rank:  18  Accuracy:  0.8235714285714286\n",
      "Rank:  19  Accuracy:  0.8314285714285714\n",
      "Rank:  20  Accuracy:  0.8371428571428572\n",
      "Rank:  21  Accuracy:  0.8421428571428572\n",
      "Rank:  22  Accuracy:  0.8457142857142858\n",
      "Rank:  23  Accuracy:  0.8464285714285714\n",
      "Rank:  24  Accuracy:  0.8478571428571429\n",
      "Rank:  25  Accuracy:  0.85\n",
      "Rank:  26  Accuracy:  0.8535714285714285\n",
      "Rank:  27  Accuracy:  0.8614285714285714\n",
      "Rank:  28  Accuracy:  0.865\n",
      "Rank:  29  Accuracy:  0.87\n",
      "Rank:  30  Accuracy:  0.8721428571428571\n",
      "Rank:  31  Accuracy:  0.875\n",
      "Rank:  32  Accuracy:  0.8771428571428571\n",
      "Rank:  33  Accuracy:  0.8771428571428571\n",
      "Rank:  34  Accuracy:  0.8792857142857143\n",
      "Rank:  35  Accuracy:  0.8814285714285715\n",
      "Rank:  36  Accuracy:  0.8835714285714286\n",
      "Rank:  37  Accuracy:  0.8864285714285715\n",
      "Rank:  38  Accuracy:  0.8871428571428571\n",
      "Rank:  39  Accuracy:  0.8892857142857142\n",
      "Rank:  40  Accuracy:  0.89\n",
      "Rank:  41  Accuracy:  0.8935714285714286\n",
      "Rank:  42  Accuracy:  0.895\n",
      "Rank:  43  Accuracy:  0.8964285714285715\n",
      "Rank:  44  Accuracy:  0.8992857142857142\n",
      "Rank:  45  Accuracy:  0.9\n",
      "Rank:  46  Accuracy:  0.9\n",
      "Rank:  47  Accuracy:  0.9021428571428571\n",
      "Rank:  48  Accuracy:  0.9057142857142857\n",
      "Rank:  49  Accuracy:  0.9071428571428571\n",
      "Rank:  50  Accuracy:  0.91\n",
      "Rank:  51  Accuracy:  0.9114285714285715\n",
      "Rank:  52  Accuracy:  0.9135714285714286\n",
      "Rank:  53  Accuracy:  0.9157142857142857\n",
      "Rank:  54  Accuracy:  0.9164285714285715\n",
      "Rank:  55  Accuracy:  0.9185714285714286\n",
      "Rank:  56  Accuracy:  0.9207142857142857\n",
      "Rank:  57  Accuracy:  0.9214285714285714\n",
      "Rank:  58  Accuracy:  0.9221428571428572\n",
      "Rank:  59  Accuracy:  0.9235714285714286\n",
      "Rank:  60  Accuracy:  0.9257142857142857\n",
      "Rank:  61  Accuracy:  0.9278571428571428\n",
      "Rank:  62  Accuracy:  0.93\n",
      "Rank:  63  Accuracy:  0.9314285714285714\n",
      "Rank:  64  Accuracy:  0.9321428571428572\n",
      "Rank:  65  Accuracy:  0.9328571428571428\n",
      "Rank:  66  Accuracy:  0.9328571428571428\n",
      "Rank:  67  Accuracy:  0.9335714285714286\n",
      "Rank:  68  Accuracy:  0.9342857142857143\n",
      "Rank:  69  Accuracy:  0.9342857142857143\n",
      "Rank:  70  Accuracy:  0.9357142857142857\n",
      "Rank:  71  Accuracy:  0.9357142857142857\n",
      "Rank:  72  Accuracy:  0.9357142857142857\n",
      "Rank:  73  Accuracy:  0.9371428571428572\n",
      "Rank:  74  Accuracy:  0.9378571428571428\n",
      "Rank:  75  Accuracy:  0.9385714285714286\n",
      "Rank:  76  Accuracy:  0.9385714285714286\n",
      "Rank:  77  Accuracy:  0.94\n",
      "Rank:  78  Accuracy:  0.9414285714285714\n",
      "Rank:  79  Accuracy:  0.9435714285714286\n",
      "Rank:  80  Accuracy:  0.945\n",
      "Rank:  81  Accuracy:  0.945\n",
      "Rank:  82  Accuracy:  0.9464285714285714\n",
      "Rank:  83  Accuracy:  0.9471428571428572\n",
      "Rank:  84  Accuracy:  0.9478571428571428\n",
      "Rank:  85  Accuracy:  0.9478571428571428\n",
      "Rank:  86  Accuracy:  0.9485714285714286\n",
      "Rank:  87  Accuracy:  0.9485714285714286\n",
      "Rank:  88  Accuracy:  0.9492857142857143\n",
      "Rank:  89  Accuracy:  0.9492857142857143\n",
      "Rank:  90  Accuracy:  0.9492857142857143\n",
      "Rank:  91  Accuracy:  0.9492857142857143\n",
      "Rank:  92  Accuracy:  0.9492857142857143\n",
      "Rank:  93  Accuracy:  0.9507142857142857\n",
      "Rank:  94  Accuracy:  0.9507142857142857\n",
      "Rank:  95  Accuracy:  0.9507142857142857\n",
      "Rank:  96  Accuracy:  0.9507142857142857\n",
      "Rank:  97  Accuracy:  0.9514285714285714\n",
      "Rank:  98  Accuracy:  0.9528571428571428\n",
      "Rank:  99  Accuracy:  0.9528571428571428\n",
      "Rank:  100  Accuracy:  0.9535714285714286\n"
     ]
    }
   ],
   "source": [
    "ranks = range(1,101) #set ranks in a list to check\n",
    "rank_scores = [0]*len(ranks)\n",
    "# for i in range(predictions.shape[0]) :\n",
    "for i in range(predictions.shape[0]) :\n",
    "    cam_match = 0\n",
    "    for j in range(predictions.shape[1]):\n",
    "        if int(predictions[i][5327-j][1]) == labeled_query[i][1] and int(predictions[i][5327-j][2]) != labeled_query[i][2]:\n",
    "            for k in range(len(ranks)):\n",
    "                if j - cam_match <= ranks[k]-1:\n",
    "                    rank_scores[k] += 1\n",
    "            break\n",
    "        elif int(predictions[i][5327-j][1]) == labeled_query[i][1] and int(predictions[i][5327-j][2]) == labeled_query[i][2]:\n",
    "            cam_match += 1\n",
    "\n",
    "for i in range(len(rank_scores)) :\n",
    "    rank_scores[i] = rank_scores[i]/predictions.shape[0]\n",
    "    print('Rank: ', ranks[i], ' Accuracy: ', rank_scores[i])"
   ]
  },
  {
   "cell_type": "code",
   "execution_count": 23,
   "metadata": {},
   "outputs": [
    {
     "name": "stdout",
     "output_type": "stream",
     "text": [
      "_________________________________________________________________\n",
      "Layer (type)                 Output Shape              Param #   \n",
      "=================================================================\n",
      "conv2d_3 (Conv2D)            (None, 2, 2047, 32)       160       \n",
      "_________________________________________________________________\n",
      "conv2d_4 (Conv2D)            (None, 1, 2046, 64)       8256      \n",
      "_________________________________________________________________\n",
      "dropout_3 (Dropout)          (None, 1, 2046, 64)       0         \n",
      "_________________________________________________________________\n",
      "flatten_2 (Flatten)          (None, 130944)            0         \n",
      "_________________________________________________________________\n",
      "dense_3 (Dense)              (None, 128)               16760960  \n",
      "_________________________________________________________________\n",
      "dropout_4 (Dropout)          (None, 128)               0         \n",
      "_________________________________________________________________\n",
      "dense_4 (Dense)              (None, 2)                 258       \n",
      "=================================================================\n",
      "Total params: 16,769,634\n",
      "Trainable params: 16,769,634\n",
      "Non-trainable params: 0\n",
      "_________________________________________________________________\n"
     ]
    }
   ],
   "source": [
    "model.summary()"
   ]
  },
  {
   "cell_type": "code",
   "execution_count": 15,
   "metadata": {},
   "outputs": [
    {
     "data": {
      "image/png": "[encoded data removed]",
      "text/plain": [
       "<Figure size 1080x720 with 1 Axes>"
      ]
     },
     "metadata": {},
     "output_type": "display_data"
    }
   ],
   "source": [
    "#model.save('PR_cnn_20181210.h5')\n",
    "\n",
    "import matplotlib.pyplot as plt\n",
    "import matplotlib as mpl\n",
    "\n",
    "mpl.rcParams['figure.figsize'] = (15,10)\n",
    "plt.rcParams.update({'font.size': 20})\n",
    "plt.plot(ranks, rank_scores)\n",
    "plt.title('Convolutional Neural Network Accuracy against Rank Number')\n",
    "plt.ylabel('Accuracy')\n",
    "plt.xlabel('Rank')\n",
    "plt.show()\n"
   ]
  },
  {
   "cell_type": "code",
   "execution_count": 18,
   "metadata": {},
   "outputs": [],
   "source": [
    "pred_name = 'Predictions_'+str(model.history.history['acc'][-1])[2:6]\n",
    "rank_name = 'Ranks_'+str(model.history.history['acc'][-1])[2:6]\n",
    "np.save(pred_name, predictions)\n",
    "np.save(rank_name, rank_scores)\n",
    "# model.save('PR_cnn_20181211.h5')"
   ]
  },
  {
   "cell_type": "code",
   "execution_count": 19,
   "metadata": {},
   "outputs": [
    {
     "name": "stdout",
     "output_type": "stream",
     "text": [
      "0.46785714285714286\n",
      "0.6728571428571428\n",
      "0.7607142857142857\n"
     ]
    }
   ],
   "source": [
    "for i in [0,4,9]:\n",
    "    print(rank_scores[i])"
   ]
  },
  {
   "cell_type": "code",
   "execution_count": null,
   "metadata": {},
   "outputs": [],
   "source": []
  }
 ],
 "metadata": {
  "kernelspec": {
   "display_name": "Python 3",
   "language": "python",
   "name": "python3"
  },
  "language_info": {
   "codemirror_mode": {
    "name": "ipython",
    "version": 3
   },
   "file_extension": ".py",
   "mimetype": "text/x-python",
   "name": "python",
   "nbconvert_exporter": "python",
   "pygments_lexer": "ipython3",
   "version": "3.5.4"
  }
 },
 "nbformat": 4,
 "nbformat_minor": 2
}
