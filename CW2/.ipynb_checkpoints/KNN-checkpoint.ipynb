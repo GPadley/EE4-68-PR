{
 "cells": [
  {
   "cell_type": "code",
   "execution_count": 1,
   "metadata": {},
   "outputs": [],
   "source": [
    "import numpy as np\n",
    "import pandas as pd\n",
    "from scipy.io import loadmat\n",
    "import json\n",
    "train_idx = loadmat('PR_data/cuhk03_new_protocol_config_labeled.mat')['train_idx'].flatten()\n",
    "camId = loadmat('PR_data/cuhk03_new_protocol_config_labeled.mat')['camId'].flatten()\n",
    "filelist = loadmat('PR_data/cuhk03_new_protocol_config_labeled.mat')['filelist'].flatten()\n",
    "gallery_idx = loadmat('PR_data/cuhk03_new_protocol_config_labeled.mat')['gallery_idx'].flatten()\n",
    "labels = loadmat('PR_data/cuhk03_new_protocol_config_labeled.mat')['labels'].flatten()\n",
    "query_idx = loadmat('PR_data/cuhk03_new_protocol_config_labeled.mat')['query_idx'].flatten()\n",
    "with open('PR_data/feature_data.json', 'r') as f:\n",
    "    features = np.array(json.load(f))\n",
    "train_idx -= 1\n",
    "gallery_idx -= 1\n",
    "query_idx -= 1\n",
    "max_val = np.amax(features)\n",
    "features = np.divide(features, max_val)"
   ]
  },
  {
   "cell_type": "code",
   "execution_count": 2,
   "metadata": {},
   "outputs": [],
   "source": [
    "train_features = features[train_idx.tolist()]\n",
    "gallery_features = features[gallery_idx.tolist()]\n",
    "query_features = features[query_idx.tolist()]\n",
    "\n",
    "train_label = labels[train_idx.tolist()]\n",
    "gallery_label = labels[gallery_idx.tolist()]\n",
    "query_label = labels[query_idx.tolist()]\n",
    "\n",
    "train_cam = camId[train_idx.tolist()]\n",
    "gallery_cam = camId[gallery_idx.tolist()]\n",
    "query_cam = camId[query_idx.tolist()]"
   ]
  },
  {
   "cell_type": "code",
   "execution_count": 9,
   "metadata": {},
   "outputs": [],
   "source": [
    "from sklearn.neighbors import KNeighborsClassifier\n",
    "def KNN_Ranking(num_neighbours, metric, rankN, p=3):\n",
    "    ranks = [0]*len(rankN)\n",
    "    if metric == 'minkowski':\n",
    "        classifier = KNeighborsClassifier(n_neighbors=num_neighbours,metric=metric, p = p)\n",
    "    else:\n",
    "        classifier = KNeighborsClassifier(n_neighbors=num_neighbours,metric=metric)\n",
    "    classifier.fit(gallery_features,gallery_label)\n",
    "    values = classifier.kneighbors(query_features)\n",
    "    \n",
    "    for i in range(len(query_idx)):\n",
    "        cam_match = 0\n",
    "        for j in range(len(values[1][i])):\n",
    "            if gallery_label[values[1][i][j]] == query_label[i] and gallery_cam[values[1][i][j]] != query_cam[i]:\n",
    "\n",
    "                for k in range(len(rankN)):\n",
    "                    if j - cam_match <= rankN[k]-1:\n",
    "                        ranks[k] += 1/len(query_label)\n",
    "                break\n",
    "\n",
    "            elif gallery_label[values[1][i][j]] == query_label[i] and gallery_cam[values[1][i][j]] == query_cam[i]:\n",
    "                cam_match += 1\n",
    "    return ranks"
   ]
  },
  {
   "cell_type": "code",
   "execution_count": 10,
   "metadata": {},
   "outputs": [],
   "source": [
    "rank = range(1,101)\n",
    "rank_euc = KNN_Ranking(120, 'euclidean', rank)"
   ]
  },
  {
   "cell_type": "code",
   "execution_count": null,
   "metadata": {},
   "outputs": [],
   "source": []
  }
 ],
 "metadata": {
  "kernelspec": {
   "display_name": "Python 3",
   "language": "python",
   "name": "python3"
  },
  "language_info": {
   "codemirror_mode": {
    "name": "ipython",
    "version": 3
   },
   "file_extension": ".py",
   "mimetype": "text/x-python",
   "name": "python",
   "nbconvert_exporter": "python",
   "pygments_lexer": "ipython3",
   "version": "3.5.4"
  }
 },
 "nbformat": 4,
 "nbformat_minor": 2
}
