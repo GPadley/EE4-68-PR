{
 "cells": [
  {
   "cell_type": "code",
   "execution_count": 1,
   "metadata": {},
   "outputs": [
    {
     "name": "stderr",
     "output_type": "stream",
     "text": [
      "c:\\users\\georg\\appdata\\local\\programs\\python\\python35\\lib\\site-packages\\h5py\\__init__.py:36: FutureWarning: Conversion of the second argument of issubdtype from `float` to `np.floating` is deprecated. In future, it will be treated as `np.float64 == np.dtype(float).type`.\n",
      "  from ._conv import register_converters as _register_converters\n",
      "Using TensorFlow backend.\n"
     ]
    }
   ],
   "source": [
    "import keras\n",
    "from keras.datasets import mnist\n",
    "from keras.models import Sequential\n",
    "from keras.layers import Dense, Dropout, Flatten\n",
    "from keras.layers import Conv2D, MaxPooling2D\n",
    "from keras import backend as K"
   ]
  },
  {
   "cell_type": "code",
   "execution_count": 2,
   "metadata": {},
   "outputs": [],
   "source": [
    "import numpy as np\n",
    "import pandas as pd\n",
    "from scipy.io import loadmat\n",
    "import json\n",
    "train_idx = loadmat('PR_data/cuhk03_new_protocol_config_labeled.mat')['train_idx'].flatten()\n",
    "camId = loadmat('PR_data/cuhk03_new_protocol_config_labeled.mat')['camId'].flatten()\n",
    "filelist = loadmat('PR_data/cuhk03_new_protocol_config_labeled.mat')['filelist'].flatten()\n",
    "gallery_idx = loadmat('PR_data/cuhk03_new_protocol_config_labeled.mat')['gallery_idx'].flatten()\n",
    "labels = loadmat('PR_data/cuhk03_new_protocol_config_labeled.mat')['labels'].flatten()\n",
    "query_idx = loadmat('PR_data/cuhk03_new_protocol_config_labeled.mat')['query_idx'].flatten()\n",
    "with open('PR_data/feature_data.json', 'r') as f:\n",
    "    features = np.array(json.load(f))\n",
    "train_idx -= 1\n",
    "gallery_idx -= 1\n",
    "query_idx -= 1\n",
    "features = np.divide(features,np.amax(features))"
   ]
  },
  {
   "cell_type": "code",
   "execution_count": 3,
   "metadata": {},
   "outputs": [],
   "source": [
    "train_features = features[train_idx.tolist()]\n",
    "gallery_features = features[gallery_idx.tolist()]\n",
    "query_features = features[query_idx.tolist()]\n",
    "\n",
    "train_label = labels[train_idx.tolist()]\n",
    "gallery_label = labels[gallery_idx.tolist()]\n",
    "query_label = labels[query_idx.tolist()]\n",
    "\n",
    "train_cam = camId[train_idx.tolist()]\n",
    "gallery_cam = camId[gallery_idx.tolist()]\n",
    "query_cam = camId[query_idx.tolist()]\n",
    "\n",
    "labeled_train = np.asarray(list(zip(train_features, train_label, train_cam)))\n",
    "labeled_gallery = np.asarray(list(zip(gallery_features, gallery_label, gallery_cam)))\n",
    "labeled_query = np.asarray(list(zip(query_features, query_label, query_cam)))"
   ]
  },
  {
   "cell_type": "markdown",
   "metadata": {},
   "source": [
    "### Formalise training data into input triples and output pairs"
   ]
  },
  {
   "cell_type": "code",
   "execution_count": 4,
   "metadata": {},
   "outputs": [],
   "source": [
    "import random as rand\n",
    "from more_itertools import locate\n",
    "\n",
    "in_triples_train = np.empty((7368, 3), int)\n",
    "out_pairs_train =  np.empty((7368, 2), int)\n",
    "for i in range(labeled_train.shape[0]) :\n",
    "\n",
    "    \n",
    "    current_id = labeled_train[i][1]\n",
    "    current_cam = labeled_train[i][2]\n",
    "    #ensure there are three unique ID's randomly selected\n",
    "    rand_id1 = rand.choice(train_label)\n",
    "    rand_id2 = rand.choice(train_label)\n",
    "    while not((rand_id1 != current_id) and (rand_id2 != current_id) and (rand_id1 != rand_id2)) :\n",
    "        rand_id1 = rand.choice(train_label)\n",
    "        rand_id2 = rand.choice(train_label)\n",
    "\n",
    "\n",
    "    triple_set = list(locate(labeled_train, lambda x: \n",
    "                        (x[1] == current_id and x[2] != current_cam)  \n",
    "                        or (x[1] == rand_id1)\n",
    "                        or (x[1] == rand_id2)\n",
    "                            ))\n",
    "\n",
    "    triple_1 = rand.choice(triple_set)\n",
    "    triple_2 = rand.choice(triple_set)\n",
    "    while triple_1 == triple_2 : \n",
    "        triple_1 = rand.choice(triple_set)\n",
    "        triple_2 = rand.choice(triple_set)\n",
    "\n",
    "    in_triples_train[i] = [triple_1, i, triple_2]\n",
    "\n",
    "    out_pairs_train[i] = [(current_id == labeled_train[triple_1][1]),(current_id == labeled_train[triple_2][1])]"
   ]
  },
  {
   "cell_type": "markdown",
   "metadata": {},
   "source": [
    "### Formalise test data into input triple and output pairs"
   ]
  },
  {
   "cell_type": "code",
   "execution_count": 5,
   "metadata": {},
   "outputs": [],
   "source": [
    "x_train = np.empty((7368, 3, 2048), float)\n",
    "for i in range(in_triples_train.shape[0]):\n",
    "    x_train[i] = train_features[in_triples_train[i]]\n",
    "    \n",
    "\n",
    "x_train = x_train.reshape(x_train.shape[0], x_train.shape[1], x_train.shape[2], 1)\n",
    "\n",
    "y_train = out_pairs_train"
   ]
  },
  {
   "cell_type": "markdown",
   "metadata": {},
   "source": [
    "### Set up Neural Network"
   ]
  },
  {
   "cell_type": "code",
   "execution_count": 44,
   "metadata": {},
   "outputs": [
    {
     "name": "stdout",
     "output_type": "stream",
     "text": [
      "Epoch 1/20\n",
      "7368/7368 [==============================] - ETA: 1:07 - loss: 0.2980 - acc: 0.375 - ETA: 37s - loss: 0.3006 - acc: 0.378 - ETA: 27s - loss: 0.2937 - acc: 0.53 - ETA: 22s - loss: 0.3044 - acc: 0.59 - ETA: 19s - loss: 0.2918 - acc: 0.51 - ETA: 17s - loss: 0.2810 - acc: 0.46 - ETA: 16s - loss: 0.2824 - acc: 0.42 - ETA: 14s - loss: 0.2816 - acc: 0.39 - ETA: 13s - loss: 0.2813 - acc: 0.43 - ETA: 13s - loss: 0.2809 - acc: 0.40 - ETA: 12s - loss: 0.2759 - acc: 0.42 - ETA: 11s - loss: 0.2762 - acc: 0.43 - ETA: 11s - loss: 0.2758 - acc: 0.42 - ETA: 10s - loss: 0.2739 - acc: 0.44 - ETA: 10s - loss: 0.2741 - acc: 0.46 - ETA: 9s - loss: 0.2743 - acc: 0.4604 - ETA: 9s - loss: 0.2707 - acc: 0.440 - ETA: 9s - loss: 0.2706 - acc: 0.450 - ETA: 8s - loss: 0.2682 - acc: 0.437 - ETA: 8s - loss: 0.2664 - acc: 0.460 - ETA: 8s - loss: 0.2691 - acc: 0.476 - ETA: 7s - loss: 0.2672 - acc: 0.462 - ETA: 7s - loss: 0.2698 - acc: 0.458 - ETA: 7s - loss: 0.2720 - acc: 0.474 - ETA: 7s - loss: 0.2733 - acc: 0.467 - ETA: 6s - loss: 0.2747 - acc: 0.478 - ETA: 6s - loss: 0.2758 - acc: 0.465 - ETA: 6s - loss: 0.2762 - acc: 0.472 - ETA: 6s - loss: 0.2756 - acc: 0.485 - ETA: 5s - loss: 0.2747 - acc: 0.485 - ETA: 5s - loss: 0.2748 - acc: 0.477 - ETA: 5s - loss: 0.2741 - acc: 0.489 - ETA: 5s - loss: 0.2734 - acc: 0.481 - ETA: 4s - loss: 0.2726 - acc: 0.476 - ETA: 4s - loss: 0.2730 - acc: 0.468 - ETA: 4s - loss: 0.2731 - acc: 0.478 - ETA: 4s - loss: 0.2736 - acc: 0.480 - ETA: 3s - loss: 0.2732 - acc: 0.476 - ETA: 3s - loss: 0.2724 - acc: 0.486 - ETA: 3s - loss: 0.2746 - acc: 0.477 - ETA: 3s - loss: 0.2729 - acc: 0.488 - ETA: 3s - loss: 0.2710 - acc: 0.496 - ETA: 2s - loss: 0.2704 - acc: 0.506 - ETA: 2s - loss: 0.2696 - acc: 0.501 - ETA: 2s - loss: 0.2694 - acc: 0.509 - ETA: 2s - loss: 0.2689 - acc: 0.503 - ETA: 2s - loss: 0.2686 - acc: 0.510 - ETA: 1s - loss: 0.2677 - acc: 0.503 - ETA: 1s - loss: 0.2669 - acc: 0.510 - ETA: 1s - loss: 0.2671 - acc: 0.503 - ETA: 1s - loss: 0.2657 - acc: 0.510 - ETA: 1s - loss: 0.2646 - acc: 0.509 - ETA: 0s - loss: 0.2635 - acc: 0.517 - ETA: 0s - loss: 0.2620 - acc: 0.516 - ETA: 0s - loss: 0.2609 - acc: 0.513 - ETA: 0s - loss: 0.2605 - acc: 0.520 - ETA: 0s - loss: 0.2633 - acc: 0.514 - 11s 2ms/step - loss: 0.2630 - acc: 0.5138\n",
      "Epoch 2/20\n",
      "7368/7368 [==============================] - ETA: 8s - loss: 0.2573 - acc: 0.664 - ETA: 9s - loss: 0.2294 - acc: 0.550 - ETA: 8s - loss: 0.2132 - acc: 0.505 - ETA: 8s - loss: 0.1905 - acc: 0.464 - ETA: 8s - loss: 0.1935 - acc: 0.521 - ETA: 8s - loss: 0.1866 - acc: 0.475 - ETA: 8s - loss: 0.2009 - acc: 0.524 - ETA: 8s - loss: 0.2088 - acc: 0.475 - ETA: 7s - loss: 0.2120 - acc: 0.493 - ETA: 7s - loss: 0.2093 - acc: 0.497 - ETA: 7s - loss: 0.2037 - acc: 0.515 - ETA: 7s - loss: 0.1973 - acc: 0.505 - ETA: 7s - loss: 0.1987 - acc: 0.539 - ETA: 7s - loss: 0.2127 - acc: 0.512 - ETA: 7s - loss: 0.2115 - acc: 0.541 - ETA: 6s - loss: 0.2094 - acc: 0.533 - ETA: 6s - loss: 0.2066 - acc: 0.559 - ETA: 6s - loss: 0.2023 - acc: 0.568 - ETA: 6s - loss: 0.1968 - acc: 0.581 - ETA: 6s - loss: 0.1913 - acc: 0.582 - ETA: 6s - loss: 0.1865 - acc: 0.581 - ETA: 5s - loss: 0.1831 - acc: 0.581 - ETA: 5s - loss: 0.1795 - acc: 0.575 - ETA: 5s - loss: 0.1760 - acc: 0.589 - ETA: 5s - loss: 0.1750 - acc: 0.574 - ETA: 5s - loss: 0.1736 - acc: 0.589 - ETA: 5s - loss: 0.1716 - acc: 0.579 - ETA: 4s - loss: 0.1671 - acc: 0.578 - ETA: 4s - loss: 0.1636 - acc: 0.582 - ETA: 4s - loss: 0.1608 - acc: 0.580 - ETA: 4s - loss: 0.1583 - acc: 0.578 - ETA: 4s - loss: 0.1559 - acc: 0.579 - ETA: 4s - loss: 0.1521 - acc: 0.576 - ETA: 3s - loss: 0.1489 - acc: 0.580 - ETA: 3s - loss: 0.1473 - acc: 0.583 - ETA: 3s - loss: 0.1440 - acc: 0.574 - ETA: 3s - loss: 0.1419 - acc: 0.574 - ETA: 3s - loss: 0.1395 - acc: 0.577 - ETA: 3s - loss: 0.1374 - acc: 0.573 - ETA: 2s - loss: 0.1357 - acc: 0.575 - ETA: 2s - loss: 0.1353 - acc: 0.572 - ETA: 2s - loss: 0.1367 - acc: 0.581 - ETA: 2s - loss: 0.1348 - acc: 0.576 - ETA: 2s - loss: 0.1334 - acc: 0.571 - ETA: 2s - loss: 0.1326 - acc: 0.568 - ETA: 1s - loss: 0.1310 - acc: 0.566 - ETA: 1s - loss: 0.1298 - acc: 0.564 - ETA: 1s - loss: 0.1282 - acc: 0.569 - ETA: 1s - loss: 0.1265 - acc: 0.569 - ETA: 1s - loss: 0.1259 - acc: 0.568 - ETA: 1s - loss: 0.1242 - acc: 0.567 - ETA: 0s - loss: 0.1233 - acc: 0.567 - ETA: 0s - loss: 0.1219 - acc: 0.568 - ETA: 0s - loss: 0.1200 - acc: 0.567 - ETA: 0s - loss: 0.1190 - acc: 0.567 - ETA: 0s - loss: 0.1181 - acc: 0.565 - ETA: 0s - loss: 0.1182 - acc: 0.569 - 10s 1ms/step - loss: 0.1180 - acc: 0.5661\n",
      "Epoch 3/20\n",
      "7368/7368 [==============================] - ETA: 9s - loss: 0.0861 - acc: 0.734 - ETA: 9s - loss: 0.0767 - acc: 0.597 - ETA: 9s - loss: 0.0765 - acc: 0.645 - ETA: 9s - loss: 0.0649 - acc: 0.572 - ETA: 8s - loss: 0.0663 - acc: 0.581 - ETA: 8s - loss: 0.0649 - acc: 0.578 - ETA: 8s - loss: 0.0644 - acc: 0.602 - ETA: 8s - loss: 0.0598 - acc: 0.601 - ETA: 8s - loss: 0.0574 - acc: 0.605 - ETA: 8s - loss: 0.0610 - acc: 0.610 - ETA: 7s - loss: 0.0588 - acc: 0.600 - ETA: 7s - loss: 0.0581 - acc: 0.586 - ETA: 7s - loss: 0.0592 - acc: 0.591 - ETA: 7s - loss: 0.0605 - acc: 0.584 - ETA: 7s - loss: 0.0599 - acc: 0.589 - ETA: 7s - loss: 0.0595 - acc: 0.583 - ETA: 6s - loss: 0.0577 - acc: 0.593 - ETA: 6s - loss: 0.0575 - acc: 0.597 - ETA: 6s - loss: 0.0577 - acc: 0.589 - ETA: 6s - loss: 0.0582 - acc: 0.598 - ETA: 6s - loss: 0.0593 - acc: 0.587 - ETA: 6s - loss: 0.0614 - acc: 0.591 - ETA: 5s - loss: 0.0612 - acc: 0.578 - ETA: 5s - loss: 0.0597 - acc: 0.584 - ETA: 5s - loss: 0.0584 - acc: 0.588 - ETA: 5s - loss: 0.0583 - acc: 0.590 - ETA: 5s - loss: 0.0578 - acc: 0.586 - ETA: 4s - loss: 0.0559 - acc: 0.590 - ETA: 4s - loss: 0.0559 - acc: 0.590 - ETA: 4s - loss: 0.0555 - acc: 0.583 - ETA: 4s - loss: 0.0564 - acc: 0.587 - ETA: 4s - loss: 0.0555 - acc: 0.589 - ETA: 4s - loss: 0.0550 - acc: 0.589 - ETA: 3s - loss: 0.0550 - acc: 0.590 - ETA: 3s - loss: 0.0548 - acc: 0.590 - ETA: 3s - loss: 0.0546 - acc: 0.589 - ETA: 3s - loss: 0.0551 - acc: 0.592 - ETA: 3s - loss: 0.0561 - acc: 0.586 - ETA: 3s - loss: 0.0573 - acc: 0.595 - ETA: 2s - loss: 0.0579 - acc: 0.590 - ETA: 2s - loss: 0.0569 - acc: 0.592 - ETA: 2s - loss: 0.0579 - acc: 0.594 - ETA: 2s - loss: 0.0591 - acc: 0.591 - ETA: 2s - loss: 0.0593 - acc: 0.593 - ETA: 2s - loss: 0.0588 - acc: 0.591 - ETA: 1s - loss: 0.0582 - acc: 0.589 - ETA: 1s - loss: 0.0570 - acc: 0.587 - ETA: 1s - loss: 0.0582 - acc: 0.586 - ETA: 1s - loss: 0.0590 - acc: 0.590 - ETA: 1s - loss: 0.0596 - acc: 0.586 - ETA: 1s - loss: 0.0590 - acc: 0.587 - ETA: 0s - loss: 0.0586 - acc: 0.587 - ETA: 0s - loss: 0.0585 - acc: 0.586 - ETA: 0s - loss: 0.0582 - acc: 0.583 - ETA: 0s - loss: 0.0578 - acc: 0.585 - ETA: 0s - loss: 0.0582 - acc: 0.584 - ETA: 0s - loss: 0.0586 - acc: 0.586 - 10s 1ms/step - loss: 0.0588 - acc: 0.5833\n",
      "Epoch 4/20\n"
     ]
    },
    {
     "name": "stdout",
     "output_type": "stream",
     "text": [
      "7368/7368 [==============================] - ETA: 9s - loss: 0.0280 - acc: 0.835 - ETA: 9s - loss: 0.0348 - acc: 0.750 - ETA: 9s - loss: 0.0490 - acc: 0.687 - ETA: 9s - loss: 0.0545 - acc: 0.679 - ETA: 8s - loss: 0.0465 - acc: 0.678 - ETA: 8s - loss: 0.0468 - acc: 0.656 - ETA: 8s - loss: 0.0493 - acc: 0.646 - ETA: 8s - loss: 0.0495 - acc: 0.659 - ETA: 8s - loss: 0.0559 - acc: 0.648 - ETA: 8s - loss: 0.0554 - acc: 0.655 - ETA: 7s - loss: 0.0539 - acc: 0.632 - ETA: 7s - loss: 0.0534 - acc: 0.623 - ETA: 7s - loss: 0.0523 - acc: 0.622 - ETA: 7s - loss: 0.0536 - acc: 0.612 - ETA: 7s - loss: 0.0556 - acc: 0.619 - ETA: 6s - loss: 0.0550 - acc: 0.621 - ETA: 6s - loss: 0.0541 - acc: 0.622 - ETA: 6s - loss: 0.0532 - acc: 0.626 - ETA: 6s - loss: 0.0547 - acc: 0.621 - ETA: 6s - loss: 0.0548 - acc: 0.628 - ETA: 6s - loss: 0.0546 - acc: 0.619 - ETA: 5s - loss: 0.0544 - acc: 0.621 - ETA: 5s - loss: 0.0533 - acc: 0.616 - ETA: 5s - loss: 0.0541 - acc: 0.617 - ETA: 5s - loss: 0.0540 - acc: 0.614 - ETA: 5s - loss: 0.0555 - acc: 0.615 - ETA: 5s - loss: 0.0558 - acc: 0.614 - ETA: 4s - loss: 0.0548 - acc: 0.609 - ETA: 4s - loss: 0.0558 - acc: 0.604 - ETA: 4s - loss: 0.0561 - acc: 0.600 - ETA: 4s - loss: 0.0561 - acc: 0.595 - ETA: 4s - loss: 0.0574 - acc: 0.598 - ETA: 4s - loss: 0.0571 - acc: 0.596 - ETA: 3s - loss: 0.0579 - acc: 0.596 - ETA: 3s - loss: 0.0570 - acc: 0.598 - ETA: 3s - loss: 0.0584 - acc: 0.600 - ETA: 3s - loss: 0.0583 - acc: 0.597 - ETA: 3s - loss: 0.0578 - acc: 0.600 - ETA: 3s - loss: 0.0579 - acc: 0.601 - ETA: 2s - loss: 0.0574 - acc: 0.596 - ETA: 2s - loss: 0.0572 - acc: 0.598 - ETA: 2s - loss: 0.0564 - acc: 0.596 - ETA: 2s - loss: 0.0562 - acc: 0.594 - ETA: 2s - loss: 0.0550 - acc: 0.596 - ETA: 2s - loss: 0.0546 - acc: 0.599 - ETA: 1s - loss: 0.0545 - acc: 0.598 - ETA: 1s - loss: 0.0544 - acc: 0.601 - ETA: 1s - loss: 0.0545 - acc: 0.597 - ETA: 1s - loss: 0.0541 - acc: 0.596 - ETA: 1s - loss: 0.0545 - acc: 0.597 - ETA: 1s - loss: 0.0542 - acc: 0.594 - ETA: 0s - loss: 0.0544 - acc: 0.593 - ETA: 0s - loss: 0.0545 - acc: 0.593 - ETA: 0s - loss: 0.0544 - acc: 0.592 - ETA: 0s - loss: 0.0544 - acc: 0.592 - ETA: 0s - loss: 0.0537 - acc: 0.597 - ETA: 0s - loss: 0.0532 - acc: 0.599 - 10s 1ms/step - loss: 0.0533 - acc: 0.6004\n",
      "Epoch 5/20\n",
      "7368/7368 [==============================] - ETA: 9s - loss: 0.0383 - acc: 0.476 - ETA: 9s - loss: 0.0382 - acc: 0.531 - ETA: 9s - loss: 0.0498 - acc: 0.536 - ETA: 9s - loss: 0.0543 - acc: 0.609 - ETA: 8s - loss: 0.0571 - acc: 0.617 - ETA: 8s - loss: 0.0508 - acc: 0.608 - ETA: 8s - loss: 0.0538 - acc: 0.600 - ETA: 8s - loss: 0.0558 - acc: 0.614 - ETA: 8s - loss: 0.0597 - acc: 0.611 - ETA: 8s - loss: 0.0591 - acc: 0.639 - ETA: 7s - loss: 0.0601 - acc: 0.639 - ETA: 7s - loss: 0.0599 - acc: 0.642 - ETA: 7s - loss: 0.0572 - acc: 0.640 - ETA: 7s - loss: 0.0563 - acc: 0.646 - ETA: 7s - loss: 0.0573 - acc: 0.641 - ETA: 6s - loss: 0.0568 - acc: 0.638 - ETA: 6s - loss: 0.0543 - acc: 0.633 - ETA: 6s - loss: 0.0545 - acc: 0.633 - ETA: 6s - loss: 0.0541 - acc: 0.633 - ETA: 6s - loss: 0.0545 - acc: 0.636 - ETA: 6s - loss: 0.0540 - acc: 0.647 - ETA: 5s - loss: 0.0552 - acc: 0.643 - ETA: 5s - loss: 0.0545 - acc: 0.646 - ETA: 5s - loss: 0.0536 - acc: 0.641 - ETA: 5s - loss: 0.0529 - acc: 0.645 - ETA: 5s - loss: 0.0533 - acc: 0.650 - ETA: 5s - loss: 0.0536 - acc: 0.642 - ETA: 4s - loss: 0.0530 - acc: 0.646 - ETA: 4s - loss: 0.0537 - acc: 0.645 - ETA: 4s - loss: 0.0537 - acc: 0.639 - ETA: 4s - loss: 0.0528 - acc: 0.640 - ETA: 4s - loss: 0.0533 - acc: 0.637 - ETA: 4s - loss: 0.0535 - acc: 0.642 - ETA: 3s - loss: 0.0533 - acc: 0.640 - ETA: 3s - loss: 0.0536 - acc: 0.647 - ETA: 3s - loss: 0.0531 - acc: 0.645 - ETA: 3s - loss: 0.0524 - acc: 0.645 - ETA: 3s - loss: 0.0526 - acc: 0.646 - ETA: 3s - loss: 0.0531 - acc: 0.643 - ETA: 2s - loss: 0.0521 - acc: 0.644 - ETA: 2s - loss: 0.0526 - acc: 0.643 - ETA: 2s - loss: 0.0531 - acc: 0.646 - ETA: 2s - loss: 0.0534 - acc: 0.643 - ETA: 2s - loss: 0.0531 - acc: 0.645 - ETA: 2s - loss: 0.0525 - acc: 0.644 - ETA: 1s - loss: 0.0532 - acc: 0.642 - ETA: 1s - loss: 0.0535 - acc: 0.641 - ETA: 1s - loss: 0.0536 - acc: 0.642 - ETA: 1s - loss: 0.0535 - acc: 0.641 - ETA: 1s - loss: 0.0530 - acc: 0.641 - ETA: 1s - loss: 0.0524 - acc: 0.640 - ETA: 0s - loss: 0.0527 - acc: 0.638 - ETA: 0s - loss: 0.0524 - acc: 0.636 - ETA: 0s - loss: 0.0527 - acc: 0.635 - ETA: 0s - loss: 0.0529 - acc: 0.637 - ETA: 0s - loss: 0.0529 - acc: 0.634 - ETA: 0s - loss: 0.0526 - acc: 0.636 - 10s 1ms/step - loss: 0.0533 - acc: 0.6369\n",
      "Epoch 6/20\n",
      "7368/7368 [==============================] - ETA: 9s - loss: 0.1530 - acc: 0.375 - ETA: 9s - loss: 0.0910 - acc: 0.617 - ETA: 9s - loss: 0.0677 - acc: 0.700 - ETA: 9s - loss: 0.0601 - acc: 0.703 - ETA: 8s - loss: 0.0557 - acc: 0.717 - ETA: 8s - loss: 0.0581 - acc: 0.708 - ETA: 8s - loss: 0.0551 - acc: 0.687 - ETA: 8s - loss: 0.0575 - acc: 0.666 - ETA: 8s - loss: 0.0577 - acc: 0.668 - ETA: 8s - loss: 0.0534 - acc: 0.673 - ETA: 7s - loss: 0.0506 - acc: 0.657 - ETA: 7s - loss: 0.0540 - acc: 0.655 - ETA: 7s - loss: 0.0546 - acc: 0.635 - ETA: 7s - loss: 0.0542 - acc: 0.641 - ETA: 7s - loss: 0.0552 - acc: 0.646 - ETA: 7s - loss: 0.0547 - acc: 0.643 - ETA: 6s - loss: 0.0543 - acc: 0.642 - ETA: 6s - loss: 0.0553 - acc: 0.645 - ETA: 6s - loss: 0.0560 - acc: 0.647 - ETA: 6s - loss: 0.0545 - acc: 0.651 - ETA: 6s - loss: 0.0543 - acc: 0.655 - ETA: 6s - loss: 0.0545 - acc: 0.651 - ETA: 5s - loss: 0.0546 - acc: 0.652 - ETA: 5s - loss: 0.0539 - acc: 0.651 - ETA: 5s - loss: 0.0546 - acc: 0.656 - ETA: 5s - loss: 0.0562 - acc: 0.655 - ETA: 5s - loss: 0.0567 - acc: 0.656 - ETA: 4s - loss: 0.0552 - acc: 0.651 - ETA: 4s - loss: 0.0553 - acc: 0.646 - ETA: 4s - loss: 0.0556 - acc: 0.648 - ETA: 4s - loss: 0.0550 - acc: 0.648 - ETA: 4s - loss: 0.0547 - acc: 0.647 - ETA: 4s - loss: 0.0555 - acc: 0.646 - ETA: 3s - loss: 0.0549 - acc: 0.647 - ETA: 3s - loss: 0.0553 - acc: 0.646 - ETA: 3s - loss: 0.0548 - acc: 0.648 - ETA: 3s - loss: 0.0546 - acc: 0.648 - ETA: 3s - loss: 0.0544 - acc: 0.647 - ETA: 3s - loss: 0.0539 - acc: 0.649 - ETA: 2s - loss: 0.0538 - acc: 0.648 - ETA: 2s - loss: 0.0525 - acc: 0.652 - ETA: 2s - loss: 0.0524 - acc: 0.653 - ETA: 2s - loss: 0.0537 - acc: 0.653 - ETA: 2s - loss: 0.0536 - acc: 0.653 - ETA: 2s - loss: 0.0529 - acc: 0.655 - ETA: 1s - loss: 0.0525 - acc: 0.654 - ETA: 1s - loss: 0.0527 - acc: 0.653 - ETA: 1s - loss: 0.0531 - acc: 0.656 - ETA: 1s - loss: 0.0525 - acc: 0.653 - ETA: 1s - loss: 0.0533 - acc: 0.653 - ETA: 1s - loss: 0.0527 - acc: 0.653 - ETA: 0s - loss: 0.0522 - acc: 0.652 - ETA: 0s - loss: 0.0525 - acc: 0.653 - ETA: 0s - loss: 0.0527 - acc: 0.650 - ETA: 0s - loss: 0.0526 - acc: 0.652 - ETA: 0s - loss: 0.0527 - acc: 0.653 - ETA: 0s - loss: 0.0522 - acc: 0.652 - 10s 1ms/step - loss: 0.0519 - acc: 0.6512\n",
      "Epoch 7/20\n"
     ]
    },
    {
     "name": "stdout",
     "output_type": "stream",
     "text": [
      "7368/7368 [==============================] - ETA: 8s - loss: 0.0244 - acc: 0.640 - ETA: 8s - loss: 0.0567 - acc: 0.652 - ETA: 8s - loss: 0.0455 - acc: 0.656 - ETA: 8s - loss: 0.0427 - acc: 0.658 - ETA: 8s - loss: 0.0483 - acc: 0.626 - ETA: 8s - loss: 0.0533 - acc: 0.645 - ETA: 8s - loss: 0.0531 - acc: 0.622 - ETA: 8s - loss: 0.0591 - acc: 0.630 - ETA: 7s - loss: 0.0554 - acc: 0.638 - ETA: 7s - loss: 0.0557 - acc: 0.642 - ETA: 7s - loss: 0.0518 - acc: 0.634 - ETA: 7s - loss: 0.0504 - acc: 0.640 - ETA: 7s - loss: 0.0500 - acc: 0.642 - ETA: 7s - loss: 0.0467 - acc: 0.647 - ETA: 7s - loss: 0.0492 - acc: 0.661 - ETA: 6s - loss: 0.0516 - acc: 0.647 - ETA: 6s - loss: 0.0508 - acc: 0.657 - ETA: 6s - loss: 0.0518 - acc: 0.658 - ETA: 6s - loss: 0.0511 - acc: 0.660 - ETA: 6s - loss: 0.0504 - acc: 0.661 - ETA: 6s - loss: 0.0518 - acc: 0.653 - ETA: 5s - loss: 0.0526 - acc: 0.657 - ETA: 5s - loss: 0.0518 - acc: 0.651 - ETA: 5s - loss: 0.0511 - acc: 0.647 - ETA: 5s - loss: 0.0492 - acc: 0.648 - ETA: 5s - loss: 0.0487 - acc: 0.648 - ETA: 5s - loss: 0.0481 - acc: 0.649 - ETA: 4s - loss: 0.0484 - acc: 0.651 - ETA: 4s - loss: 0.0487 - acc: 0.651 - ETA: 4s - loss: 0.0490 - acc: 0.650 - ETA: 4s - loss: 0.0491 - acc: 0.652 - ETA: 4s - loss: 0.0502 - acc: 0.647 - ETA: 4s - loss: 0.0503 - acc: 0.649 - ETA: 3s - loss: 0.0498 - acc: 0.649 - ETA: 3s - loss: 0.0487 - acc: 0.647 - ETA: 3s - loss: 0.0490 - acc: 0.645 - ETA: 3s - loss: 0.0495 - acc: 0.648 - ETA: 3s - loss: 0.0505 - acc: 0.652 - ETA: 3s - loss: 0.0512 - acc: 0.647 - ETA: 2s - loss: 0.0522 - acc: 0.645 - ETA: 2s - loss: 0.0521 - acc: 0.645 - ETA: 2s - loss: 0.0519 - acc: 0.646 - ETA: 2s - loss: 0.0526 - acc: 0.647 - ETA: 2s - loss: 0.0519 - acc: 0.646 - ETA: 2s - loss: 0.0518 - acc: 0.647 - ETA: 1s - loss: 0.0515 - acc: 0.647 - ETA: 1s - loss: 0.0511 - acc: 0.648 - ETA: 1s - loss: 0.0503 - acc: 0.647 - ETA: 1s - loss: 0.0498 - acc: 0.646 - ETA: 1s - loss: 0.0506 - acc: 0.644 - ETA: 1s - loss: 0.0505 - acc: 0.644 - ETA: 0s - loss: 0.0506 - acc: 0.643 - ETA: 0s - loss: 0.0505 - acc: 0.640 - ETA: 0s - loss: 0.0509 - acc: 0.639 - ETA: 0s - loss: 0.0508 - acc: 0.640 - ETA: 0s - loss: 0.0509 - acc: 0.641 - ETA: 0s - loss: 0.0511 - acc: 0.639 - 10s 1ms/step - loss: 0.0508 - acc: 0.6401\n",
      "Epoch 8/20\n",
      "7368/7368 [==============================] - ETA: 9s - loss: 0.1070 - acc: 0.695 - ETA: 8s - loss: 0.0830 - acc: 0.601 - ETA: 8s - loss: 0.0706 - acc: 0.614 - ETA: 8s - loss: 0.0782 - acc: 0.607 - ETA: 8s - loss: 0.0673 - acc: 0.632 - ETA: 8s - loss: 0.0618 - acc: 0.623 - ETA: 8s - loss: 0.0610 - acc: 0.617 - ETA: 8s - loss: 0.0580 - acc: 0.618 - ETA: 8s - loss: 0.0599 - acc: 0.629 - ETA: 8s - loss: 0.0574 - acc: 0.623 - ETA: 7s - loss: 0.0525 - acc: 0.620 - ETA: 7s - loss: 0.0519 - acc: 0.621 - ETA: 7s - loss: 0.0505 - acc: 0.618 - ETA: 7s - loss: 0.0510 - acc: 0.630 - ETA: 7s - loss: 0.0484 - acc: 0.627 - ETA: 7s - loss: 0.0503 - acc: 0.620 - ETA: 6s - loss: 0.0521 - acc: 0.627 - ETA: 6s - loss: 0.0525 - acc: 0.623 - ETA: 6s - loss: 0.0534 - acc: 0.622 - ETA: 6s - loss: 0.0547 - acc: 0.622 - ETA: 6s - loss: 0.0527 - acc: 0.620 - ETA: 5s - loss: 0.0515 - acc: 0.617 - ETA: 5s - loss: 0.0523 - acc: 0.617 - ETA: 5s - loss: 0.0516 - acc: 0.614 - ETA: 5s - loss: 0.0514 - acc: 0.613 - ETA: 5s - loss: 0.0508 - acc: 0.617 - ETA: 5s - loss: 0.0502 - acc: 0.618 - ETA: 4s - loss: 0.0509 - acc: 0.617 - ETA: 4s - loss: 0.0525 - acc: 0.612 - ETA: 4s - loss: 0.0527 - acc: 0.619 - ETA: 4s - loss: 0.0521 - acc: 0.621 - ETA: 4s - loss: 0.0516 - acc: 0.623 - ETA: 4s - loss: 0.0511 - acc: 0.625 - ETA: 3s - loss: 0.0512 - acc: 0.626 - ETA: 3s - loss: 0.0517 - acc: 0.621 - ETA: 3s - loss: 0.0516 - acc: 0.623 - ETA: 3s - loss: 0.0511 - acc: 0.619 - ETA: 3s - loss: 0.0516 - acc: 0.622 - ETA: 3s - loss: 0.0514 - acc: 0.620 - ETA: 2s - loss: 0.0513 - acc: 0.621 - ETA: 2s - loss: 0.0509 - acc: 0.624 - ETA: 2s - loss: 0.0516 - acc: 0.625 - ETA: 2s - loss: 0.0518 - acc: 0.626 - ETA: 2s - loss: 0.0514 - acc: 0.625 - ETA: 2s - loss: 0.0519 - acc: 0.629 - ETA: 1s - loss: 0.0513 - acc: 0.629 - ETA: 1s - loss: 0.0510 - acc: 0.629 - ETA: 1s - loss: 0.0516 - acc: 0.630 - ETA: 1s - loss: 0.0516 - acc: 0.629 - ETA: 1s - loss: 0.0514 - acc: 0.630 - ETA: 1s - loss: 0.0511 - acc: 0.630 - ETA: 0s - loss: 0.0508 - acc: 0.631 - ETA: 0s - loss: 0.0508 - acc: 0.631 - ETA: 0s - loss: 0.0514 - acc: 0.631 - ETA: 0s - loss: 0.0515 - acc: 0.635 - ETA: 0s - loss: 0.0509 - acc: 0.633 - ETA: 0s - loss: 0.0504 - acc: 0.631 - 10s 1ms/step - loss: 0.0504 - acc: 0.6311\n",
      "Epoch 9/20\n",
      "7368/7368 [==============================] - ETA: 9s - loss: 0.0805 - acc: 0.632 - ETA: 9s - loss: 0.0630 - acc: 0.613 - ETA: 9s - loss: 0.0612 - acc: 0.664 - ETA: 8s - loss: 0.0687 - acc: 0.677 - ETA: 8s - loss: 0.0685 - acc: 0.678 - ETA: 8s - loss: 0.0610 - acc: 0.699 - ETA: 8s - loss: 0.0642 - acc: 0.712 - ETA: 8s - loss: 0.0622 - acc: 0.694 - ETA: 8s - loss: 0.0595 - acc: 0.687 - ETA: 7s - loss: 0.0627 - acc: 0.676 - ETA: 7s - loss: 0.0613 - acc: 0.668 - ETA: 7s - loss: 0.0600 - acc: 0.665 - ETA: 7s - loss: 0.0644 - acc: 0.658 - ETA: 7s - loss: 0.0642 - acc: 0.662 - ETA: 7s - loss: 0.0616 - acc: 0.654 - ETA: 6s - loss: 0.0593 - acc: 0.652 - ETA: 6s - loss: 0.0579 - acc: 0.653 - ETA: 6s - loss: 0.0567 - acc: 0.654 - ETA: 6s - loss: 0.0550 - acc: 0.653 - ETA: 6s - loss: 0.0556 - acc: 0.653 - ETA: 6s - loss: 0.0535 - acc: 0.653 - ETA: 5s - loss: 0.0526 - acc: 0.651 - ETA: 5s - loss: 0.0529 - acc: 0.655 - ETA: 5s - loss: 0.0530 - acc: 0.653 - ETA: 5s - loss: 0.0523 - acc: 0.653 - ETA: 5s - loss: 0.0515 - acc: 0.654 - ETA: 5s - loss: 0.0509 - acc: 0.651 - ETA: 4s - loss: 0.0514 - acc: 0.650 - ETA: 4s - loss: 0.0512 - acc: 0.648 - ETA: 4s - loss: 0.0506 - acc: 0.646 - ETA: 4s - loss: 0.0501 - acc: 0.644 - ETA: 4s - loss: 0.0498 - acc: 0.649 - ETA: 4s - loss: 0.0497 - acc: 0.648 - ETA: 3s - loss: 0.0490 - acc: 0.647 - ETA: 3s - loss: 0.0482 - acc: 0.645 - ETA: 3s - loss: 0.0482 - acc: 0.641 - ETA: 3s - loss: 0.0491 - acc: 0.636 - ETA: 3s - loss: 0.0498 - acc: 0.641 - ETA: 3s - loss: 0.0485 - acc: 0.641 - ETA: 2s - loss: 0.0488 - acc: 0.639 - ETA: 2s - loss: 0.0484 - acc: 0.638 - ETA: 2s - loss: 0.0489 - acc: 0.638 - ETA: 2s - loss: 0.0504 - acc: 0.641 - ETA: 2s - loss: 0.0498 - acc: 0.640 - ETA: 2s - loss: 0.0497 - acc: 0.638 - ETA: 1s - loss: 0.0494 - acc: 0.638 - ETA: 1s - loss: 0.0498 - acc: 0.639 - ETA: 1s - loss: 0.0497 - acc: 0.640 - ETA: 1s - loss: 0.0503 - acc: 0.640 - ETA: 1s - loss: 0.0498 - acc: 0.643 - ETA: 1s - loss: 0.0506 - acc: 0.646 - ETA: 0s - loss: 0.0503 - acc: 0.644 - ETA: 0s - loss: 0.0506 - acc: 0.645 - ETA: 0s - loss: 0.0507 - acc: 0.644 - ETA: 0s - loss: 0.0507 - acc: 0.643 - ETA: 0s - loss: 0.0502 - acc: 0.644 - ETA: 0s - loss: 0.0503 - acc: 0.644 - 10s 1ms/step - loss: 0.0498 - acc: 0.6433\n",
      "Epoch 10/20\n"
     ]
    },
    {
     "name": "stdout",
     "output_type": "stream",
     "text": [
      "7368/7368 [==============================] - ETA: 9s - loss: 0.0454 - acc: 0.742 - ETA: 9s - loss: 0.0449 - acc: 0.742 - ETA: 9s - loss: 0.0452 - acc: 0.713 - ETA: 9s - loss: 0.0537 - acc: 0.675 - ETA: 8s - loss: 0.0432 - acc: 0.675 - ETA: 8s - loss: 0.0416 - acc: 0.679 - ETA: 8s - loss: 0.0404 - acc: 0.685 - ETA: 8s - loss: 0.0415 - acc: 0.686 - ETA: 8s - loss: 0.0421 - acc: 0.675 - ETA: 7s - loss: 0.0437 - acc: 0.685 - ETA: 7s - loss: 0.0490 - acc: 0.682 - ETA: 7s - loss: 0.0479 - acc: 0.683 - ETA: 7s - loss: 0.0493 - acc: 0.680 - ETA: 7s - loss: 0.0491 - acc: 0.687 - ETA: 7s - loss: 0.0466 - acc: 0.682 - ETA: 6s - loss: 0.0466 - acc: 0.679 - ETA: 6s - loss: 0.0505 - acc: 0.676 - ETA: 6s - loss: 0.0520 - acc: 0.672 - ETA: 6s - loss: 0.0523 - acc: 0.673 - ETA: 6s - loss: 0.0530 - acc: 0.666 - ETA: 6s - loss: 0.0522 - acc: 0.662 - ETA: 5s - loss: 0.0509 - acc: 0.660 - ETA: 5s - loss: 0.0506 - acc: 0.656 - ETA: 5s - loss: 0.0504 - acc: 0.653 - ETA: 5s - loss: 0.0494 - acc: 0.652 - ETA: 5s - loss: 0.0488 - acc: 0.650 - ETA: 5s - loss: 0.0504 - acc: 0.653 - ETA: 4s - loss: 0.0505 - acc: 0.650 - ETA: 4s - loss: 0.0496 - acc: 0.652 - ETA: 4s - loss: 0.0490 - acc: 0.651 - ETA: 4s - loss: 0.0493 - acc: 0.652 - ETA: 4s - loss: 0.0509 - acc: 0.650 - ETA: 4s - loss: 0.0508 - acc: 0.647 - ETA: 3s - loss: 0.0503 - acc: 0.644 - ETA: 3s - loss: 0.0501 - acc: 0.641 - ETA: 3s - loss: 0.0516 - acc: 0.641 - ETA: 3s - loss: 0.0511 - acc: 0.640 - ETA: 3s - loss: 0.0510 - acc: 0.641 - ETA: 3s - loss: 0.0512 - acc: 0.638 - ETA: 2s - loss: 0.0512 - acc: 0.642 - ETA: 2s - loss: 0.0522 - acc: 0.640 - ETA: 2s - loss: 0.0529 - acc: 0.642 - ETA: 2s - loss: 0.0528 - acc: 0.642 - ETA: 2s - loss: 0.0527 - acc: 0.643 - ETA: 2s - loss: 0.0525 - acc: 0.643 - ETA: 1s - loss: 0.0529 - acc: 0.644 - ETA: 1s - loss: 0.0530 - acc: 0.645 - ETA: 1s - loss: 0.0533 - acc: 0.644 - ETA: 1s - loss: 0.0531 - acc: 0.646 - ETA: 1s - loss: 0.0525 - acc: 0.647 - ETA: 1s - loss: 0.0522 - acc: 0.646 - ETA: 0s - loss: 0.0516 - acc: 0.646 - ETA: 0s - loss: 0.0513 - acc: 0.646 - ETA: 0s - loss: 0.0504 - acc: 0.646 - ETA: 0s - loss: 0.0505 - acc: 0.646 - ETA: 0s - loss: 0.0502 - acc: 0.646 - ETA: 0s - loss: 0.0498 - acc: 0.645 - 10s 1ms/step - loss: 0.0495 - acc: 0.6466\n",
      "Epoch 11/20\n",
      "7368/7368 [==============================] - ETA: 9s - loss: 0.0570 - acc: 0.804 - ETA: 9s - loss: 0.0617 - acc: 0.734 - ETA: 8s - loss: 0.0565 - acc: 0.755 - ETA: 8s - loss: 0.0591 - acc: 0.726 - ETA: 8s - loss: 0.0698 - acc: 0.735 - ETA: 8s - loss: 0.0677 - acc: 0.744 - ETA: 8s - loss: 0.0614 - acc: 0.718 - ETA: 8s - loss: 0.0622 - acc: 0.705 - ETA: 8s - loss: 0.0605 - acc: 0.711 - ETA: 7s - loss: 0.0568 - acc: 0.706 - ETA: 7s - loss: 0.0557 - acc: 0.708 - ETA: 7s - loss: 0.0539 - acc: 0.709 - ETA: 7s - loss: 0.0559 - acc: 0.710 - ETA: 7s - loss: 0.0543 - acc: 0.710 - ETA: 7s - loss: 0.0531 - acc: 0.707 - ETA: 6s - loss: 0.0519 - acc: 0.709 - ETA: 6s - loss: 0.0528 - acc: 0.708 - ETA: 6s - loss: 0.0505 - acc: 0.700 - ETA: 6s - loss: 0.0497 - acc: 0.699 - ETA: 6s - loss: 0.0484 - acc: 0.695 - ETA: 6s - loss: 0.0472 - acc: 0.690 - ETA: 5s - loss: 0.0481 - acc: 0.686 - ETA: 5s - loss: 0.0480 - acc: 0.680 - ETA: 5s - loss: 0.0497 - acc: 0.685 - ETA: 5s - loss: 0.0487 - acc: 0.682 - ETA: 5s - loss: 0.0500 - acc: 0.677 - ETA: 5s - loss: 0.0502 - acc: 0.683 - ETA: 5s - loss: 0.0504 - acc: 0.683 - ETA: 4s - loss: 0.0502 - acc: 0.684 - ETA: 4s - loss: 0.0497 - acc: 0.680 - ETA: 4s - loss: 0.0510 - acc: 0.677 - ETA: 4s - loss: 0.0509 - acc: 0.681 - ETA: 4s - loss: 0.0517 - acc: 0.679 - ETA: 3s - loss: 0.0532 - acc: 0.678 - ETA: 3s - loss: 0.0521 - acc: 0.681 - ETA: 3s - loss: 0.0519 - acc: 0.683 - ETA: 3s - loss: 0.0511 - acc: 0.685 - ETA: 3s - loss: 0.0503 - acc: 0.687 - ETA: 3s - loss: 0.0499 - acc: 0.686 - ETA: 2s - loss: 0.0509 - acc: 0.686 - ETA: 2s - loss: 0.0505 - acc: 0.684 - ETA: 2s - loss: 0.0520 - acc: 0.682 - ETA: 22s - loss: 0.0518 - acc: 0.68 - ETA: 20s - loss: 0.0517 - acc: 0.67 - ETA: 18s - loss: 0.0513 - acc: 0.67 - ETA: 16s - loss: 0.0517 - acc: 0.67 - ETA: 14s - loss: 0.0511 - acc: 0.67 - ETA: 13s - loss: 0.0507 - acc: 0.68 - ETA: 11s - loss: 0.0502 - acc: 0.68 - ETA: 10s - loss: 0.0503 - acc: 0.68 - ETA: 8s - loss: 0.0496 - acc: 0.6811 - ETA: 7s - loss: 0.0489 - acc: 0.682 - ETA: 5s - loss: 0.0485 - acc: 0.684 - ETA: 4s - loss: 0.0478 - acc: 0.683 - ETA: 3s - loss: 0.0484 - acc: 0.684 - ETA: 1s - loss: 0.0483 - acc: 0.683 - ETA: 0s - loss: 0.0487 - acc: 0.683 - 68s 9ms/step - loss: 0.0489 - acc: 0.6838\n",
      "Epoch 12/20\n",
      "7368/7368 [==============================] - ETA: 7s - loss: 0.0227 - acc: 0.796 - ETA: 7s - loss: 0.0289 - acc: 0.781 - ETA: 7s - loss: 0.0309 - acc: 0.737 - ETA: 7s - loss: 0.0377 - acc: 0.722 - ETA: 7s - loss: 0.0458 - acc: 0.693 - ETA: 7s - loss: 0.0460 - acc: 0.683 - ETA: 7s - loss: 0.0477 - acc: 0.676 - ETA: 7s - loss: 0.0419 - acc: 0.686 - ETA: 6s - loss: 0.0448 - acc: 0.697 - ETA: 6s - loss: 0.0462 - acc: 0.695 - ETA: 6s - loss: 0.0441 - acc: 0.683 - ETA: 6s - loss: 0.0435 - acc: 0.664 - ETA: 6s - loss: 0.0469 - acc: 0.658 - ETA: 6s - loss: 0.0476 - acc: 0.660 - ETA: 6s - loss: 0.0488 - acc: 0.654 - ETA: 6s - loss: 0.0486 - acc: 0.656 - ETA: 6s - loss: 0.0490 - acc: 0.657 - ETA: 5s - loss: 0.0494 - acc: 0.656 - ETA: 5s - loss: 0.0492 - acc: 0.652 - ETA: 5s - loss: 0.0501 - acc: 0.658 - ETA: 5s - loss: 0.0526 - acc: 0.654 - ETA: 5s - loss: 0.0513 - acc: 0.660 - ETA: 4s - loss: 0.0510 - acc: 0.663 - ETA: 4s - loss: 0.0503 - acc: 0.663 - ETA: 4s - loss: 0.0488 - acc: 0.665 - ETA: 4s - loss: 0.0491 - acc: 0.664 - ETA: 4s - loss: 0.0507 - acc: 0.658 - ETA: 4s - loss: 0.0505 - acc: 0.659 - ETA: 4s - loss: 0.0522 - acc: 0.660 - ETA: 3s - loss: 0.0516 - acc: 0.656 - ETA: 3s - loss: 0.0529 - acc: 0.654 - ETA: 3s - loss: 0.0523 - acc: 0.654 - ETA: 3s - loss: 0.0521 - acc: 0.654 - ETA: 3s - loss: 0.0509 - acc: 0.654 - ETA: 3s - loss: 0.0501 - acc: 0.655 - ETA: 3s - loss: 0.0500 - acc: 0.657 - ETA: 2s - loss: 0.0489 - acc: 0.658 - ETA: 2s - loss: 0.0491 - acc: 0.658 - ETA: 2s - loss: 0.0493 - acc: 0.658 - ETA: 2s - loss: 0.0495 - acc: 0.660 - ETA: 2s - loss: 0.0489 - acc: 0.661 - ETA: 2s - loss: 0.0496 - acc: 0.661 - ETA: 2s - loss: 0.0514 - acc: 0.665 - ETA: 1s - loss: 0.0508 - acc: 0.662 - ETA: 1s - loss: 0.0510 - acc: 0.661 - ETA: 1s - loss: 0.0504 - acc: 0.663 - ETA: 1s - loss: 0.0503 - acc: 0.663 - ETA: 1s - loss: 0.0502 - acc: 0.664 - ETA: 1s - loss: 0.0498 - acc: 0.664 - ETA: 1s - loss: 0.0495 - acc: 0.664 - ETA: 0s - loss: 0.0494 - acc: 0.664 - ETA: 0s - loss: 0.0498 - acc: 0.664 - ETA: 0s - loss: 0.0497 - acc: 0.666 - ETA: 0s - loss: 0.0499 - acc: 0.666 - ETA: 0s - loss: 0.0498 - acc: 0.666 - ETA: 0s - loss: 0.0491 - acc: 0.666 - ETA: 0s - loss: 0.0490 - acc: 0.667 - 8s 1ms/step - loss: 0.0489 - acc: 0.6669\n",
      "Epoch 13/20\n"
     ]
    },
    {
     "name": "stdout",
     "output_type": "stream",
     "text": [
      "7368/7368 [==============================] - ETA: 6s - loss: 0.0568 - acc: 0.617 - ETA: 7s - loss: 0.0400 - acc: 0.668 - ETA: 6s - loss: 0.0423 - acc: 0.669 - ETA: 6s - loss: 0.0347 - acc: 0.693 - ETA: 6s - loss: 0.0350 - acc: 0.693 - ETA: 6s - loss: 0.0349 - acc: 0.683 - ETA: 6s - loss: 0.0399 - acc: 0.665 - ETA: 6s - loss: 0.0395 - acc: 0.678 - ETA: 6s - loss: 0.0450 - acc: 0.671 - ETA: 6s - loss: 0.0416 - acc: 0.678 - ETA: 6s - loss: 0.0429 - acc: 0.679 - ETA: 5s - loss: 0.0442 - acc: 0.674 - ETA: 5s - loss: 0.0418 - acc: 0.672 - ETA: 5s - loss: 0.0412 - acc: 0.666 - ETA: 5s - loss: 0.0400 - acc: 0.672 - ETA: 5s - loss: 0.0409 - acc: 0.675 - ETA: 5s - loss: 0.0444 - acc: 0.678 - ETA: 5s - loss: 0.0451 - acc: 0.671 - ETA: 5s - loss: 0.0433 - acc: 0.670 - ETA: 4s - loss: 0.0434 - acc: 0.671 - ETA: 4s - loss: 0.0429 - acc: 0.670 - ETA: 4s - loss: 0.0432 - acc: 0.671 - ETA: 4s - loss: 0.0447 - acc: 0.666 - ETA: 4s - loss: 0.0438 - acc: 0.666 - ETA: 4s - loss: 0.0438 - acc: 0.663 - ETA: 4s - loss: 0.0439 - acc: 0.662 - ETA: 4s - loss: 0.0447 - acc: 0.663 - ETA: 3s - loss: 0.0444 - acc: 0.666 - ETA: 3s - loss: 0.0445 - acc: 0.666 - ETA: 3s - loss: 0.0442 - acc: 0.666 - ETA: 3s - loss: 0.0446 - acc: 0.668 - ETA: 3s - loss: 0.0443 - acc: 0.670 - ETA: 3s - loss: 0.0447 - acc: 0.662 - ETA: 3s - loss: 0.0458 - acc: 0.663 - ETA: 2s - loss: 0.0457 - acc: 0.658 - ETA: 2s - loss: 0.0451 - acc: 0.655 - ETA: 2s - loss: 0.0460 - acc: 0.656 - ETA: 2s - loss: 0.0454 - acc: 0.657 - ETA: 2s - loss: 0.0457 - acc: 0.659 - ETA: 2s - loss: 0.0454 - acc: 0.659 - ETA: 2s - loss: 0.0456 - acc: 0.658 - ETA: 2s - loss: 0.0459 - acc: 0.657 - ETA: 1s - loss: 0.0454 - acc: 0.660 - ETA: 1s - loss: 0.0466 - acc: 0.660 - ETA: 1s - loss: 0.0472 - acc: 0.661 - ETA: 1s - loss: 0.0467 - acc: 0.661 - ETA: 1s - loss: 0.0471 - acc: 0.663 - ETA: 1s - loss: 0.0481 - acc: 0.663 - ETA: 1s - loss: 0.0483 - acc: 0.665 - ETA: 0s - loss: 0.0480 - acc: 0.666 - ETA: 0s - loss: 0.0484 - acc: 0.668 - ETA: 0s - loss: 0.0481 - acc: 0.669 - ETA: 0s - loss: 0.0487 - acc: 0.671 - ETA: 0s - loss: 0.0488 - acc: 0.670 - ETA: 0s - loss: 0.0489 - acc: 0.669 - ETA: 0s - loss: 0.0491 - acc: 0.670 - ETA: 0s - loss: 0.0484 - acc: 0.670 - 8s 1ms/step - loss: 0.0488 - acc: 0.6706\n",
      "Epoch 14/20\n",
      "7368/7368 [==============================] - ETA: 6s - loss: 0.0465 - acc: 0.687 - ETA: 7s - loss: 0.0400 - acc: 0.668 - ETA: 7s - loss: 0.0415 - acc: 0.658 - ETA: 6s - loss: 0.0340 - acc: 0.671 - ETA: 6s - loss: 0.0388 - acc: 0.665 - ETA: 6s - loss: 0.0401 - acc: 0.645 - ETA: 6s - loss: 0.0378 - acc: 0.649 - ETA: 6s - loss: 0.0359 - acc: 0.645 - ETA: 6s - loss: 0.0356 - acc: 0.659 - ETA: 6s - loss: 0.0388 - acc: 0.664 - ETA: 6s - loss: 0.0405 - acc: 0.654 - ETA: 5s - loss: 0.0409 - acc: 0.664 - ETA: 5s - loss: 0.0403 - acc: 0.664 - ETA: 5s - loss: 0.0390 - acc: 0.666 - ETA: 5s - loss: 0.0393 - acc: 0.664 - ETA: 5s - loss: 0.0411 - acc: 0.669 - ETA: 5s - loss: 0.0407 - acc: 0.673 - ETA: 5s - loss: 0.0403 - acc: 0.678 - ETA: 5s - loss: 0.0400 - acc: 0.680 - ETA: 4s - loss: 0.0397 - acc: 0.682 - ETA: 4s - loss: 0.0400 - acc: 0.679 - ETA: 4s - loss: 0.0397 - acc: 0.680 - ETA: 4s - loss: 0.0404 - acc: 0.680 - ETA: 4s - loss: 0.0396 - acc: 0.679 - ETA: 4s - loss: 0.0407 - acc: 0.678 - ETA: 4s - loss: 0.0417 - acc: 0.683 - ETA: 4s - loss: 0.0411 - acc: 0.678 - ETA: 3s - loss: 0.0408 - acc: 0.674 - ETA: 3s - loss: 0.0429 - acc: 0.673 - ETA: 3s - loss: 0.0429 - acc: 0.675 - ETA: 3s - loss: 0.0426 - acc: 0.677 - ETA: 3s - loss: 0.0441 - acc: 0.675 - ETA: 3s - loss: 0.0451 - acc: 0.676 - ETA: 3s - loss: 0.0448 - acc: 0.674 - ETA: 3s - loss: 0.0441 - acc: 0.674 - ETA: 3s - loss: 0.0438 - acc: 0.673 - ETA: 2s - loss: 0.0454 - acc: 0.673 - ETA: 2s - loss: 0.0453 - acc: 0.676 - ETA: 2s - loss: 0.0462 - acc: 0.676 - ETA: 2s - loss: 0.0475 - acc: 0.678 - ETA: 2s - loss: 0.0474 - acc: 0.676 - ETA: 2s - loss: 0.0477 - acc: 0.673 - ETA: 2s - loss: 0.0477 - acc: 0.675 - ETA: 2s - loss: 0.0488 - acc: 0.679 - ETA: 1s - loss: 0.0482 - acc: 0.676 - ETA: 1s - loss: 0.0482 - acc: 0.674 - ETA: 1s - loss: 0.0478 - acc: 0.673 - ETA: 1s - loss: 0.0476 - acc: 0.673 - ETA: 1s - loss: 0.0477 - acc: 0.674 - ETA: 1s - loss: 0.0479 - acc: 0.674 - ETA: 1s - loss: 0.0476 - acc: 0.673 - ETA: 0s - loss: 0.0482 - acc: 0.674 - ETA: 0s - loss: 0.0488 - acc: 0.673 - ETA: 0s - loss: 0.0487 - acc: 0.672 - ETA: 0s - loss: 0.0486 - acc: 0.674 - ETA: 0s - loss: 0.0486 - acc: 0.673 - ETA: 0s - loss: 0.0485 - acc: 0.673 - 9s 1ms/step - loss: 0.0485 - acc: 0.6732\n",
      "Epoch 15/20\n",
      "7368/7368 [==============================] - ETA: 7s - loss: 0.0699 - acc: 0.546 - ETA: 7s - loss: 0.0409 - acc: 0.613 - ETA: 7s - loss: 0.0605 - acc: 0.653 - ETA: 7s - loss: 0.0539 - acc: 0.615 - ETA: 7s - loss: 0.0519 - acc: 0.607 - ETA: 7s - loss: 0.0452 - acc: 0.617 - ETA: 7s - loss: 0.0482 - acc: 0.618 - ETA: 7s - loss: 0.0534 - acc: 0.628 - ETA: 6s - loss: 0.0488 - acc: 0.638 - ETA: 6s - loss: 0.0472 - acc: 0.653 - ETA: 6s - loss: 0.0483 - acc: 0.659 - ETA: 6s - loss: 0.0509 - acc: 0.672 - ETA: 6s - loss: 0.0530 - acc: 0.673 - ETA: 6s - loss: 0.0508 - acc: 0.677 - ETA: 6s - loss: 0.0518 - acc: 0.682 - ETA: 5s - loss: 0.0507 - acc: 0.688 - ETA: 5s - loss: 0.0497 - acc: 0.690 - ETA: 5s - loss: 0.0506 - acc: 0.684 - ETA: 5s - loss: 0.0533 - acc: 0.686 - ETA: 5s - loss: 0.0539 - acc: 0.683 - ETA: 5s - loss: 0.0566 - acc: 0.689 - ETA: 4s - loss: 0.0551 - acc: 0.689 - ETA: 4s - loss: 0.0542 - acc: 0.688 - ETA: 4s - loss: 0.0556 - acc: 0.684 - ETA: 4s - loss: 0.0552 - acc: 0.681 - ETA: 4s - loss: 0.0539 - acc: 0.681 - ETA: 4s - loss: 0.0540 - acc: 0.675 - ETA: 4s - loss: 0.0548 - acc: 0.676 - ETA: 3s - loss: 0.0545 - acc: 0.674 - ETA: 3s - loss: 0.0542 - acc: 0.679 - ETA: 3s - loss: 0.0539 - acc: 0.677 - ETA: 3s - loss: 0.0543 - acc: 0.677 - ETA: 3s - loss: 0.0533 - acc: 0.675 - ETA: 3s - loss: 0.0537 - acc: 0.676 - ETA: 3s - loss: 0.0539 - acc: 0.677 - ETA: 2s - loss: 0.0543 - acc: 0.675 - ETA: 2s - loss: 0.0547 - acc: 0.679 - ETA: 2s - loss: 0.0533 - acc: 0.680 - ETA: 2s - loss: 0.0533 - acc: 0.682 - ETA: 2s - loss: 0.0542 - acc: 0.684 - ETA: 2s - loss: 0.0532 - acc: 0.685 - ETA: 2s - loss: 0.0530 - acc: 0.685 - ETA: 1s - loss: 0.0523 - acc: 0.683 - ETA: 1s - loss: 0.0521 - acc: 0.682 - ETA: 1s - loss: 0.0512 - acc: 0.683 - ETA: 1s - loss: 0.0506 - acc: 0.682 - ETA: 1s - loss: 0.0503 - acc: 0.683 - ETA: 1s - loss: 0.0500 - acc: 0.683 - ETA: 1s - loss: 0.0510 - acc: 0.682 - ETA: 1s - loss: 0.0507 - acc: 0.681 - ETA: 0s - loss: 0.0502 - acc: 0.681 - ETA: 0s - loss: 0.0502 - acc: 0.680 - ETA: 0s - loss: 0.0495 - acc: 0.679 - ETA: 0s - loss: 0.0488 - acc: 0.678 - ETA: 0s - loss: 0.0486 - acc: 0.677 - ETA: 0s - loss: 0.0489 - acc: 0.675 - ETA: 0s - loss: 0.0487 - acc: 0.675 - 8s 1ms/step - loss: 0.0484 - acc: 0.6762\n",
      "Epoch 16/20\n"
     ]
    },
    {
     "name": "stdout",
     "output_type": "stream",
     "text": [
      "7368/7368 [==============================] - ETA: 7s - loss: 0.0222 - acc: 0.679 - ETA: 7s - loss: 0.0390 - acc: 0.652 - ETA: 7s - loss: 0.0299 - acc: 0.690 - ETA: 7s - loss: 0.0389 - acc: 0.687 - ETA: 7s - loss: 0.0444 - acc: 0.685 - ETA: 7s - loss: 0.0448 - acc: 0.691 - ETA: 7s - loss: 0.0448 - acc: 0.670 - ETA: 6s - loss: 0.0477 - acc: 0.669 - ETA: 6s - loss: 0.0487 - acc: 0.684 - ETA: 6s - loss: 0.0450 - acc: 0.693 - ETA: 6s - loss: 0.0441 - acc: 0.698 - ETA: 6s - loss: 0.0423 - acc: 0.703 - ETA: 6s - loss: 0.0442 - acc: 0.691 - ETA: 6s - loss: 0.0459 - acc: 0.688 - ETA: 5s - loss: 0.0465 - acc: 0.685 - ETA: 5s - loss: 0.0477 - acc: 0.683 - ETA: 5s - loss: 0.0495 - acc: 0.688 - ETA: 5s - loss: 0.0474 - acc: 0.687 - ETA: 5s - loss: 0.0496 - acc: 0.691 - ETA: 5s - loss: 0.0511 - acc: 0.690 - ETA: 5s - loss: 0.0498 - acc: 0.696 - ETA: 4s - loss: 0.0525 - acc: 0.693 - ETA: 4s - loss: 0.0535 - acc: 0.697 - ETA: 4s - loss: 0.0523 - acc: 0.697 - ETA: 4s - loss: 0.0542 - acc: 0.694 - ETA: 4s - loss: 0.0542 - acc: 0.693 - ETA: 4s - loss: 0.0547 - acc: 0.693 - ETA: 4s - loss: 0.0535 - acc: 0.693 - ETA: 3s - loss: 0.0524 - acc: 0.696 - ETA: 3s - loss: 0.0525 - acc: 0.697 - ETA: 3s - loss: 0.0533 - acc: 0.698 - ETA: 3s - loss: 0.0524 - acc: 0.703 - ETA: 3s - loss: 0.0512 - acc: 0.706 - ETA: 3s - loss: 0.0503 - acc: 0.708 - ETA: 3s - loss: 0.0512 - acc: 0.711 - ETA: 2s - loss: 0.0501 - acc: 0.710 - ETA: 2s - loss: 0.0496 - acc: 0.710 - ETA: 2s - loss: 0.0492 - acc: 0.712 - ETA: 2s - loss: 0.0494 - acc: 0.711 - ETA: 2s - loss: 0.0487 - acc: 0.712 - ETA: 2s - loss: 0.0484 - acc: 0.712 - ETA: 2s - loss: 0.0490 - acc: 0.711 - ETA: 1s - loss: 0.0494 - acc: 0.712 - ETA: 1s - loss: 0.0498 - acc: 0.710 - ETA: 1s - loss: 0.0499 - acc: 0.709 - ETA: 1s - loss: 0.0506 - acc: 0.708 - ETA: 1s - loss: 0.0503 - acc: 0.711 - ETA: 1s - loss: 0.0504 - acc: 0.712 - ETA: 1s - loss: 0.0501 - acc: 0.713 - ETA: 1s - loss: 0.0498 - acc: 0.713 - ETA: 0s - loss: 0.0497 - acc: 0.713 - ETA: 0s - loss: 0.0492 - acc: 0.712 - ETA: 0s - loss: 0.0489 - acc: 0.711 - ETA: 0s - loss: 0.0492 - acc: 0.712 - ETA: 0s - loss: 0.0490 - acc: 0.714 - ETA: 0s - loss: 0.0485 - acc: 0.715 - ETA: 0s - loss: 0.0482 - acc: 0.715 - 8s 1ms/step - loss: 0.0481 - acc: 0.7169\n",
      "Epoch 17/20\n",
      "7368/7368 [==============================] - ETA: 7s - loss: 0.0125 - acc: 0.601 - ETA: 6s - loss: 0.0282 - acc: 0.648 - ETA: 6s - loss: 0.0335 - acc: 0.695 - ETA: 7s - loss: 0.0361 - acc: 0.693 - ETA: 7s - loss: 0.0337 - acc: 0.689 - ETA: 7s - loss: 0.0396 - acc: 0.709 - ETA: 6s - loss: 0.0373 - acc: 0.704 - ETA: 6s - loss: 0.0385 - acc: 0.681 - ETA: 6s - loss: 0.0404 - acc: 0.686 - ETA: 6s - loss: 0.0387 - acc: 0.678 - ETA: 6s - loss: 0.0383 - acc: 0.682 - ETA: 6s - loss: 0.0406 - acc: 0.686 - ETA: 6s - loss: 0.0376 - acc: 0.683 - ETA: 5s - loss: 0.0389 - acc: 0.683 - ETA: 5s - loss: 0.0393 - acc: 0.693 - ETA: 5s - loss: 0.0404 - acc: 0.697 - ETA: 5s - loss: 0.0406 - acc: 0.693 - ETA: 5s - loss: 0.0396 - acc: 0.697 - ETA: 5s - loss: 0.0404 - acc: 0.696 - ETA: 5s - loss: 0.0422 - acc: 0.697 - ETA: 4s - loss: 0.0439 - acc: 0.697 - ETA: 4s - loss: 0.0439 - acc: 0.697 - ETA: 4s - loss: 0.0458 - acc: 0.697 - ETA: 4s - loss: 0.0458 - acc: 0.699 - ETA: 4s - loss: 0.0470 - acc: 0.699 - ETA: 4s - loss: 0.0482 - acc: 0.701 - ETA: 4s - loss: 0.0481 - acc: 0.696 - ETA: 3s - loss: 0.0495 - acc: 0.700 - ETA: 3s - loss: 0.0490 - acc: 0.699 - ETA: 3s - loss: 0.0481 - acc: 0.699 - ETA: 3s - loss: 0.0480 - acc: 0.698 - ETA: 3s - loss: 0.0482 - acc: 0.699 - ETA: 3s - loss: 0.0481 - acc: 0.700 - ETA: 3s - loss: 0.0470 - acc: 0.701 - ETA: 3s - loss: 0.0479 - acc: 0.700 - ETA: 2s - loss: 0.0484 - acc: 0.702 - ETA: 2s - loss: 0.0479 - acc: 0.703 - ETA: 2s - loss: 0.0487 - acc: 0.701 - ETA: 2s - loss: 0.0494 - acc: 0.699 - ETA: 2s - loss: 0.0496 - acc: 0.699 - ETA: 2s - loss: 0.0487 - acc: 0.698 - ETA: 2s - loss: 0.0488 - acc: 0.698 - ETA: 1s - loss: 0.0490 - acc: 0.695 - ETA: 1s - loss: 0.0494 - acc: 0.697 - ETA: 1s - loss: 0.0496 - acc: 0.696 - ETA: 1s - loss: 0.0495 - acc: 0.694 - ETA: 1s - loss: 0.0498 - acc: 0.694 - ETA: 1s - loss: 0.0497 - acc: 0.695 - ETA: 1s - loss: 0.0494 - acc: 0.694 - ETA: 1s - loss: 0.0491 - acc: 0.696 - ETA: 0s - loss: 0.0492 - acc: 0.697 - ETA: 0s - loss: 0.0496 - acc: 0.694 - ETA: 0s - loss: 0.0497 - acc: 0.694 - ETA: 0s - loss: 0.0490 - acc: 0.694 - ETA: 0s - loss: 0.0489 - acc: 0.694 - ETA: 0s - loss: 0.0487 - acc: 0.694 - ETA: 0s - loss: 0.0484 - acc: 0.693 - 8s 1ms/step - loss: 0.0481 - acc: 0.6935\n",
      "Epoch 18/20\n",
      "7368/7368 [==============================] - ETA: 7s - loss: 0.1154 - acc: 0.601 - ETA: 7s - loss: 0.0928 - acc: 0.753 - ETA: 7s - loss: 0.0842 - acc: 0.744 - ETA: 7s - loss: 0.0688 - acc: 0.738 - ETA: 7s - loss: 0.0664 - acc: 0.717 - ETA: 7s - loss: 0.0664 - acc: 0.729 - ETA: 7s - loss: 0.0603 - acc: 0.724 - ETA: 7s - loss: 0.0541 - acc: 0.725 - ETA: 7s - loss: 0.0578 - acc: 0.725 - ETA: 7s - loss: 0.0576 - acc: 0.728 - ETA: 7s - loss: 0.0584 - acc: 0.720 - ETA: 7s - loss: 0.0563 - acc: 0.720 - ETA: 6s - loss: 0.0555 - acc: 0.723 - ETA: 6s - loss: 0.0547 - acc: 0.721 - ETA: 6s - loss: 0.0534 - acc: 0.718 - ETA: 6s - loss: 0.0521 - acc: 0.719 - ETA: 6s - loss: 0.0530 - acc: 0.721 - ETA: 6s - loss: 0.0555 - acc: 0.723 - ETA: 6s - loss: 0.0561 - acc: 0.721 - ETA: 6s - loss: 0.0538 - acc: 0.723 - ETA: 5s - loss: 0.0533 - acc: 0.722 - ETA: 5s - loss: 0.0534 - acc: 0.721 - ETA: 5s - loss: 0.0526 - acc: 0.719 - ETA: 5s - loss: 0.0514 - acc: 0.721 - ETA: 5s - loss: 0.0516 - acc: 0.718 - ETA: 5s - loss: 0.0509 - acc: 0.715 - ETA: 5s - loss: 0.0499 - acc: 0.711 - ETA: 4s - loss: 0.0508 - acc: 0.711 - ETA: 4s - loss: 0.0514 - acc: 0.710 - ETA: 4s - loss: 0.0504 - acc: 0.706 - ETA: 4s - loss: 0.0491 - acc: 0.705 - ETA: 4s - loss: 0.0486 - acc: 0.707 - ETA: 4s - loss: 0.0485 - acc: 0.704 - ETA: 3s - loss: 0.0481 - acc: 0.702 - ETA: 3s - loss: 0.0477 - acc: 0.701 - ETA: 3s - loss: 0.0473 - acc: 0.702 - ETA: 3s - loss: 0.0463 - acc: 0.702 - ETA: 3s - loss: 0.0471 - acc: 0.701 - ETA: 3s - loss: 0.0474 - acc: 0.698 - ETA: 2s - loss: 0.0487 - acc: 0.696 - ETA: 2s - loss: 0.0486 - acc: 0.699 - ETA: 2s - loss: 0.0493 - acc: 0.698 - ETA: 2s - loss: 0.0489 - acc: 0.698 - ETA: 2s - loss: 0.0485 - acc: 0.697 - ETA: 2s - loss: 0.0487 - acc: 0.697 - ETA: 1s - loss: 0.0479 - acc: 0.698 - ETA: 1s - loss: 0.0478 - acc: 0.698 - ETA: 1s - loss: 0.0470 - acc: 0.697 - ETA: 1s - loss: 0.0477 - acc: 0.694 - ETA: 1s - loss: 0.0476 - acc: 0.692 - ETA: 1s - loss: 0.0482 - acc: 0.690 - ETA: 0s - loss: 0.0483 - acc: 0.688 - ETA: 0s - loss: 0.0484 - acc: 0.686 - ETA: 0s - loss: 0.0476 - acc: 0.686 - ETA: 0s - loss: 0.0477 - acc: 0.684 - ETA: 0s - loss: 0.0478 - acc: 0.685 - ETA: 0s - loss: 0.0480 - acc: 0.686 - 10s 1ms/step - loss: 0.0479 - acc: 0.6843\n",
      "Epoch 19/20\n"
     ]
    },
    {
     "name": "stdout",
     "output_type": "stream",
     "text": [
      "7368/7368 [==============================] - ETA: 9s - loss: 0.0655 - acc: 0.656 - ETA: 9s - loss: 0.0603 - acc: 0.628 - ETA: 9s - loss: 0.0550 - acc: 0.630 - ETA: 9s - loss: 0.0442 - acc: 0.666 - ETA: 9s - loss: 0.0528 - acc: 0.668 - ETA: 8s - loss: 0.0552 - acc: 0.694 - ETA: 8s - loss: 0.0521 - acc: 0.694 - ETA: 7s - loss: 0.0510 - acc: 0.687 - ETA: 7s - loss: 0.0515 - acc: 0.690 - ETA: 7s - loss: 0.0519 - acc: 0.682 - ETA: 7s - loss: 0.0512 - acc: 0.690 - ETA: 7s - loss: 0.0506 - acc: 0.687 - ETA: 6s - loss: 0.0476 - acc: 0.690 - ETA: 6s - loss: 0.0489 - acc: 0.693 - ETA: 6s - loss: 0.0486 - acc: 0.689 - ETA: 6s - loss: 0.0484 - acc: 0.685 - ETA: 6s - loss: 0.0526 - acc: 0.690 - ETA: 5s - loss: 0.0510 - acc: 0.685 - ETA: 5s - loss: 0.0512 - acc: 0.680 - ETA: 5s - loss: 0.0492 - acc: 0.680 - ETA: 5s - loss: 0.0500 - acc: 0.680 - ETA: 5s - loss: 0.0498 - acc: 0.682 - ETA: 5s - loss: 0.0500 - acc: 0.689 - ETA: 4s - loss: 0.0507 - acc: 0.689 - ETA: 4s - loss: 0.0495 - acc: 0.696 - ETA: 4s - loss: 0.0497 - acc: 0.695 - ETA: 4s - loss: 0.0491 - acc: 0.696 - ETA: 4s - loss: 0.0486 - acc: 0.693 - ETA: 4s - loss: 0.0477 - acc: 0.693 - ETA: 4s - loss: 0.0480 - acc: 0.692 - ETA: 3s - loss: 0.0475 - acc: 0.693 - ETA: 3s - loss: 0.0484 - acc: 0.695 - ETA: 3s - loss: 0.0499 - acc: 0.698 - ETA: 3s - loss: 0.0495 - acc: 0.698 - ETA: 3s - loss: 0.0506 - acc: 0.699 - ETA: 3s - loss: 0.0507 - acc: 0.696 - ETA: 3s - loss: 0.0502 - acc: 0.695 - ETA: 2s - loss: 0.0495 - acc: 0.695 - ETA: 2s - loss: 0.0502 - acc: 0.695 - ETA: 2s - loss: 0.0495 - acc: 0.698 - ETA: 2s - loss: 0.0494 - acc: 0.699 - ETA: 2s - loss: 0.0490 - acc: 0.698 - ETA: 2s - loss: 0.0489 - acc: 0.699 - ETA: 1s - loss: 0.0488 - acc: 0.699 - ETA: 1s - loss: 0.0485 - acc: 0.701 - ETA: 1s - loss: 0.0477 - acc: 0.701 - ETA: 1s - loss: 0.0479 - acc: 0.702 - ETA: 1s - loss: 0.0478 - acc: 0.699 - ETA: 1s - loss: 0.0484 - acc: 0.698 - ETA: 1s - loss: 0.0479 - acc: 0.698 - ETA: 0s - loss: 0.0476 - acc: 0.700 - ETA: 0s - loss: 0.0475 - acc: 0.700 - ETA: 0s - loss: 0.0473 - acc: 0.701 - ETA: 0s - loss: 0.0474 - acc: 0.701 - ETA: 0s - loss: 0.0470 - acc: 0.701 - ETA: 0s - loss: 0.0476 - acc: 0.701 - ETA: 0s - loss: 0.0477 - acc: 0.699 - 8s 1ms/step - loss: 0.0476 - acc: 0.7003\n",
      "Epoch 20/20\n",
      "7368/7368 [==============================] - ETA: 8s - loss: 0.0568 - acc: 0.687 - ETA: 7s - loss: 0.0509 - acc: 0.800 - ETA: 7s - loss: 0.0524 - acc: 0.804 - ETA: 7s - loss: 0.0503 - acc: 0.791 - ETA: 7s - loss: 0.0447 - acc: 0.795 - ETA: 6s - loss: 0.0446 - acc: 0.791 - ETA: 6s - loss: 0.0461 - acc: 0.787 - ETA: 6s - loss: 0.0448 - acc: 0.785 - ETA: 6s - loss: 0.0447 - acc: 0.777 - ETA: 6s - loss: 0.0468 - acc: 0.764 - ETA: 6s - loss: 0.0456 - acc: 0.757 - ETA: 6s - loss: 0.0464 - acc: 0.758 - ETA: 5s - loss: 0.0464 - acc: 0.763 - ETA: 5s - loss: 0.0501 - acc: 0.751 - ETA: 5s - loss: 0.0497 - acc: 0.749 - ETA: 5s - loss: 0.0480 - acc: 0.746 - ETA: 5s - loss: 0.0478 - acc: 0.743 - ETA: 5s - loss: 0.0475 - acc: 0.744 - ETA: 5s - loss: 0.0468 - acc: 0.739 - ETA: 5s - loss: 0.0478 - acc: 0.743 - ETA: 4s - loss: 0.0466 - acc: 0.736 - ETA: 4s - loss: 0.0460 - acc: 0.735 - ETA: 4s - loss: 0.0450 - acc: 0.731 - ETA: 4s - loss: 0.0454 - acc: 0.726 - ETA: 4s - loss: 0.0462 - acc: 0.729 - ETA: 4s - loss: 0.0461 - acc: 0.726 - ETA: 4s - loss: 0.0461 - acc: 0.726 - ETA: 3s - loss: 0.0479 - acc: 0.725 - ETA: 3s - loss: 0.0474 - acc: 0.722 - ETA: 3s - loss: 0.0470 - acc: 0.724 - ETA: 3s - loss: 0.0469 - acc: 0.720 - ETA: 3s - loss: 0.0475 - acc: 0.718 - ETA: 3s - loss: 0.0477 - acc: 0.721 - ETA: 3s - loss: 0.0473 - acc: 0.724 - ETA: 3s - loss: 0.0469 - acc: 0.722 - ETA: 2s - loss: 0.0469 - acc: 0.722 - ETA: 2s - loss: 0.0477 - acc: 0.720 - ETA: 2s - loss: 0.0485 - acc: 0.719 - ETA: 2s - loss: 0.0483 - acc: 0.721 - ETA: 2s - loss: 0.0480 - acc: 0.721 - ETA: 2s - loss: 0.0478 - acc: 0.721 - ETA: 2s - loss: 0.0472 - acc: 0.721 - ETA: 1s - loss: 0.0469 - acc: 0.720 - ETA: 1s - loss: 0.0466 - acc: 0.721 - ETA: 1s - loss: 0.0465 - acc: 0.719 - ETA: 1s - loss: 0.0463 - acc: 0.718 - ETA: 1s - loss: 0.0455 - acc: 0.717 - ETA: 1s - loss: 0.0457 - acc: 0.715 - ETA: 1s - loss: 0.0459 - acc: 0.712 - ETA: 1s - loss: 0.0465 - acc: 0.710 - ETA: 0s - loss: 0.0482 - acc: 0.710 - ETA: 0s - loss: 0.0479 - acc: 0.709 - ETA: 0s - loss: 0.0474 - acc: 0.708 - ETA: 0s - loss: 0.0471 - acc: 0.708 - ETA: 0s - loss: 0.0475 - acc: 0.706 - ETA: 0s - loss: 0.0478 - acc: 0.704 - ETA: 0s - loss: 0.0474 - acc: 0.702 - 8s 1ms/step - loss: 0.0475 - acc: 0.7029\n"
     ]
    },
    {
     "data": {
      "text/plain": [
       "<keras.callbacks.History at 0x13b441dacf8>"
      ]
     },
     "execution_count": 44,
     "metadata": {},
     "output_type": "execute_result"
    }
   ],
   "source": [
    "\n",
    "\n",
    "input_shape = (3, 2048, 1)\n",
    "\n",
    "model = Sequential()\n",
    "model.add(Conv2D(32, kernel_size=(2, 2),\n",
    "                 activation='relu',\n",
    "                 input_shape=input_shape))\n",
    "model.add(Conv2D(64, (2, 2), activation='relu'))\n",
    "model.add(Dropout(0.25))\n",
    "model.add(Flatten())\n",
    "model.add(Dense(128, activation='relu'))\n",
    "model.add(Dropout(0.5))\n",
    "model.add(Dense(2, activation='softmax'))\n",
    "\n",
    "model.compile(loss=keras.losses.categorical_crossentropy,\n",
    "              optimizer=keras.optimizers.Adadelta(),\n",
    "              metrics=['accuracy'])\n",
    "\n",
    "batch_size = 128\n",
    "epochs = 20\n",
    "\n",
    "model.fit(x_train, y_train,\n",
    "          batch_size=batch_size,\n",
    "          epochs=epochs,\n",
    "          verbose=1)\n",
    "# score = model.evaluate(x_test, y_test, verbose=0)\n",
    "# print('Test loss:', score[0])\n",
    "# print('Test accuracy:', score[1])"
   ]
  },
  {
   "cell_type": "code",
   "execution_count": 45,
   "metadata": {},
   "outputs": [],
   "source": [
    "# model.save('model20181211_7029.h5')"
   ]
  },
  {
   "cell_type": "markdown",
   "metadata": {},
   "source": [
    "``` python\n",
    "    predict([gallery[i], [query], [gallery[!i])                           \n",
    "```\n",
    "- ensure query[!i] does not use the same camera as test_data\n",
    "- for each i generate highest probability test_data matches to it with all other queries !i (set to zero for invalid !i)\n",
    "- sort the list of probabilities indexed for query[i]\n",
    "- choose top *r* depending on rank\n",
    "- gereate score 1 or 0 dependin on if the correct match is found within that rank\n",
    "- repeat for all Test_data\n"
   ]
  },
  {
   "cell_type": "markdown",
   "metadata": {},
   "source": [
    "Alternate prediction loop choosing a single K with a different label to I"
   ]
  },
  {
   "cell_type": "code",
   "execution_count": 7,
   "metadata": {},
   "outputs": [
    {
     "data": {
      "application/vnd.jupyter.widget-view+json": {
       "model_id": "58eb1128cab642baa60d3d5d816db3ad",
       "version_major": 2,
       "version_minor": 0
      },
      "text/plain": [
       "HBox(children=(IntProgress(value=0, max=1400), HTML(value='')))"
      ]
     },
     "metadata": {},
     "output_type": "display_data"
    },
    {
     "name": "stdout",
     "output_type": "stream",
     "text": [
      "\n"
     ]
    }
   ],
   "source": [
    "from tqdm import tqdm_notebook as tqdm\n",
    "predictions = np.zeros((1400, 5328, 3))\n",
    "\n",
    "# for i in tqdm(range(labeled_gallery.shape[0])) :\n",
    "for i in tqdm(range(predictions.shape[0])) :\n",
    "    j_pred = np.zeros((5328, 3))\n",
    "    \n",
    "    k = rand.randrange(gallery_label.shape[0])\n",
    "\n",
    "    for j in range(labeled_gallery.shape[0]):\n",
    "        k_pred = 0\n",
    "        \n",
    "        \n",
    "        if k == j: #check for same data point or same cam\n",
    "            continue\n",
    "        x_pred = np.empty((1, 3, 2048), float)\n",
    "        x_pred[0][0] = gallery_features[j]\n",
    "        x_pred[0][1] = query_features[i]\n",
    "        x_pred[0][2] = gallery_features[k]\n",
    "        x_pred = x_pred.reshape(1, 3, 2048, 1)\n",
    "        k_pred = model.predict(x_pred)[0][0]\n",
    "        \n",
    "#         print(k_pred , labeled_query[j][1])\n",
    "         \n",
    "        \n",
    "        j_pred[j] = [k_pred, labeled_gallery[j][1], labeled_gallery[j][2]] #store best prediction and its ID\n",
    "        \n",
    "    inds = np.argsort(j_pred.T[0])\n",
    "    j_pred = np.asarray(list(zip(j_pred.T[0][inds], j_pred.T[1][inds], j_pred.T[2][inds])))\n",
    "#     print(j_pred)\n",
    "    predictions[i] = j_pred #sort list by descending probability\n",
    "\n",
    "\n",
    "#predictions should now be an sorted array of best predictions of each \n",
    "#gallery image in descenting order in a list with the corresponding predicted ID"
   ]
  },
  {
   "cell_type": "markdown",
   "metadata": {},
   "source": [
    "##### Get the rank accuracies of the resulting predictions"
   ]
  },
  {
   "cell_type": "code",
   "execution_count": 29,
   "metadata": {},
   "outputs": [
    {
     "name": "stdout",
     "output_type": "stream",
     "text": [
      "Rank:  1  Accuracy:  0.4642857142857143\n",
      "Rank:  2  Accuracy:  0.5414285714285715\n",
      "Rank:  3  Accuracy:  0.5957142857142858\n",
      "Rank:  4  Accuracy:  0.6414285714285715\n",
      "Rank:  5  Accuracy:  0.6742857142857143\n",
      "Rank:  6  Accuracy:  0.6957142857142857\n",
      "Rank:  7  Accuracy:  0.7085714285714285\n",
      "Rank:  8  Accuracy:  0.7285714285714285\n",
      "Rank:  9  Accuracy:  0.7414285714285714\n",
      "Rank:  10  Accuracy:  0.7478571428571429\n",
      "Rank:  11  Accuracy:  0.7585714285714286\n",
      "Rank:  12  Accuracy:  0.7714285714285715\n",
      "Rank:  13  Accuracy:  0.785\n",
      "Rank:  14  Accuracy:  0.7935714285714286\n",
      "Rank:  15  Accuracy:  0.8007142857142857\n",
      "Rank:  16  Accuracy:  0.8071428571428572\n",
      "Rank:  17  Accuracy:  0.81\n",
      "Rank:  18  Accuracy:  0.8128571428571428\n",
      "Rank:  19  Accuracy:  0.8214285714285714\n",
      "Rank:  20  Accuracy:  0.8307142857142857\n",
      "Rank:  21  Accuracy:  0.8335714285714285\n",
      "Rank:  22  Accuracy:  0.8371428571428572\n",
      "Rank:  23  Accuracy:  0.8392857142857143\n",
      "Rank:  24  Accuracy:  0.845\n",
      "Rank:  25  Accuracy:  0.8485714285714285\n",
      "Rank:  26  Accuracy:  0.8521428571428571\n",
      "Rank:  27  Accuracy:  0.8521428571428571\n",
      "Rank:  28  Accuracy:  0.8542857142857143\n",
      "Rank:  29  Accuracy:  0.8564285714285714\n",
      "Rank:  30  Accuracy:  0.8585714285714285\n",
      "Rank:  31  Accuracy:  0.8642857142857143\n",
      "Rank:  32  Accuracy:  0.865\n",
      "Rank:  33  Accuracy:  0.8678571428571429\n",
      "Rank:  34  Accuracy:  0.8728571428571429\n",
      "Rank:  35  Accuracy:  0.8771428571428571\n",
      "Rank:  36  Accuracy:  0.8828571428571429\n",
      "Rank:  37  Accuracy:  0.8857142857142857\n",
      "Rank:  38  Accuracy:  0.8885714285714286\n",
      "Rank:  39  Accuracy:  0.8907142857142857\n",
      "Rank:  40  Accuracy:  0.8921428571428571\n",
      "Rank:  41  Accuracy:  0.8928571428571429\n",
      "Rank:  42  Accuracy:  0.8935714285714286\n",
      "Rank:  43  Accuracy:  0.895\n",
      "Rank:  44  Accuracy:  0.8957142857142857\n",
      "Rank:  45  Accuracy:  0.8964285714285715\n",
      "Rank:  46  Accuracy:  0.8992857142857142\n",
      "Rank:  47  Accuracy:  0.9\n",
      "Rank:  48  Accuracy:  0.9007142857142857\n",
      "Rank:  49  Accuracy:  0.9035714285714286\n",
      "Rank:  50  Accuracy:  0.905\n",
      "Rank:  51  Accuracy:  0.9064285714285715\n",
      "Rank:  52  Accuracy:  0.9078571428571428\n",
      "Rank:  53  Accuracy:  0.9085714285714286\n",
      "Rank:  54  Accuracy:  0.91\n",
      "Rank:  55  Accuracy:  0.9121428571428571\n",
      "Rank:  56  Accuracy:  0.915\n",
      "Rank:  57  Accuracy:  0.9164285714285715\n",
      "Rank:  58  Accuracy:  0.9178571428571428\n",
      "Rank:  59  Accuracy:  0.9185714285714286\n",
      "Rank:  60  Accuracy:  0.92\n",
      "Rank:  61  Accuracy:  0.9207142857142857\n",
      "Rank:  62  Accuracy:  0.9207142857142857\n",
      "Rank:  63  Accuracy:  0.9214285714285714\n",
      "Rank:  64  Accuracy:  0.9228571428571428\n",
      "Rank:  65  Accuracy:  0.925\n",
      "Rank:  66  Accuracy:  0.9271428571428572\n",
      "Rank:  67  Accuracy:  0.9278571428571428\n",
      "Rank:  68  Accuracy:  0.9285714285714286\n",
      "Rank:  69  Accuracy:  0.9307142857142857\n",
      "Rank:  70  Accuracy:  0.9314285714285714\n",
      "Rank:  71  Accuracy:  0.9328571428571428\n",
      "Rank:  72  Accuracy:  0.9342857142857143\n",
      "Rank:  73  Accuracy:  0.9357142857142857\n",
      "Rank:  74  Accuracy:  0.9357142857142857\n",
      "Rank:  75  Accuracy:  0.9357142857142857\n",
      "Rank:  76  Accuracy:  0.9357142857142857\n",
      "Rank:  77  Accuracy:  0.9357142857142857\n",
      "Rank:  78  Accuracy:  0.9364285714285714\n",
      "Rank:  79  Accuracy:  0.9378571428571428\n",
      "Rank:  80  Accuracy:  0.9385714285714286\n",
      "Rank:  81  Accuracy:  0.9392857142857143\n",
      "Rank:  82  Accuracy:  0.9414285714285714\n",
      "Rank:  83  Accuracy:  0.9414285714285714\n",
      "Rank:  84  Accuracy:  0.9414285714285714\n",
      "Rank:  85  Accuracy:  0.9428571428571428\n",
      "Rank:  86  Accuracy:  0.9435714285714286\n",
      "Rank:  87  Accuracy:  0.945\n",
      "Rank:  88  Accuracy:  0.945\n",
      "Rank:  89  Accuracy:  0.945\n",
      "Rank:  90  Accuracy:  0.9457142857142857\n",
      "Rank:  91  Accuracy:  0.9457142857142857\n",
      "Rank:  92  Accuracy:  0.9457142857142857\n",
      "Rank:  93  Accuracy:  0.9478571428571428\n",
      "Rank:  94  Accuracy:  0.9478571428571428\n",
      "Rank:  95  Accuracy:  0.9485714285714286\n",
      "Rank:  96  Accuracy:  0.9485714285714286\n",
      "Rank:  97  Accuracy:  0.9485714285714286\n",
      "Rank:  98  Accuracy:  0.9492857142857143\n",
      "Rank:  99  Accuracy:  0.95\n",
      "Rank:  100  Accuracy:  0.95\n"
     ]
    }
   ],
   "source": [
    "ranks = range(1,101) #set ranks in a list to check\n",
    "rank_scores = [0]*len(ranks)\n",
    "# for i in range(predictions.shape[0]) :\n",
    "for i in range(predictions.shape[0]) :\n",
    "    cam_match = 0\n",
    "    for j in range(predictions.shape[1]):\n",
    "        if int(predictions[i][5327-j][1]) == labeled_query[i][1] and int(predictions[i][5327-j][2]) != labeled_query[i][2]:\n",
    "            for k in range(len(ranks)):\n",
    "                if j - cam_match <= ranks[k]-1:\n",
    "                    rank_scores[k] += 1\n",
    "            break\n",
    "        elif int(predictions[i][5327-j][1]) == labeled_query[i][1] and int(predictions[i][5327-j][2]) == labeled_query[i][2]:\n",
    "            cam_match += 1\n",
    "\n",
    "for i in range(len(rank_scores)) :\n",
    "    rank_scores[i] = rank_scores[i]/predictions.shape[0]\n",
    "    print('Rank: ', ranks[i], ' Accuracy: ', rank_scores[i])"
   ]
  },
  {
   "cell_type": "code",
   "execution_count": 42,
   "metadata": {},
   "outputs": [
    {
     "data": {
      "text/plain": [
       "array([0.99999702, 3.        , 1.        ])"
      ]
     },
     "execution_count": 42,
     "metadata": {},
     "output_type": "execute_result"
    }
   ],
   "source": [
    "predictions[0][5327]\n"
   ]
  },
  {
   "cell_type": "code",
   "execution_count": 39,
   "metadata": {},
   "outputs": [
    {
     "data": {
      "image/png": "[encoded data removed]",
      "text/plain": [
       "<Figure size 1080x720 with 1 Axes>"
      ]
     },
     "metadata": {},
     "output_type": "display_data"
    }
   ],
   "source": [
    "#model.save('PR_cnn_20181210.h5')\n",
    "\n",
    "import matplotlib.pyplot as plt\n",
    "import matplotlib as mpl\n",
    "\n",
    "mpl.rcParams['figure.figsize'] = (15,10)\n",
    "plt.rcParams.update({'font.size': 20})\n",
    "plt.plot(ranks, rank_scores)\n",
    "plt.title('Convolutional Neural Network Accuracy against Rank Number')\n",
    "plt.ylabel('Accuracy')\n",
    "plt.xlabel('Rank')\n",
    "plt.show()\n"
   ]
  },
  {
   "cell_type": "code",
   "execution_count": 43,
   "metadata": {},
   "outputs": [],
   "source": [
    "# np.save('Predictions', predictions)\n",
    "# np.save('Ranks', rank_scores)\n",
    "# model.save('PR_cnn_20181211.h5')"
   ]
  }
 ],
 "metadata": {
  "kernelspec": {
   "display_name": "Python 3",
   "language": "python",
   "name": "python3"
  },
  "language_info": {
   "codemirror_mode": {
    "name": "ipython",
    "version": 3
   },
   "file_extension": ".py",
   "mimetype": "text/x-python",
   "name": "python",
   "nbconvert_exporter": "python",
   "pygments_lexer": "ipython3",
   "version": "3.5.4"
  }
 },
 "nbformat": 4,
 "nbformat_minor": 2
}
