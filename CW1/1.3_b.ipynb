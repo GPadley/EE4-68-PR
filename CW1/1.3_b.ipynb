{
 "cells": [
  {
   "cell_type": "code",
   "execution_count": 1,
   "metadata": {},
   "outputs": [],
   "source": [
    "import scipy.io as sio\n",
    "import numpy as np\n",
    "import pandas as pd\n",
    "from sklearn.model_selection import train_test_split\n",
    "from sklearn import preprocessing\n",
    "from sklearn.metrics import confusion_matrix\n",
    "import matplotlib.pyplot as plt\n",
    "import timeit\n",
    "import matplotlib as mpl\n",
    "\n",
    "mpl.rcParams['figure.figsize'] = (10,15)\n",
    "ds = sio.loadmat('face.mat')"
   ]
  },
  {
   "cell_type": "code",
   "execution_count": 2,
   "metadata": {},
   "outputs": [],
   "source": [
    "X = ds['X']\n",
    "l = ds['l'][0]\n",
    "split = 0.8\n",
    "W = 46\n",
    "H = 56\n",
    "IDs = 52\n",
    "X = pd.DataFrame(X.transpose())\n",
    "N = X.shape[0]*split\n",
    "l = pd.DataFrame(l)\n",
    "\n",
    "#bagging \n",
    "bag_ratio = 0.6"
   ]
  },
  {
   "cell_type": "code",
   "execution_count": 14,
   "metadata": {},
   "outputs": [
    {
     "name": "stdout",
     "output_type": "stream",
     "text": [
      "    l_train.shape (416, 1)\n",
      "    X_train.shape (416, 2576)\n"
     ]
    }
   ],
   "source": [
    "X_train, X_test, l_train, l_test = train_test_split(X, l, test_size=(1-split), stratify = l)\n",
    "# X_bar = np.mean(X, axis=1)\n",
    "X_train, X_test = X_train.values, X_test.values\n",
    "l_train, l_test = l_train.values, np.transpose(l_test.values)\n",
    "X_bar = np.transpose([np.mean(X_train, axis=0)])\n",
    "X_bar = np.ndarray.flatten(X_bar)\n",
    "print('    l_train.shape',l_train.shape)\n",
    "print('    X_train.shape', X_train.shape)"
   ]
  },
  {
   "cell_type": "markdown",
   "metadata": {},
   "source": [
    "## Functions to apply 1.3_a to bagging"
   ]
  },
  {
   "cell_type": "code",
   "execution_count": 4,
   "metadata": {},
   "outputs": [],
   "source": [
    "from random import randrange\n",
    "#Take the current split data and bag randomly \n",
    "def make_bag(X_data, l_data, ratio):\n",
    "    X_bag = []\n",
    "    l_bag = []\n",
    "    bag_size = round(len(X_data)*ratio)\n",
    "#     print(bag, bag_size)\n",
    "    while len(X_bag) < bag_size:\n",
    "        index = randrange(len(X_data))\n",
    "        X_bag.append(X_data[index])\n",
    "        l_bag.append(l_data[index])\n",
    "    return np.asarray(X_bag), np.asarray(l_bag)"
   ]
  },
  {
   "cell_type": "code",
   "execution_count": 8,
   "metadata": {},
   "outputs": [],
   "source": [
    "def bag_train_space(X_bag, l_bag):\n",
    "\n",
    "    train_subspaces = []\n",
    "    \n",
    "    for i in range(round(IDs*bag_ratio)):\n",
    "        images = []\n",
    "        for j in range(int(N)):\n",
    "            if l_train[j][0] == i+1:\n",
    "                images.append(X_train[j])\n",
    "        train_subspaces.append(images)\n",
    "        \n",
    "    return np.asarray(train_subspaces)"
   ]
  },
  {
   "cell_type": "code",
   "execution_count": 21,
   "metadata": {},
   "outputs": [],
   "source": [
    "def SWSB(train_subspaces):\n",
    "    elements = np.asarray(train_subspaces[0])\n",
    "    elements_mean = np.mean(elements, axis=0)\n",
    "    elements = np.subtract(elements,elements_mean)\n",
    "    S_W = np.matmul(elements.T,elements)\n",
    "    mean_diff = np.atleast_2d(elements_mean)-X_bar\n",
    "    S_B = np.matmul(mean_diff.T, mean_diff)\n",
    "    S = np.matmul(elements,np.transpose(elements))\n",
    "    w, v = np.linalg.eig(S)\n",
    "    U = preprocessing.normalize(np.matmul(np.transpose(elements),v), axis=0)\n",
    "    for i in range(1,round(IDs*bag_ratio)):\n",
    "        elements = np.asarray(train_subspaces[i])\n",
    "        elements_mean = np.mean(elements, axis=0)\n",
    "        elements = np.subtract(elements,elements_mean)\n",
    "        S_W += np.matmul(elements.T,elements)\n",
    "        mean_diff = np.atleast_2d(elements_mean)-X_bar\n",
    "        S_B += np.matmul(mean_diff.T, mean_diff)\n",
    "        S = np.matmul(elements,np.transpose(elements))\n",
    "        w, v = np.linalg.eig(S)\n",
    "        U = preprocessing.normalize(np.matmul(np.transpose(elements),v), axis=0)\n",
    "    \n",
    "    return S_W, S_B, w, v, U\n",
    "                   "
   ]
  },
  {
   "cell_type": "markdown",
   "metadata": {},
   "source": [
    "#### Calling Functions \n",
    "***For loop***\n",
    "- make bags\n",
    "- make training subspaces\n",
    "- make eigen subspaces & S_W & S_B \n",
    "- PCA \n",
    "- LDA \n",
    "- W_opt \n",
    "- Error calculation\n",
    "- Committie machine\n"
   ]
  },
  {
   "cell_type": "code",
   "execution_count": 23,
   "metadata": {
    "scrolled": true
   },
   "outputs": [
    {
     "name": "stdout",
     "output_type": "stream",
     "text": [
      "    X bag shape (250, 2576) l bag shape (250, 1)\n",
      "    bag train space shape: (31, 8, 2576)\n",
      "    S_W (2576, 2576) S_B (2576, 2576) w_0 (8,) v_0 (8, 8) U_0 (2576, 8)\n"
     ]
    }
   ],
   "source": [
    "# TEST SCRIPT\n",
    "X_bag_0, l_bag_0 = make_bag(X_train, l_train, bag_ratio)\n",
    "\n",
    "print('    X bag shape', X_bag_0.shape,'l bag shape', l_bag_0.shape)\n",
    "\n",
    "bag_0_train_space = bag_train_space(X_bag_0, l_bag_0)\n",
    "\n",
    "print('    bag train space shape:', bag_0_train_space.shape)\n",
    "\n",
    "S_W_0, S_B_0, w_0, v_0, U_0 = SWSB(bag_0_train_space)\n",
    "\n",
    "print('    S_W', S_W_0.shape, 'S_B', S_B_0.shape, 'w_0', w_0.shape, 'v_0', v_0.shape, 'U_0', U_0.shape)"
   ]
  },
  {
   "cell_type": "code",
   "execution_count": null,
   "metadata": {},
   "outputs": [],
   "source": []
  }
 ],
 "metadata": {
  "kernelspec": {
   "display_name": "Python 3",
   "language": "python",
   "name": "python3"
  },
  "language_info": {
   "codemirror_mode": {
    "name": "ipython",
    "version": 3
   },
   "file_extension": ".py",
   "mimetype": "text/x-python",
   "name": "python",
   "nbconvert_exporter": "python",
   "pygments_lexer": "ipython3",
   "version": "3.7.0"
  }
 },
 "nbformat": 4,
 "nbformat_minor": 2
}
