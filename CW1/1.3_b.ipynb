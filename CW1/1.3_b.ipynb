{
 "cells": [
  {
   "cell_type": "code",
   "execution_count": 1,
   "metadata": {},
   "outputs": [],
   "source": [
    "import scipy.io as sio\n",
    "import numpy as np\n",
    "import pandas as pd\n",
    "from sklearn.model_selection import train_test_split\n",
    "from sklearn import preprocessing\n",
    "from sklearn.metrics import confusion_matrix\n",
    "import matplotlib.pyplot as plt\n",
    "import timeit\n",
    "import matplotlib as mpl\n",
    "\n",
    "mpl.rcParams['figure.figsize'] = (10,15)\n",
    "ds = sio.loadmat('face.mat')"
   ]
  },
  {
   "cell_type": "code",
   "execution_count": 2,
   "metadata": {},
   "outputs": [
    {
     "name": "stdout",
     "output_type": "stream",
     "text": [
      "    N: 416\n"
     ]
    }
   ],
   "source": [
    "X = ds['X']\n",
    "l = ds['l'][0]\n",
    "split = 0.8\n",
    "W = 46\n",
    "H = 56\n",
    "IDs = 52\n",
    "X = pd.DataFrame(X.transpose())\n",
    "l = pd.DataFrame(l)\n",
    "\n",
    "#bagging \n",
    "bag_ratio = 1\n",
    "M_pca_ratio = 0.95\n",
    "M_lda_ratio = 0.90\n",
    "N = round(X.shape[0]*split*bag_ratio) #different for each bag now\n",
    "print('    N:', N)"
   ]
  },
  {
   "cell_type": "code",
   "execution_count": 3,
   "metadata": {},
   "outputs": [
    {
     "name": "stdout",
     "output_type": "stream",
     "text": [
      "    l_train.shape (416, 1)\n",
      "    X_train.shape (416, 2576)\n"
     ]
    }
   ],
   "source": [
    "X_train, X_test, l_train, l_test = train_test_split(X, l, test_size=(1-split), stratify = l)\n",
    "# X_bar = np.mean(X, axis=1)\n",
    "X_train, X_test = X_train.values, X_test.values\n",
    "l_train, l_test = l_train.values, np.transpose(l_test.values)\n",
    "X_bar = np.transpose([np.mean(X_train, axis=0)])\n",
    "X_bar = np.ndarray.flatten(X_bar)\n",
    "print('    l_train.shape',l_train.shape)\n",
    "print('    X_train.shape', X_train.shape)"
   ]
  },
  {
   "cell_type": "markdown",
   "metadata": {},
   "source": [
    "## Functions to apply 1.3_a to bagging"
   ]
  },
  {
   "cell_type": "code",
   "execution_count": 4,
   "metadata": {},
   "outputs": [],
   "source": [
    "from random import randrange\n",
    "#Take the current split data and bag randomly \n",
    "def make_bag(X_train, l_train):\n",
    "    X_bag = []\n",
    "    l_bag = []\n",
    "    bag_size = round(len(X_train)*bag_ratio)\n",
    "#     print(bag, bag_size)\n",
    "    while len(X_bag) < bag_size:\n",
    "        index = randrange(len(X_train))\n",
    "        X_bag.append(X_train[index])\n",
    "        l_bag.append(l_train[index])\n",
    "    X_bar_bag = np.transpose([np.mean(X_bag, axis=0)])\n",
    "    X_bar_bag= np.ndarray.flatten(X_bar_bag)\n",
    "    return np.asarray(X_bag), np.asarray(l_bag), np.asarray(X_bar_bag)"
   ]
  },
  {
   "cell_type": "code",
   "execution_count": 5,
   "metadata": {},
   "outputs": [],
   "source": [
    "def bag_train_space(X_bag, l_bag):\n",
    "\n",
    "    train_subspaces = []\n",
    "    \n",
    "    for i in range(round(IDs*bag_ratio)):\n",
    "        images = []\n",
    "        for j in range(int(N)):\n",
    "            if l_train[j][0] == i+1:\n",
    "                images.append(X_train[j])\n",
    "        train_subspaces.append(images)\n",
    "        \n",
    "    return np.asarray(train_subspaces)"
   ]
  },
  {
   "cell_type": "code",
   "execution_count": 6,
   "metadata": {},
   "outputs": [],
   "source": [
    "def SWSB(train_subspaces):\n",
    "    elements = np.asarray(train_subspaces[0])\n",
    "    elements_mean = np.mean(elements, axis=0)\n",
    "    elements = np.subtract(elements,elements_mean)\n",
    "    S_W = np.matmul(elements.T,elements)\n",
    "    mean_diff = np.atleast_2d(elements_mean)-X_bar\n",
    "    S_B = np.matmul(mean_diff.T, mean_diff)\n",
    "    for i in range(1,round(IDs*bag_ratio)):\n",
    "        elements = np.asarray(train_subspaces[i])\n",
    "        elements_mean = np.mean(elements, axis=0)\n",
    "        elements = np.subtract(elements,elements_mean)\n",
    "        S_W += np.matmul(elements.T,elements)\n",
    "        mean_diff = np.atleast_2d(elements_mean)-X_bar\n",
    "        S_B += np.matmul(mean_diff.T, mean_diff)\n",
    "    \n",
    "    return S_W, S_B\n",
    "                   "
   ]
  },
  {
   "cell_type": "code",
   "execution_count": 7,
   "metadata": {},
   "outputs": [],
   "source": [
    "#PCA\n",
    "def PCA(X_train, X_bar):\n",
    "    \n",
    "    A = np.subtract(X_train,X_bar).T\n",
    "#     print(np.matmul(A.T,A).shape)\n",
    "    w_pca, v_pca = np.linalg.eigh((1/N)*np.matmul(A.T,A))\n",
    "    inds = w_pca.argsort()[::-1]\n",
    "    w_pca = w_pca[inds]\n",
    "    v_pca = v_pca[:,inds]\n",
    "    cum_w = np.cumsum(w_pca)/np.sum(w_pca);\n",
    "    M_pca = np.argmax(cum_w>M_pca_ratio)\n",
    "    w_pca = w_pca[:M_pca]\n",
    "    v_pca = v_pca[:,:M_pca]\n",
    "    v_pca = preprocessing.normalize(np.matmul(A,v_pca), axis=0)\n",
    "    return w_pca, v_pca"
   ]
  },
  {
   "cell_type": "code",
   "execution_count": 8,
   "metadata": {},
   "outputs": [],
   "source": [
    "#LDA\n",
    "def LDA(S_W, S_B, v_pca):\n",
    "    meh2 = np.dot(np.dot(v_pca.T,S_W),v_pca)\n",
    "    meh1 = np.dot(np.dot(v_pca.T,S_B),v_pca)\n",
    "\n",
    "    w_fld, v_fld = np.linalg.eigh(np.linalg.inv(meh2).dot(meh1))\n",
    "    \n",
    "    cum_w = np.cumsum(w_fld)/np.sum(w_fld);\n",
    "    M_lda = np.argmax(cum_w>M_lda_ratio)\n",
    "    \n",
    "    inds = w_fld.argsort()[::-1]\n",
    "    w_fld = w_fld[inds]\n",
    "    v_fld = v_fld[:,inds]\n",
    "\n",
    "    \n",
    "    w_fld = w_fld[:M_lda]\n",
    "    v_fld = v_fld[:,:M_lda]\n",
    "    return w_fld, v_fld\n",
    "    \n",
    "    "
   ]
  },
  {
   "cell_type": "code",
   "execution_count": 9,
   "metadata": {},
   "outputs": [],
   "source": [
    "#W_OPT\n",
    "def w_opt(v_pca, v_fld): \n",
    "    v_opt = np.dot(v_pca,v_fld)\n",
    "    v_opt = preprocessing.normalize(v_opt,axis=0)\n",
    "    return v_opt"
   ]
  },
  {
   "cell_type": "code",
   "execution_count": 10,
   "metadata": {},
   "outputs": [],
   "source": [
    "#Get error of each bag\n",
    "def error(v_opt, X_train, X_test, l_train, l_test):\n",
    "    Y_train = []\n",
    "    for i in range(int(N)):\n",
    "        Y_train.append(np.matmul(v_opt.T,X_train[i]))\n",
    "        \n",
    "    correct = 0\n",
    "    l_pred = []\n",
    "    \n",
    "    for i in range(len(X_test)):\n",
    "        y_test = np.matmul(v_opt.T, X_test[i])\n",
    "        diff = np.subtract(Y_train, y_test)\n",
    "        pred = np.diag(np.matmul(diff, diff.T))\n",
    "        value = np.argmin(pred)\n",
    "        l_pred.append(pred)\n",
    "        if l_train[value] == l_test[0][i]:\n",
    "            correct += 1\n",
    "            \n",
    "    return correct/len(l_test[0]), l_pred"
   ]
  },
  {
   "cell_type": "markdown",
   "metadata": {},
   "source": [
    "#### Calling Functions \n",
    "***For loop***\n",
    "- make bags\n",
    "- make training subspaces\n",
    "- make eigen subspaces & S_W & S_B \n",
    "- PCA \n",
    "- LDA \n",
    "- W_opt \n",
    "- Error calculation\n",
    "- Committie machine\n"
   ]
  },
  {
   "cell_type": "code",
   "execution_count": 11,
   "metadata": {
    "scrolled": true
   },
   "outputs": [
    {
     "name": "stdout",
     "output_type": "stream",
     "text": [
      "    X bag shape (416, 2576) l bag shape (416, 1) X bar bag (2576,)\n",
      "    bag train space shape: (52, 8, 2576)\n",
      "    S_W (2576, 2576) S_B (2576, 2576)\n"
     ]
    }
   ],
   "source": [
    "# TEST SCRIPT\n",
    "X_bag_0, l_bag_0, X_bar_0 = make_bag(X_train, l_train)\n",
    "\n",
    "print('    X bag shape', X_bag_0.shape,'l bag shape', l_bag_0.shape, 'X bar bag', X_bar_0.shape)\n",
    "\n",
    "bag_0_train_space = bag_train_space(X_bag_0, l_bag_0)\n",
    "\n",
    "print('    bag train space shape:', bag_0_train_space.shape)\n",
    "\n",
    "S_W_0, S_B_0= SWSB(bag_0_train_space)\n",
    "\n",
    "print('    S_W', S_W_0.shape, 'S_B', S_B_0.shape)"
   ]
  },
  {
   "cell_type": "code",
   "execution_count": 12,
   "metadata": {},
   "outputs": [],
   "source": [
    "def N_bag_error(No_bags, X_train, l_train):\n",
    "    bag_error = []\n",
    "    bag_pred = []\n",
    "    for i in range(No_bags):\n",
    "        print('    Bag:', i+1)\n",
    "        X_bag, l_bag, X_bar = make_bag(X_train, l_train)\n",
    "        bag_space = bag_train_space(X_bag, l_bag)\n",
    "        S_W, S_B = SWSB(bag_space)\n",
    "        w_pca, v_pca = PCA(X_bag, X_bar)\n",
    "        w_fld, v_fld = LDA(S_W, S_B, v_pca)\n",
    "        v_opt = w_opt(v_pca, v_fld)\n",
    "        err, l_pred = error(v_opt, X_bag, X_test, l_bag, l_test)\n",
    "        print('    ', err)\n",
    "        bag_error.append(err)\n",
    "        bag_pred.append(l_pred)\n",
    "        \n",
    "        \n",
    "    return bag_error, bag_pred      "
   ]
  },
  {
   "cell_type": "code",
   "execution_count": 13,
   "metadata": {},
   "outputs": [],
   "source": [
    "# def commit_mac(bag_error, bag_pred):\n",
    "#     for \n",
    "#     y_com = "
   ]
  },
  {
   "cell_type": "code",
   "execution_count": 14,
   "metadata": {},
   "outputs": [
    {
     "name": "stdout",
     "output_type": "stream",
     "text": [
      "    Bag: 1\n",
      "     0.5480769230769231\n",
      "    Bag: 2\n",
      "     0.5096153846153846\n",
      "    Bag: 3\n",
      "     0.49038461538461536\n",
      "    Bag: 4\n",
      "     0.46153846153846156\n",
      "    Bag: 5\n",
      "     0.5192307692307693\n",
      "    Bag: 6\n",
      "     0.5096153846153846\n",
      "    Bag: 7\n"
     ]
    },
    {
     "ename": "MemoryError",
     "evalue": "",
     "output_type": "error",
     "traceback": [
      "\u001b[1;31m---------------------------------------------------------------------------\u001b[0m",
      "\u001b[1;31mMemoryError\u001b[0m                               Traceback (most recent call last)",
      "\u001b[1;32m<ipython-input-14-027240a89210>\u001b[0m in \u001b[0;36m<module>\u001b[1;34m\u001b[0m\n\u001b[1;32m----> 1\u001b[1;33m \u001b[0mten_bags_error\u001b[0m\u001b[1;33m,\u001b[0m \u001b[0mten_bags_pred\u001b[0m \u001b[1;33m=\u001b[0m \u001b[0mN_bag_error\u001b[0m\u001b[1;33m(\u001b[0m\u001b[1;36m10\u001b[0m\u001b[1;33m,\u001b[0m \u001b[0mX_train\u001b[0m\u001b[1;33m,\u001b[0m \u001b[0ml_train\u001b[0m\u001b[1;33m)\u001b[0m\u001b[1;33m\u001b[0m\u001b[0m\n\u001b[0m",
      "\u001b[1;32m<ipython-input-12-dec6fe00a1b3>\u001b[0m in \u001b[0;36mN_bag_error\u001b[1;34m(No_bags, X_train, l_train)\u001b[0m\n\u001b[0;32m      6\u001b[0m         \u001b[0mX_bag\u001b[0m\u001b[1;33m,\u001b[0m \u001b[0ml_bag\u001b[0m\u001b[1;33m,\u001b[0m \u001b[0mX_bar\u001b[0m \u001b[1;33m=\u001b[0m \u001b[0mmake_bag\u001b[0m\u001b[1;33m(\u001b[0m\u001b[0mX_train\u001b[0m\u001b[1;33m,\u001b[0m \u001b[0ml_train\u001b[0m\u001b[1;33m)\u001b[0m\u001b[1;33m\u001b[0m\u001b[0m\n\u001b[0;32m      7\u001b[0m         \u001b[0mbag_space\u001b[0m \u001b[1;33m=\u001b[0m \u001b[0mbag_train_space\u001b[0m\u001b[1;33m(\u001b[0m\u001b[0mX_bag\u001b[0m\u001b[1;33m,\u001b[0m \u001b[0ml_bag\u001b[0m\u001b[1;33m)\u001b[0m\u001b[1;33m\u001b[0m\u001b[0m\n\u001b[1;32m----> 8\u001b[1;33m         \u001b[0mS_W\u001b[0m\u001b[1;33m,\u001b[0m \u001b[0mS_B\u001b[0m \u001b[1;33m=\u001b[0m \u001b[0mSWSB\u001b[0m\u001b[1;33m(\u001b[0m\u001b[0mbag_space\u001b[0m\u001b[1;33m)\u001b[0m\u001b[1;33m\u001b[0m\u001b[0m\n\u001b[0m\u001b[0;32m      9\u001b[0m         \u001b[0mw_pca\u001b[0m\u001b[1;33m,\u001b[0m \u001b[0mv_pca\u001b[0m \u001b[1;33m=\u001b[0m \u001b[0mPCA\u001b[0m\u001b[1;33m(\u001b[0m\u001b[0mX_bag\u001b[0m\u001b[1;33m,\u001b[0m \u001b[0mX_bar\u001b[0m\u001b[1;33m)\u001b[0m\u001b[1;33m\u001b[0m\u001b[0m\n\u001b[0;32m     10\u001b[0m         \u001b[0mw_fld\u001b[0m\u001b[1;33m,\u001b[0m \u001b[0mv_fld\u001b[0m \u001b[1;33m=\u001b[0m \u001b[0mLDA\u001b[0m\u001b[1;33m(\u001b[0m\u001b[0mS_W\u001b[0m\u001b[1;33m,\u001b[0m \u001b[0mS_B\u001b[0m\u001b[1;33m,\u001b[0m \u001b[0mv_pca\u001b[0m\u001b[1;33m)\u001b[0m\u001b[1;33m\u001b[0m\u001b[0m\n",
      "\u001b[1;32m<ipython-input-6-4323443ad6cc>\u001b[0m in \u001b[0;36mSWSB\u001b[1;34m(train_subspaces)\u001b[0m\n\u001b[0;32m     10\u001b[0m         \u001b[0melements_mean\u001b[0m \u001b[1;33m=\u001b[0m \u001b[0mnp\u001b[0m\u001b[1;33m.\u001b[0m\u001b[0mmean\u001b[0m\u001b[1;33m(\u001b[0m\u001b[0melements\u001b[0m\u001b[1;33m,\u001b[0m \u001b[0maxis\u001b[0m\u001b[1;33m=\u001b[0m\u001b[1;36m0\u001b[0m\u001b[1;33m)\u001b[0m\u001b[1;33m\u001b[0m\u001b[0m\n\u001b[0;32m     11\u001b[0m         \u001b[0melements\u001b[0m \u001b[1;33m=\u001b[0m \u001b[0mnp\u001b[0m\u001b[1;33m.\u001b[0m\u001b[0msubtract\u001b[0m\u001b[1;33m(\u001b[0m\u001b[0melements\u001b[0m\u001b[1;33m,\u001b[0m\u001b[0melements_mean\u001b[0m\u001b[1;33m)\u001b[0m\u001b[1;33m\u001b[0m\u001b[0m\n\u001b[1;32m---> 12\u001b[1;33m         \u001b[0mS_W\u001b[0m \u001b[1;33m+=\u001b[0m \u001b[0mnp\u001b[0m\u001b[1;33m.\u001b[0m\u001b[0mmatmul\u001b[0m\u001b[1;33m(\u001b[0m\u001b[0melements\u001b[0m\u001b[1;33m.\u001b[0m\u001b[0mT\u001b[0m\u001b[1;33m,\u001b[0m\u001b[0melements\u001b[0m\u001b[1;33m)\u001b[0m\u001b[1;33m\u001b[0m\u001b[0m\n\u001b[0m\u001b[0;32m     13\u001b[0m         \u001b[0mmean_diff\u001b[0m \u001b[1;33m=\u001b[0m \u001b[0mnp\u001b[0m\u001b[1;33m.\u001b[0m\u001b[0matleast_2d\u001b[0m\u001b[1;33m(\u001b[0m\u001b[0melements_mean\u001b[0m\u001b[1;33m)\u001b[0m\u001b[1;33m-\u001b[0m\u001b[0mX_bar\u001b[0m\u001b[1;33m\u001b[0m\u001b[0m\n\u001b[0;32m     14\u001b[0m         \u001b[0mS_B\u001b[0m \u001b[1;33m+=\u001b[0m \u001b[0mnp\u001b[0m\u001b[1;33m.\u001b[0m\u001b[0mmatmul\u001b[0m\u001b[1;33m(\u001b[0m\u001b[0mmean_diff\u001b[0m\u001b[1;33m.\u001b[0m\u001b[0mT\u001b[0m\u001b[1;33m,\u001b[0m \u001b[0mmean_diff\u001b[0m\u001b[1;33m)\u001b[0m\u001b[1;33m\u001b[0m\u001b[0m\n",
      "\u001b[1;31mMemoryError\u001b[0m: "
     ]
    }
   ],
   "source": [
    "ten_bags_error, ten_bags_pred = N_bag_error(10, X_train, l_train)"
   ]
  },
  {
   "cell_type": "code",
   "execution_count": null,
   "metadata": {},
   "outputs": [],
   "source": [
    "print('    ', ten_bags_pred.shape)"
   ]
  }
 ],
 "metadata": {
  "kernelspec": {
   "display_name": "Python 3",
   "language": "python",
   "name": "python3"
  },
  "language_info": {
   "codemirror_mode": {
    "name": "ipython",
    "version": 3
   },
   "file_extension": ".py",
   "mimetype": "text/x-python",
   "name": "python",
   "nbconvert_exporter": "python",
   "pygments_lexer": "ipython3",
   "version": "3.7.0"
  }
 },
 "nbformat": 4,
 "nbformat_minor": 2
}
