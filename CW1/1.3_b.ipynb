{
 "cells": [
  {
   "cell_type": "code",
   "execution_count": 1,
   "metadata": {},
   "outputs": [],
   "source": [
    "import scipy.io as sio\n",
    "import numpy as np\n",
    "import pandas as pd\n",
    "from sklearn.model_selection import train_test_split\n",
    "from sklearn import preprocessing\n",
    "from sklearn.metrics import confusion_matrix\n",
    "import matplotlib.pyplot as plt\n",
    "import timeit\n",
    "import matplotlib as mpl\n",
    "import random\n",
    "\n",
    "\n",
    "mpl.rcParams['figure.figsize'] = (10,15)\n",
    "ds = sio.loadmat('face.mat')"
   ]
  },
  {
   "cell_type": "code",
   "execution_count": 2,
   "metadata": {},
   "outputs": [],
   "source": [
    "X = ds['X']\n",
    "l = ds['l'][0]\n",
    "split = 0.8\n",
    "W = 46\n",
    "H = 56\n",
    "IDs = 52\n",
    "X = pd.DataFrame(X.transpose())\n",
    "l = pd.DataFrame(l)\n",
    "\n",
    "#bagging \n",
    "bag_ratio = 0.75\n",
    "M_pca_ratio = 0.95\n",
    "M_lda_ratio = 0.1\n",
    "N = round(X.shape[0]*split) \n",
    "N_bag = round(X.shape[0]*split*bag_ratio) #different for each bag now"
   ]
  },
  {
   "cell_type": "code",
   "execution_count": 3,
   "metadata": {},
   "outputs": [
    {
     "name": "stdout",
     "output_type": "stream",
     "text": [
      "    l_train.shape (416, 1)\n",
      "    X_train.shape (416, 2576)\n"
     ]
    }
   ],
   "source": [
    "X_train, X_test, l_train, l_test = train_test_split(X, l, test_size=(1-split), stratify = l)\n",
    "# X_bar = np.mean(X, axis=1)\n",
    "X_train, X_test = X_train.values, X_test.values\n",
    "l_train, l_test = l_train.values, np.transpose(l_test.values)\n",
    "X_bar = np.transpose([np.mean(X_train, axis=0)])\n",
    "X_bar = np.ndarray.flatten(X_bar)\n",
    "print('    l_train.shape',l_train.shape)\n",
    "print('    X_train.shape', X_train.shape)"
   ]
  },
  {
   "cell_type": "markdown",
   "metadata": {},
   "source": [
    "## Functions to apply 1.3_a to bagging"
   ]
  },
  {
   "cell_type": "code",
   "execution_count": 4,
   "metadata": {},
   "outputs": [],
   "source": [
    "from random import randrange\n",
    "#Take the current split data and bag randomly \n",
    "def make_bag(X_train_data, l_train_data):\n",
    "    X_train_part = bag_train_space(X_train_data, l_train_data, 1)\n",
    "    X_bag_part = []\n",
    "    l_bag_part = []\n",
    "#     print(X_train.shape)\n",
    "#     print(bag, bag_size)\n",
    "    for i in range(IDs):\n",
    "#         print('Bullshit ' , len(X_train[i]))\n",
    "        for j in range(round(len(X_train_part[i])*bag_ratio)):\n",
    "            index = randrange(len(X_train_part[i]))\n",
    "#             print(index)\n",
    "            X_bag_part.append(X_train_part[i][index])\n",
    "            l_bag_part.append(i+1)\n",
    "    X_bar_part_bag = np.transpose([np.mean(X_bag_part, axis=0)])\n",
    "    X_bar_part_bag= np.ndarray.flatten(X_bar_part_bag)\n",
    "#     print()\n",
    "    return np.asarray(X_bag_part), np.asarray(l_bag_part), np.asarray(X_bar_part_bag)"
   ]
  },
  {
   "cell_type": "code",
   "execution_count": 5,
   "metadata": {},
   "outputs": [],
   "source": [
    "def bag_train_space(X_bag_data, l_bag_data, ratio):\n",
    "\n",
    "    train_subspaces = []\n",
    "    \n",
    "    for i in range(IDs):\n",
    "        images = []\n",
    "        for j in range(round(N*ratio)):\n",
    "            if l_bag_data[j] == i+1:\n",
    "                images.append(X_bag_data[j])\n",
    "        train_subspaces.append(images)\n",
    "    return np.asarray(train_subspaces)"
   ]
  },
  {
   "cell_type": "code",
   "execution_count": 6,
   "metadata": {},
   "outputs": [],
   "source": [
    "def SWSB(bag_subspaces, X_bar_bag):\n",
    "    elements = np.asarray(bag_subspaces[0])\n",
    "    elements_mean = np.mean(elements, axis=0)\n",
    "    elements = np.subtract(elements,elements_mean)\n",
    "    S_W = np.matmul(elements.T,elements)\n",
    "    mean_diff = np.atleast_2d(elements_mean)-X_bar_bag\n",
    "#     print(mean_diff.shape)\n",
    "    S_B = np.matmul(mean_diff.T, mean_diff)\n",
    "    for i in range(1,IDs):\n",
    "#         print(i)\n",
    "        elements = np.asarray(bag_subspaces[i])\n",
    "#         print(train_subspaces.shape)\n",
    "        elements_mean = np.mean(elements, axis=0)\n",
    "        elements = np.subtract(elements,elements_mean)\n",
    "        S_W += np.matmul(elements.T,elements)\n",
    "        mean_diff = np.atleast_2d(elements_mean)-X_bar_bag\n",
    "        S_B += np.matmul(mean_diff.T, mean_diff)\n",
    "    \n",
    "    return S_W, S_B\n",
    "                   "
   ]
  },
  {
   "cell_type": "code",
   "execution_count": 7,
   "metadata": {},
   "outputs": [],
   "source": [
    "#PCA\n",
    "def PCA(X_train_pca, X_bar_pca):\n",
    "    A = np.subtract(X_train_pca,X_bar_pca).T\n",
    "#     print(A.shape)\n",
    "#     print(np.matmul(A.T,A).shape)\n",
    "    w_pca, v_pca = np.linalg.eigh((1/N)*np.matmul(A.T,A))\n",
    "    inds = w_pca.argsort()[::-1]\n",
    "\n",
    "    w_pca = w_pca[inds]\n",
    "    v_pca = v_pca[:,inds]\n",
    "    cum_w = np.cumsum(w_pca)/np.sum(w_pca);\n",
    "    M_pca = np.argmax(cum_w>M_pca_ratio)\n",
    "                \n",
    "    print('    M PCA',M_pca)\n",
    "    \n",
    "    w_pca = w_pca[:M_pca]\n",
    "    v_pca = v_pca[:,:M_pca]\n",
    "    v_pca = preprocessing.normalize(np.matmul(A,v_pca), axis=0)\n",
    "    \n",
    "    print('    v_pca.shape', v_pca.shape)\n",
    "    \n",
    "    return w_pca, v_pca"
   ]
  },
  {
   "cell_type": "code",
   "execution_count": 75,
   "metadata": {},
   "outputs": [],
   "source": [
    "#PCA\n",
    "def rand_PCA(X_train_pca, X_bar_pca):\n",
    "    A = np.subtract(X_train_pca,X_bar_pca).T\n",
    "#     print(A.shape)\n",
    "#     print(np.matmul(A.T,A).shape)\n",
    "    w_pca, v_pca = np.linalg.eig((1/N)*np.matmul(A.T,A))\n",
    "    inds = w_pca.argsort()[::-1]\n",
    "    \n",
    "    w_pca = w_pca[inds]\n",
    "    v_pca = v_pca[:,inds]\n",
    "#     cum_w = np.cumsum(w_pca)/np.sum(w_pca);\n",
    "    M_0 = 60   #np.argmax(cum_w>M_pca_ratio)\n",
    "    M_1 = 40\n",
    "    \n",
    "    mask = []\n",
    "    \n",
    "    for p in range(0,M_1):\n",
    "        x = random.randint(M_0,415)\n",
    "        while x in mask:\n",
    "            x = random.randint(M_0,415)\n",
    "        mask.append(x)\n",
    "        \n",
    "#     print('    ', v_pca.shape)\n",
    "    \n",
    "    w_pca_0 = w_pca[:M_0]\n",
    "    v_pca_0 = v_pca[:,:M_0]\n",
    "#     print('    v_pca_0.shape', v_pca_0.shape )\n",
    "#     w_pca_rand = w_pca[M_0:]\n",
    "#     v_pca_rand = v_pca[:,M_0:]\n",
    "    \n",
    "    w_pca_1 = w_pca[mask]\n",
    "    v_pca_1 = v_pca[:,mask]\n",
    "#     print('    v_pca_rand.shape', v_pca_rand.shape)\n",
    "# #     #----------random feature space-----#\n",
    "#     w_pca_1, x, v_pca_1, y = train_test_split(w_pca_rand, v_pca_rand, test_size=(M_1/v_pca_rand.shape[1]))\n",
    "#     print('    v_pca_1.shape', v_pca_1.shape)\n",
    "#     #-----------------------------------#\n",
    "# #     w_mask = np.random.choice(M_0, M_1, replace=false)\n",
    "# #     v_mask = np.random.choice(np.arange(M_0, 416),  M_1, replace=False)\n",
    "# #     print(mask1)\n",
    "    \n",
    "    v_pca_full = np.append(v_pca_0.T, v_pca_1.T, axis=0)\n",
    "#     w_pca_full = w_pca[v_mask[1]]\n",
    "#     v_pca_full = v_pca[v_mask]\n",
    "#     print('    v_pca_full', v_pca_full.shape)\n",
    "    \n",
    "    v_pca_full = preprocessing.normalize(np.matmul(A,v_pca_full.T), axis=0)\n",
    "    w_pca_full = np.append(w_pca_0, w_pca_1)\n",
    "    \n",
    "#     print('    v_pca_full', v_pca_full.shape)\n",
    "#     print('    A.shape', A.shape)\n",
    "    \n",
    "    return w_pca_full, v_pca_full"
   ]
  },
  {
   "cell_type": "code",
   "execution_count": 36,
   "metadata": {},
   "outputs": [],
   "source": [
    "#LDA\n",
    "def LDA(S_W_bag, S_B_bag, v_pca):\n",
    "    proj_1 = np.dot(np.dot(v_pca.T,S_W_bag),v_pca)\n",
    "    proj_2 = np.dot(np.dot(v_pca.T,S_B_bag),v_pca)\n",
    "\n",
    "    w_fld, v_fld = np.linalg.eig(np.linalg.inv(proj_1).dot(proj_2))\n",
    "    \n",
    "    cum_w = np.cumsum(w_fld)/np.sum(w_fld);\n",
    "    M_lda = 35\n",
    "#     print('    M LDA', M_lda)\n",
    "    \n",
    "    inds = w_fld.argsort()[::-1]\n",
    "    w_fld = w_fld[inds]\n",
    "#     print(w_fld.shape)\n",
    "    v_fld = v_fld[:,inds]\n",
    "\n",
    "    \n",
    "    w_fld = w_fld[:M_lda]\n",
    "    v_fld = v_fld[:,:M_lda]\n",
    "    return w_fld, v_fld\n",
    "    \n",
    "    "
   ]
  },
  {
   "cell_type": "code",
   "execution_count": 79,
   "metadata": {},
   "outputs": [
    {
     "ename": "ImportError",
     "evalue": "cannot import name 'predict_proba' from 'sklearn' (c:\\users\\jack\\appdata\\local\\programs\\python\\python37-32\\lib\\site-packages\\sklearn\\__init__.py)",
     "output_type": "error",
     "traceback": [
      "\u001b[1;31m---------------------------------------------------------------------------\u001b[0m",
      "\u001b[1;31mImportError\u001b[0m                               Traceback (most recent call last)",
      "\u001b[1;32m<ipython-input-79-ef02600b0e5e>\u001b[0m in \u001b[0;36m<module>\u001b[1;34m\u001b[0m\n\u001b[1;32m----> 1\u001b[1;33m \u001b[1;32mfrom\u001b[0m \u001b[0msklearn\u001b[0m \u001b[1;32mimport\u001b[0m \u001b[0mpredict_proba\u001b[0m\u001b[1;33m\u001b[0m\u001b[0m\n\u001b[0m\u001b[0;32m      2\u001b[0m \u001b[1;31m#LDA\u001b[0m\u001b[1;33m\u001b[0m\u001b[1;33m\u001b[0m\u001b[0m\n\u001b[0;32m      3\u001b[0m \u001b[1;33m\u001b[0m\u001b[0m\n\u001b[0;32m      4\u001b[0m \u001b[1;32mdef\u001b[0m \u001b[0mLDA_prob\u001b[0m\u001b[1;33m(\u001b[0m\u001b[0mS_W_bag\u001b[0m\u001b[1;33m,\u001b[0m \u001b[0mS_B_bag\u001b[0m\u001b[1;33m,\u001b[0m \u001b[0mv_pca\u001b[0m\u001b[1;33m)\u001b[0m\u001b[1;33m:\u001b[0m\u001b[1;33m\u001b[0m\u001b[0m\n\u001b[0;32m      5\u001b[0m     \u001b[0mproj_1\u001b[0m \u001b[1;33m=\u001b[0m \u001b[0mnp\u001b[0m\u001b[1;33m.\u001b[0m\u001b[0mdot\u001b[0m\u001b[1;33m(\u001b[0m\u001b[0mnp\u001b[0m\u001b[1;33m.\u001b[0m\u001b[0mdot\u001b[0m\u001b[1;33m(\u001b[0m\u001b[0mv_pca\u001b[0m\u001b[1;33m.\u001b[0m\u001b[0mT\u001b[0m\u001b[1;33m,\u001b[0m\u001b[0mS_W_bag\u001b[0m\u001b[1;33m)\u001b[0m\u001b[1;33m,\u001b[0m\u001b[0mv_pca\u001b[0m\u001b[1;33m)\u001b[0m\u001b[1;33m\u001b[0m\u001b[0m\n",
      "\u001b[1;31mImportError\u001b[0m: cannot import name 'predict_proba' from 'sklearn' (c:\\users\\jack\\appdata\\local\\programs\\python\\python37-32\\lib\\site-packages\\sklearn\\__init__.py)"
     ]
    }
   ],
   "source": [
    "\n",
    "#LDA\n",
    "\n",
    "def LDA_prob(S_W_bag, S_B_bag, v_pca):\n",
    "    proj_1 = np.dot(np.dot(v_pca.T,S_W_bag),v_pca)\n",
    "    proj_2 = np.dot(np.dot(v_pca.T,S_B_bag),v_pca)\n",
    "\n",
    "    w_fld, v_fld = np.linalg.eig(np.linalg.inv(proj_1).dot(proj_2))\n",
    "    \n",
    "    cum_w = np.cumsum(w_fld)/np.sum(w_fld);\n",
    "    M_lda = 40\n",
    "    print('    M LDA', M_lda)\n",
    "    \n",
    "    inds = w_fld.argsort()[::-1]\n",
    "    w_fld = w_fld[inds]\n",
    "#     print(w_fld.shape)\n",
    "    v_fld = v_fld[:,inds]\n",
    "\n",
    "    \n",
    "    w_fld = w_fld[:M_lda]\n",
    "    v_fld = v_fld[:,:M_lda]\n",
    "    \n",
    "    #---------- Predict ---------- # \n",
    "    \n",
    "    \n",
    "    \n",
    "    return w_fld, v_fld\n",
    "    "
   ]
  },
  {
   "cell_type": "code",
   "execution_count": 38,
   "metadata": {},
   "outputs": [],
   "source": [
    "#W_OPT\n",
    "def w_opt(v_pca, v_fld): \n",
    "    v_opt = np.dot(v_pca,v_fld)\n",
    "    v_opt = preprocessing.normalize(np.real(v_opt),axis=0)\n",
    "    return v_opt"
   ]
  },
  {
   "cell_type": "code",
   "execution_count": 39,
   "metadata": {},
   "outputs": [],
   "source": [
    "#Get error of each bag\n",
    "def error(v_opt, X_train_dataset, X_test_data, l_train_error, l_test_error):\n",
    "    Y_train = []\n",
    "    for i in range(int(N_bag)):\n",
    "        Y_train.append(np.matmul(v_opt.T,X_train_dataset[i]))\n",
    "        \n",
    "    correct = 0\n",
    "    l_pred = []\n",
    "    \n",
    "    for i in range(len(X_test)):\n",
    "        y_test = np.matmul(v_opt.T, X_test_data[i])\n",
    "        diff = np.subtract(Y_train, y_test)\n",
    "        pred = np.diag(np.matmul(diff, diff.T))\n",
    "        value = np.argmin(pred)\n",
    "        l_pred.append(l_train_error[value])\n",
    "        if l_train_error[value] == l_test_error[0][i]:\n",
    "            correct += 1\n",
    "            \n",
    "    return correct/len(l_test[0]), l_pred"
   ]
  },
  {
   "cell_type": "code",
   "execution_count": 162,
   "metadata": {},
   "outputs": [],
   "source": [
    "\n",
    "from sklearn.neighbors import KNeighborsClassifier\n",
    "def prob_pred(v_opt, X_train, l_train):\n",
    "    Y_train = []\n",
    "    for i in range(len(l_train)):\n",
    "        Y_train.append(np.matmul(v_opt.T,X_train[i]))\n",
    "\n",
    "    neigh = KNeighborsClassifier(n_neighbors=1)  \n",
    "    neigh.fit(Y_train, l_train)\n",
    "    \n",
    "    preds = []\n",
    "    Y_test = []\n",
    "    inds = l_train.T[0].argsort()\n",
    "    \n",
    "    for i in range(len(l_test[0])):\n",
    "        lil_test = np.matmul(v_opt.T,X_test[i])\n",
    "        Y_test.append(lil_test)\n",
    "        diff = np.subtract(Y_train, lil_test)\n",
    "        pred = np.reciprocal(np.amin(np.diag(np.matmul(diff, diff.T))[inds].reshape(-1,8),axis = 1))\n",
    "        pred = pred/np.sum(pred)\n",
    "        \n",
    "        preds.append(pred)\n",
    "        \n",
    "    return preds"
   ]
  },
  {
   "cell_type": "code",
   "execution_count": 163,
   "metadata": {},
   "outputs": [
    {
     "name": "stdout",
     "output_type": "stream",
     "text": [
      "    Model: 1\n"
     ]
    },
    {
     "name": "stderr",
     "output_type": "stream",
     "text": [
      "c:\\users\\jack\\appdata\\local\\programs\\python\\python37-32\\lib\\site-packages\\ipykernel_launcher.py:9: DataConversionWarning: A column-vector y was passed when a 1d array was expected. Please change the shape of y to (n_samples, ), for example using ravel().\n",
      "  if __name__ == '__main__':\n"
     ]
    }
   ],
   "source": [
    "\n",
    "model_space = bag_train_space(X_train, l_train, 1)\n",
    "#     print('    ', model_space.shape)\n",
    "S_W, S_B = SWSB(model_space, X_bar)\n",
    "print('    Model:', i+1)\n",
    "w_pca, v_pca = rand_PCA(X_train, X_bar)\n",
    "#         plt.plot(w_pca)\n",
    "w_fld, v_fld = LDA(S_W, S_B, v_pca)\n",
    "v_opt = w_opt(v_pca, v_fld)\n",
    "probb = prob_pred(v_opt, X_train, l_train)\n",
    "# err, l_pred = error(v_opt, X_train, X_test, l_train, l_test)\n",
    "# print(probb)\n"
   ]
  },
  {
   "cell_type": "code",
   "execution_count": 164,
   "metadata": {},
   "outputs": [
    {
     "data": {
      "text/plain": [
       "[<matplotlib.lines.Line2D at 0xec3c30>]"
      ]
     },
     "execution_count": 164,
     "metadata": {},
     "output_type": "execute_result"
    },
    {
     "data": {
      "image/png": "[encoded data removed]",
      "text/plain": [
       "<Figure size 432x288 with 1 Axes>"
      ]
     },
     "metadata": {
      "needs_background": "light"
     },
     "output_type": "display_data"
    }
   ],
   "source": [
    "plt.plot(probb[3])"
   ]
  },
  {
   "cell_type": "code",
   "execution_count": 165,
   "metadata": {},
   "outputs": [
    {
     "data": {
      "text/plain": [
       "1.0"
      ]
     },
     "execution_count": 165,
     "metadata": {},
     "output_type": "execute_result"
    }
   ],
   "source": [
    "np.sum(probb[3])"
   ]
  },
  {
   "cell_type": "code",
   "execution_count": 155,
   "metadata": {},
   "outputs": [
    {
     "data": {
      "text/plain": [
       "9"
      ]
     },
     "execution_count": 155,
     "metadata": {},
     "output_type": "execute_result"
    }
   ],
   "source": [
    "np.argmin(probb[3]) +1"
   ]
  },
  {
   "cell_type": "code",
   "execution_count": 153,
   "metadata": {},
   "outputs": [
    {
     "data": {
      "text/plain": [
       "9"
      ]
     },
     "execution_count": 153,
     "metadata": {},
     "output_type": "execute_result"
    }
   ],
   "source": [
    "l_test[0][3]"
   ]
  },
  {
   "cell_type": "markdown",
   "metadata": {},
   "source": [
    "#### Calling Functions \n",
    "***For loop***\n",
    "- make bags\n",
    "- make training subspaces\n",
    "- make eigen subspaces & S_W & S_B \n",
    "- PCA \n",
    "- LDA \n",
    "- W_opt \n",
    "- Error calculation\n",
    "- Committie machine\n"
   ]
  },
  {
   "cell_type": "code",
   "execution_count": 40,
   "metadata": {
    "scrolled": true
   },
   "outputs": [
    {
     "name": "stdout",
     "output_type": "stream",
     "text": [
      "    X bag shape (312, 2576) l bag shape (312,) X bar bag (2576,)\n",
      "    bag train space shape: (52, 6, 2576)\n",
      "    S_W (2576, 2576) S_B (2576, 2576)\n"
     ]
    }
   ],
   "source": [
    "# TEST SCRIPT\n",
    "X_bag_0, l_bag_0, X_bar_0 = make_bag(X_train, l_train)\n",
    "\n",
    "print('    X bag shape', X_bag_0.shape,'l bag shape', l_bag_0.shape, 'X bar bag', X_bar_0.shape)\n",
    "\n",
    "bag_0_train_space = bag_train_space(X_bag_0, l_bag_0, bag_ratio)\n",
    "\n",
    "print('    bag train space shape:', bag_0_train_space.shape)\n",
    "\n",
    "S_W_0, S_B_0= SWSB(bag_0_train_space, X_bar_0)\n",
    "\n",
    "print('    S_W', S_W_0.shape, 'S_B', S_B_0.shape)"
   ]
  },
  {
   "cell_type": "code",
   "execution_count": 41,
   "metadata": {},
   "outputs": [
    {
     "name": "stdout",
     "output_type": "stream",
     "text": [
      "(312,)\n"
     ]
    }
   ],
   "source": [
    "print(l_bag_0.shape)"
   ]
  },
  {
   "cell_type": "code",
   "execution_count": 55,
   "metadata": {},
   "outputs": [],
   "source": [
    "def N_bag_error(No_bags, X_train, l_train):\n",
    "    bag_error = []\n",
    "    bag_pred = []\n",
    "    for i in range(No_bags):\n",
    "        print('    Bag:', i+1)\n",
    "        X_bag, l_bag, X_bar_bag = make_bag(X_train, l_train)\n",
    "        bag_space = bag_train_space(X_bag, l_bag, bag_ratio)\n",
    "        print('    ',bag_space.shape)\n",
    "#         print(X_bar_bag.shape)\n",
    "        S_W, S_B = SWSB(bag_space, X_bar_bag)\n",
    "        w_pca, v_pca = PCA(X_bag, X_bar_bag)\n",
    "        w_fld, v_fld = LDA(S_W, S_B, v_pca)\n",
    "        v_opt = w_opt(v_pca, v_fld)\n",
    "        err, l_pred = error(v_opt, X_bag, X_test, l_bag, l_test)\n",
    "        print('    ', err)\n",
    "        bag_error.append(err)\n",
    "        bag_pred.append(l_pred)\n",
    "        \n",
    "        \n",
    "    return bag_error, bag_pred      "
   ]
  },
  {
   "cell_type": "code",
   "execution_count": 65,
   "metadata": {},
   "outputs": [],
   "source": [
    "def N_space_error(No_models, X_train, l_train):\n",
    "    model_error = []\n",
    "    model_pred = []\n",
    "    \n",
    "    model_space = bag_train_space(X_train, l_train, 1)\n",
    "#     print('    ', model_space.shape)\n",
    "    S_W, S_B = SWSB(model_space, X_bar)\n",
    "    for i in range(No_models):\n",
    "        print('    Model:', i+1)\n",
    "        w_pca, v_pca = rand_PCA(X_train, X_bar)\n",
    "#         plt.plot(w_pca)\n",
    "        w_fld, v_fld = LDA(S_W, S_B, v_pca)\n",
    "        v_opt = w_opt(v_pca, v_fld)\n",
    "        err, l_pred = error(v_opt, X_train, X_test, l_train, l_test)\n",
    "        print('    ', err)\n",
    "        model_error.append(err)\n",
    "        model_pred.append(l_pred)\n",
    "        \n",
    "        \n",
    "    return model_error, model_pred "
   ]
  },
  {
   "cell_type": "code",
   "execution_count": 74,
   "metadata": {},
   "outputs": [
    {
     "name": "stdout",
     "output_type": "stream",
     "text": [
      "    Model: 1\n",
      "     (416, 416)\n",
      "     0.8173076923076923\n",
      "    Model: 2\n",
      "     (416, 416)\n",
      "     0.7596153846153846\n",
      "    Model: 3\n",
      "     (416, 416)\n",
      "     0.7884615384615384\n",
      "    Model: 4\n",
      "     (416, 416)\n",
      "     0.7980769230769231\n",
      "    Model: 5\n",
      "     (416, 416)\n",
      "     0.8365384615384616\n",
      "    Model: 6\n",
      "     (416, 416)\n",
      "     0.8365384615384616\n",
      "    Model: 7\n",
      "     (416, 416)\n",
      "     0.7980769230769231\n",
      "    Model: 8\n",
      "     (416, 416)\n",
      "     0.7788461538461539\n",
      "    Model: 9\n",
      "     (416, 416)\n",
      "     0.8173076923076923\n",
      "    Model: 10\n",
      "     (416, 416)\n",
      "     0.7692307692307693\n",
      "    Model: 11\n",
      "     (416, 416)\n",
      "     0.75\n",
      "    Model: 12\n",
      "     (416, 416)\n",
      "     0.75\n",
      "    Model: 13\n",
      "     (416, 416)\n",
      "     0.8076923076923077\n",
      "    Model: 14\n",
      "     (416, 416)\n",
      "     0.7980769230769231\n",
      "    Model: 15\n",
      "     (416, 416)\n",
      "     0.8076923076923077\n",
      "    Model: 16\n",
      "     (416, 416)\n",
      "     0.7788461538461539\n",
      "    Model: 17\n",
      "     (416, 416)\n",
      "     0.7788461538461539\n",
      "    Model: 18\n",
      "     (416, 416)\n",
      "     0.8269230769230769\n",
      "    Model: 19\n",
      "     (416, 416)\n",
      "     0.7980769230769231\n",
      "    Model: 20\n",
      "     (416, 416)\n",
      "     0.8557692307692307\n"
     ]
    }
   ],
   "source": [
    "models_error, models_pred = N_space_error(20, X_train, l_train)"
   ]
  },
  {
   "cell_type": "code",
   "execution_count": 56,
   "metadata": {},
   "outputs": [
    {
     "name": "stdout",
     "output_type": "stream",
     "text": [
      "    Bag: 1\n",
      "     (52, 6, 2576)\n",
      "    M PCA 86\n",
      "    v_pca.shape (2576, 86)\n",
      "     0.7403846153846154\n",
      "    Bag: 2\n",
      "     (52, 6, 2576)\n",
      "    M PCA 84\n",
      "    v_pca.shape (2576, 84)\n",
      "     0.6730769230769231\n",
      "    Bag: 3\n",
      "     (52, 6, 2576)\n",
      "    M PCA 87\n",
      "    v_pca.shape (2576, 87)\n",
      "     0.7211538461538461\n",
      "    Bag: 4\n",
      "     (52, 6, 2576)\n",
      "    M PCA 86\n",
      "    v_pca.shape (2576, 86)\n",
      "     0.6923076923076923\n",
      "    Bag: 5\n",
      "     (52, 6, 2576)\n",
      "    M PCA 85\n",
      "    v_pca.shape (2576, 85)\n",
      "     0.6057692307692307\n",
      "    Bag: 6\n",
      "     (52, 6, 2576)\n",
      "    M PCA 86\n",
      "    v_pca.shape (2576, 86)\n",
      "     0.6730769230769231\n",
      "    Bag: 7\n",
      "     (52, 6, 2576)\n",
      "    M PCA 86\n",
      "    v_pca.shape (2576, 86)\n",
      "     0.6826923076923077\n",
      "    Bag: 8\n",
      "     (52, 6, 2576)\n",
      "    M PCA 83\n",
      "    v_pca.shape (2576, 83)\n",
      "     0.6730769230769231\n",
      "    Bag: 9\n",
      "     (52, 6, 2576)\n",
      "    M PCA 82\n",
      "    v_pca.shape (2576, 82)\n",
      "     0.6538461538461539\n",
      "    Bag: 10\n",
      "     (52, 6, 2576)\n",
      "    M PCA 85\n",
      "    v_pca.shape (2576, 85)\n",
      "     0.7211538461538461\n"
     ]
    }
   ],
   "source": [
    "bags_error, bags_pred = N_bag_error(10, X_train, l_train)"
   ]
  },
  {
   "cell_type": "code",
   "execution_count": 16,
   "metadata": {},
   "outputs": [],
   "source": [
    "def commit_cor(bags_pred, l_test):\n",
    "    correct = 0\n",
    "    for i in range(len(bags_pred)):\n",
    "#     for i in range(bags_pred.shape[0]):\n",
    "#         value = np.floor(np.argmin(bags_pred[i])/round(8*bag_ratio))+1\n",
    "# #         print(value, l_test[0][i])\n",
    "        if bags_pred[i] == l_test[0][i]:\n",
    "            correct += 1\n",
    "    return correct/104"
   ]
  },
  {
   "cell_type": "code",
   "execution_count": 17,
   "metadata": {},
   "outputs": [],
   "source": [
    "def commit_mac(bags_pred, bags_err):\n",
    "    \n",
    "    y_pred = []\n",
    "    for i in range(bags_pred.T.shape[0]):\n",
    "        im_pred = np.zeros(IDs)\n",
    "        for j in range(bags_pred.T.shape[1]):\n",
    "            im_pred[bags_pred.T[i][j]-1] += 1\n",
    "        y_pred.append(np.argmax(im_pred)+1)\n",
    "    return y_pred\n",
    "    "
   ]
  },
  {
   "cell_type": "code",
   "execution_count": 105,
   "metadata": {},
   "outputs": [
    {
     "name": "stdout",
     "output_type": "stream",
     "text": [
      "     (20, 104)\n",
      "     [38  2 14  4 34 28 37 22 36 30 28 40 12 32  8 46 23 42 30  7 38 29  2 32\n",
      " 30  5 17 25 29 50 15 38 18 33 29  4 38  6 35 29 34  8  5 51  8 35 29 41\n",
      " 50 48 21 19 16 11  8 30 42 30 48 35 30 26 48 18 37  6 16 18 25  3 42  8\n",
      " 21 13 41 29 15  5  7 21 51 31 13 33 31  7 52 39 23  6 39 48 28 10  1 42\n",
      " 47 48  3 20  6 51  6 49]\n"
     ]
    }
   ],
   "source": [
    "bags_pred = np.asarray(bags_pred)\n",
    "print('    ', bags_pred.shape)\n",
    "print('    ', bags_pred[0])"
   ]
  },
  {
   "cell_type": "code",
   "execution_count": 66,
   "metadata": {},
   "outputs": [],
   "source": [
    "bags_commit = commit_mac(bags_pred, bags_error)"
   ]
  },
  {
   "cell_type": "code",
   "execution_count": 67,
   "metadata": {},
   "outputs": [
    {
     "name": "stdout",
     "output_type": "stream",
     "text": [
      "     0.8173076923076923\n"
     ]
    }
   ],
   "source": [
    "print('    ', commit_cor(bags_commit, l_test))"
   ]
  },
  {
   "cell_type": "code",
   "execution_count": 76,
   "metadata": {},
   "outputs": [
    {
     "name": "stdout",
     "output_type": "stream",
     "text": [
      "     (20, 104)\n"
     ]
    }
   ],
   "source": [
    "models_pred = np.asarray(models_pred)\n",
    "models_pred = np.squeeze(models_pred, axis=2)\n",
    "print('    ', models_pred.shape)\n",
    "\n",
    "# print('    ', models_pred[0])"
   ]
  },
  {
   "cell_type": "code",
   "execution_count": 77,
   "metadata": {},
   "outputs": [],
   "source": [
    "models_commit = commit_mac(models_pred, models_error)"
   ]
  },
  {
   "cell_type": "code",
   "execution_count": 78,
   "metadata": {},
   "outputs": [
    {
     "name": "stdout",
     "output_type": "stream",
     "text": [
      "     0.8653846153846154\n"
     ]
    }
   ],
   "source": [
    "print('    ', commit_cor(models_commit, l_test))"
   ]
  },
  {
   "cell_type": "code",
   "execution_count": null,
   "metadata": {},
   "outputs": [
    {
     "name": "stderr",
     "output_type": "stream",
     "text": [
      "  0%|                                                                                          | 0/149 [00:00<?, ?it/s]\n",
      "  0%|                                                                                          | 0/149 [00:00<?, ?it/s]\n",
      "\n",
      "  0%|                                                                                           | 0/20 [00:00<?, ?it/s]"
     ]
    },
    {
     "name": "stdout",
     "output_type": "stream",
     "text": [
      "     0.009615384615384616 1 1 30\n"
     ]
    },
    {
     "name": "stderr",
     "output_type": "stream",
     "text": [
      "\n",
      "\n",
      "  5%|████▏                                                                              | 1/20 [00:28<09:06, 28.74s/it]"
     ]
    },
    {
     "name": "stdout",
     "output_type": "stream",
     "text": [
      "     0.028846153846153848 1 1 31\n"
     ]
    },
    {
     "name": "stderr",
     "output_type": "stream",
     "text": [
      "\n",
      "\n",
      " 10%|████████▎                                                                          | 2/20 [00:40<07:04, 23.60s/it]"
     ]
    },
    {
     "name": "stdout",
     "output_type": "stream",
     "text": [
      "     0.019230769230769232 1 1 32\n"
     ]
    },
    {
     "name": "stderr",
     "output_type": "stream",
     "text": [
      "\n",
      "\n",
      " 15%|████████████▍                                                                      | 3/20 [00:51<05:39, 19.98s/it]"
     ]
    },
    {
     "name": "stdout",
     "output_type": "stream",
     "text": [
      "     0.0 1 1 33\n"
     ]
    },
    {
     "name": "stderr",
     "output_type": "stream",
     "text": [
      "\n",
      "\n",
      " 20%|████████████████▌                                                                  | 4/20 [01:03<04:38, 17.42s/it]"
     ]
    }
   ],
   "source": [
    "from tqdm import tqdm\n",
    "M_0_max = 150\n",
    "M_1_max = 150 \n",
    "for i in tqdm(range(1,M_0_max)):\n",
    "    for j in tqdm(range(1,M_1_max)):\n",
    "        for k in tqdm(range(30,50)):\n",
    "            M_lda = k\n",
    "            M_0 = i \n",
    "            M_1 = j\n",
    "            models_error, models_pred = N_space_error(30, X_train, l_train)\n",
    "            models_pred = np.asarray(models_pred)\n",
    "            models_pred = np.squeeze(models_pred, axis=2)\n",
    "            models_commit = commit_mac(models_pred, models_error)\n",
    "            print('    ', commit_cor(models_commit, l_test), M_0, M_1, M_lda)"
   ]
  },
  {
   "cell_type": "code",
   "execution_count": 48,
   "metadata": {},
   "outputs": [
    {
     "name": "stdout",
     "output_type": "stream",
     "text": [
      "     (2576,)\n"
     ]
    }
   ],
   "source": [
    "print('    ', X_bar.shape)"
   ]
  },
  {
   "cell_type": "code",
   "execution_count": null,
   "metadata": {},
   "outputs": [],
   "source": []
  }
 ],
 "metadata": {
  "kernelspec": {
   "display_name": "Python 3",
   "language": "python",
   "name": "python3"
  },
  "language_info": {
   "codemirror_mode": {
    "name": "ipython",
    "version": 3
   },
   "file_extension": ".py",
   "mimetype": "text/x-python",
   "name": "python",
   "nbconvert_exporter": "python",
   "pygments_lexer": "ipython3",
   "version": "3.7.0"
  }
 },
 "nbformat": 4,
 "nbformat_minor": 2
}
