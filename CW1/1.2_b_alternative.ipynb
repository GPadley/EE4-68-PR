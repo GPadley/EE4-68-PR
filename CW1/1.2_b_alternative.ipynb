{
 "cells": [
  {
   "cell_type": "code",
   "execution_count": 1,
   "metadata": {},
   "outputs": [],
   "source": [
    "import scipy.io as sio\n",
    "import numpy as np\n",
    "import pandas as pd\n",
    "from sklearn.model_selection import train_test_split\n",
    "from sklearn import preprocessing\n",
    "import matplotlib.pyplot as plt\n",
    "import timeit\n",
    "import matplotlib as mpl\n",
    "\n",
    "mpl.rcParams['figure.figsize'] = (10,15)\n",
    "ds = sio.loadmat('face.mat')"
   ]
  },
  {
   "cell_type": "code",
   "execution_count": 2,
   "metadata": {},
   "outputs": [],
   "source": [
    "X = ds['X']\n",
    "l = ds['l'][0]\n",
    "split = 0.8\n",
    "W = 46\n",
    "H = 56\n",
    "IDs = 52\n",
    "X = pd.DataFrame(X.transpose())\n",
    "N = X.shape[0]*split\n",
    "l = pd.DataFrame(l)"
   ]
  },
  {
   "cell_type": "code",
   "execution_count": 3,
   "metadata": {},
   "outputs": [],
   "source": [
    "X_train, X_test, l_train, l_test = train_test_split(X, l, test_size=(1-split))\n",
    "# X_bar = np.mean(X, axis=1)\n",
    "X_train, X_test = X_train.values, X_test.values\n",
    "l_train, l_test = l_train.values, np.transpose(l_test.values)"
   ]
  },
  {
   "cell_type": "code",
   "execution_count": 4,
   "metadata": {},
   "outputs": [],
   "source": [
    "train_subspaces = []\n",
    "for i in range(IDs):\n",
    "    images = []\n",
    "    for j in range(int(N)):\n",
    "        if l_train[j][0] == i+1:\n",
    "            images.append(X_train[j])\n",
    "    train_subspaces.append(images)"
   ]
  },
  {
   "cell_type": "code",
   "execution_count": 5,
   "metadata": {},
   "outputs": [],
   "source": [
    "eigen_subspaces = []\n",
    "for i in range(IDs):\n",
    "    elements = np.asarray(train_subspaces[i])\n",
    "    S = np.matmul(elements,np.transpose(elements))\n",
    "    w, v = np.linalg.eig(S)\n",
    "    U = preprocessing.normalize(np.matmul(np.transpose(elements),v), axis=0)\n",
    "    eigen_subspaces.append(U)"
   ]
  },
  {
   "cell_type": "code",
   "execution_count": 6,
   "metadata": {},
   "outputs": [
    {
     "data": {
      "text/plain": [
       "<matplotlib.image.AxesImage at 0x1d2ad033630>"
      ]
     },
     "execution_count": 6,
     "metadata": {},
     "output_type": "execute_result"
    },
    {
     "data": {
      "image/png": "[encoded data removed]",
      "text/plain": [
       "<Figure size 432x288 with 1 Axes>"
      ]
     },
     "metadata": {},
     "output_type": "display_data"
    }
   ],
   "source": [
    "img = X_test[1]\n",
    "plt.imshow(np.transpose(np.array_split(img,W)), cmap='gray')"
   ]
  },
  {
   "cell_type": "code",
   "execution_count": 7,
   "metadata": {},
   "outputs": [
    {
     "name": "stdout",
     "output_type": "stream",
     "text": [
      "Correct = 1.92%\n"
     ]
    }
   ],
   "source": [
    "correct = 0\n",
    "for j in range(len(l_test[0])):\n",
    "    error = []\n",
    "    for i in range(IDs):\n",
    "        identity = np.matmul(X_test[j],eigen_subspaces[i])\n",
    "        recon = np.matmul(identity, np.transpose(eigen_subspaces[i]))\n",
    "        diff = X_test[j]-recon\n",
    "        error.append(np.matmul(diff,np.transpose(diff)))\n",
    "    guess = np.argmin(error)+1\n",
    "    if guess == l_test[0][j]:\n",
    "        correct += 1\n",
    "            \n",
    "print('Correct = '+str(round(100*correct/len(l_test[0]),2))+'%')"
   ]
  }
 ],
 "metadata": {
  "kernelspec": {
   "display_name": "Python 3",
   "language": "python",
   "name": "python3"
  },
  "language_info": {
   "codemirror_mode": {
    "name": "ipython",
    "version": 3
   },
   "file_extension": ".py",
   "mimetype": "text/x-python",
   "name": "python",
   "nbconvert_exporter": "python",
   "pygments_lexer": "ipython3",
   "version": "3.5.4"
  }
 },
 "nbformat": 4,
 "nbformat_minor": 2
}
