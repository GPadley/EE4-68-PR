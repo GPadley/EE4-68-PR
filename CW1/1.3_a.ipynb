{
 "cells": [
  {
   "cell_type": "code",
   "execution_count": 1,
   "metadata": {},
   "outputs": [],
   "source": [
    "import scipy.io as sio\n",
    "import numpy as np\n",
    "import pandas as pd\n",
    "from sklearn.model_selection import train_test_split\n",
    "from sklearn import preprocessing\n",
    "import matplotlib.pyplot as plt\n",
    "import timeit\n",
    "import matplotlib as mpl\n",
    "\n",
    "mpl.rcParams['figure.figsize'] = (10,15)\n",
    "ds = sio.loadmat('face.mat')"
   ]
  },
  {
   "cell_type": "code",
   "execution_count": 2,
   "metadata": {},
   "outputs": [],
   "source": [
    "X = ds['X']\n",
    "l = ds['l'][0]\n",
    "split = 0.8\n",
    "W = 46\n",
    "H = 56\n",
    "IDs = 52\n",
    "X = pd.DataFrame(X.transpose())\n",
    "N = X.shape[0]*split\n",
    "l = pd.DataFrame(l)"
   ]
  },
  {
   "cell_type": "code",
   "execution_count": 3,
   "metadata": {},
   "outputs": [],
   "source": [
    "X_train, X_test, l_train, l_test = train_test_split(X, l, test_size=(1-split), stratify = l)\n",
    "# X_bar = np.mean(X, axis=1)\n",
    "X_train, X_test = X_train.values, X_test.values\n",
    "l_train, l_test = l_train.values, np.transpose(l_test.values)\n",
    "X_bar = np.transpose([np.mean(X_train, axis=0)])\n",
    "X_bar = np.ndarray.flatten(X_bar)"
   ]
  },
  {
   "cell_type": "code",
   "execution_count": 4,
   "metadata": {},
   "outputs": [],
   "source": [
    "train_subspaces = []\n",
    "for i in range(IDs):\n",
    "    images = []\n",
    "    for j in range(int(N)):\n",
    "        if l_train[j][0] == i+1:\n",
    "            images.append(X_train[j])\n",
    "    train_subspaces.append(images)"
   ]
  },
  {
   "cell_type": "code",
   "execution_count": 5,
   "metadata": {},
   "outputs": [],
   "source": [
    "eigen_subspaces = []\n",
    "elements = np.asarray(train_subspaces[0])\n",
    "elements_mean = np.mean(elements, axis=0)\n",
    "elements = np.subtract(elements,elements_mean)\n",
    "S_W = np.matmul(elements.T,elements)\n",
    "mean_diff = np.atleast_2d(elements_mean)-X_bar\n",
    "S_B = np.matmul(mean_diff.T, mean_diff)\n",
    "S = np.matmul(elements,np.transpose(elements))\n",
    "w, v = np.linalg.eig(S)\n",
    "U = preprocessing.normalize(np.matmul(np.transpose(elements),v), axis=0)\n",
    "eigen_subspaces.append([U,elements_mean])\n",
    "for i in range(1,IDs):\n",
    "    elements = np.asarray(train_subspaces[i])\n",
    "    elements_mean = np.mean(elements, axis=0)\n",
    "    elements = np.subtract(elements,elements_mean)\n",
    "    S_W += np.matmul(elements.T,elements)\n",
    "    mean_diff = np.atleast_2d(elements_mean)-X_bar\n",
    "    S_B += np.matmul(mean_diff.T, mean_diff)\n",
    "    S = np.matmul(elements,np.transpose(elements))\n",
    "    w, v = np.linalg.eig(S)\n",
    "    U = preprocessing.normalize(np.matmul(np.transpose(elements),v), axis=0)\n",
    "    eigen_subspaces.append([U,elements_mean])"
   ]
  },
  {
   "cell_type": "code",
   "execution_count": 12,
   "metadata": {},
   "outputs": [
    {
     "name": "stdout",
     "output_type": "stream",
     "text": [
      "364\n",
      "51\n",
      "364.0\n"
     ]
    }
   ],
   "source": [
    "print(np.linalg.matrix_rank(S_W))\n",
    "print(np.linalg.matrix_rank(S_B))\n",
    "print(N-52)"
   ]
  },
  {
   "cell_type": "code",
   "execution_count": 25,
   "metadata": {},
   "outputs": [
    {
     "name": "stdout",
     "output_type": "stream",
     "text": [
      "415\n"
     ]
    },
    {
     "name": "stderr",
     "output_type": "stream",
     "text": [
      "c:\\users\\georg\\appdata\\local\\programs\\python\\python35\\lib\\site-packages\\numpy\\core\\numeric.py:492: ComplexWarning: Casting complex values to real discards the imaginary part\n",
      "  return array(a, dtype, copy=False, order=order)\n"
     ]
    },
    {
     "data": {
      "image/png": "[encoded data removed]",
      "text/plain": [
       "<Figure size 432x288 with 1 Axes>"
      ]
     },
     "metadata": {},
     "output_type": "display_data"
    }
   ],
   "source": [
    "eig_val, eig_vec = np.linalg.eig((np.matmul(np.linalg.inv(S_W),S_B)))\n",
    "S_T = S_W + S_B\n",
    "M = 51\n",
    "print(np.linalg.matrix_rank(S_T))\n",
    "# print(S_T.shape)\n",
    "# print(N)\n",
    "inds = eig_val.argsort()[::-1]\n",
    "eig_val = eig_val[inds]\n",
    "eig_vec = eig_vec[:,inds]\n",
    "eig_val = eig_val[:M]\n",
    "eig_vec = eig_vec[:,:M]\n",
    "\n",
    "plt.semilogy(eig_val)\n",
    "plt.ylabel('Eigenvalue')\n",
    "plt.show()"
   ]
  },
  {
   "cell_type": "code",
   "execution_count": 8,
   "metadata": {},
   "outputs": [],
   "source": [
    "#Feature vectors y_n\n",
    "# y_n = W_T * X_N\n",
    "#maybe use later for the sake fo showing data?\n",
    "\n",
    "# W_PCA \n"
   ]
  },
  {
   "cell_type": "code",
   "execution_count": 9,
   "metadata": {},
   "outputs": [],
   "source": [
    "# correct = 0\n",
    "# wrong = []\n",
    "# right = []\n",
    "# for j in range(len(l_test[0])):\n",
    "#     error = []\n",
    "#     for i in range(IDs):\n",
    "#         test_img = X_test[j]-eigen_subspaces[i][1]\n",
    "#         identity = np.matmul(test_img,eigen_subspaces[i][0])\n",
    "#         recon = np.matmul(identity, np.transpose(eigen_subspaces[i][0]))+eigen_subspaces[i][1]\n",
    "#         diff = X_test[j]-recon\n",
    "#         error.append(np.matmul(diff,np.transpose(diff)))\n",
    "#     guess = np.argmin(error)+1\n",
    "#     if guess == l_test[0][j]:\n",
    "#         correct += 1\n",
    "#         right.append([[l_test[0][j], j], [guess]])\n",
    "#     else:\n",
    "#         wrong.append([[l_test[0][j], j], [guess]])\n",
    "            \n",
    "# print('Correct = '+str(round(100*correct/len(l_test[0]),2))+'%')"
   ]
  },
  {
   "cell_type": "code",
   "execution_count": 10,
   "metadata": {},
   "outputs": [],
   "source": [
    "# plt.figure(figsize=(15.0,9.0))\n",
    "# incorrect = wrong[0]\n",
    "# guess = incorrect[1][0]-1\n",
    "# train_img = np.asarray(train_subspaces[guess])[0]\n",
    "# test_img = np.transpose(np.array_split(X_test[incorrect[0][1]], W))\n",
    "# train_img = np.transpose(np.array_split(np.transpose(train_img), W))\n",
    "# ax = plt.subplot(1, 2, 1)\n",
    "# ax.imshow(test_img, cmap='gray')\n",
    "# ax = plt.subplot(1, 2, 2)\n",
    "# ax.imshow(train_img, cmap='gray')"
   ]
  },
  {
   "cell_type": "code",
   "execution_count": 11,
   "metadata": {},
   "outputs": [],
   "source": [
    "# plt.figure(figsize=(15.0,9.0))\n",
    "# correct = right[0]\n",
    "# guess = correct[1][0]-1\n",
    "# train_img = np.asarray(train_subspaces[guess])[0]\n",
    "# test_img = np.transpose(np.array_split(X_test[correct[0][1]], W))\n",
    "# train_img = np.transpose(np.array_split(np.transpose(train_img), W))\n",
    "# ax = plt.subplot(1, 2, 1)\n",
    "# ax.imshow(test_img, cmap='gray')\n",
    "# ax = plt.subplot(1, 2, 2)\n",
    "# ax.imshow(train_img, cmap='gray')"
   ]
  }
 ],
 "metadata": {
  "kernelspec": {
   "display_name": "Python 3",
   "language": "python",
   "name": "python3"
  },
  "language_info": {
   "codemirror_mode": {
    "name": "ipython",
    "version": 3
   },
   "file_extension": ".py",
   "mimetype": "text/x-python",
   "name": "python",
   "nbconvert_exporter": "python",
   "pygments_lexer": "ipython3",
   "version": "3.5.4"
  }
 },
 "nbformat": 4,
 "nbformat_minor": 2
}
