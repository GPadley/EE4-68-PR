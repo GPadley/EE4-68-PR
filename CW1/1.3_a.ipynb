{
 "cells": [
  {
   "cell_type": "code",
   "execution_count": 1,
   "metadata": {},
   "outputs": [],
   "source": [
    "import scipy.io as sio\n",
    "import numpy as np\n",
    "import pandas as pd\n",
    "from sklearn.model_selection import train_test_split\n",
    "from sklearn import preprocessing\n",
    "import matplotlib.pyplot as plt\n",
    "import timeit\n",
    "import matplotlib as mpl\n",
    "\n",
    "mpl.rcParams['figure.figsize'] = (10,15)\n",
    "ds = sio.loadmat('face.mat')"
   ]
  },
  {
   "cell_type": "code",
   "execution_count": 8,
   "metadata": {},
   "outputs": [],
   "source": [
    "def train_test_eq_split(X, y, n_per_class, random_state=None):\n",
    "    if random_state:\n",
    "        np.random.seed(random_state)\n",
    "    sampled = X.groupby(y, sort=False).apply(lambda frame: frame.sample(n_per_class))\n",
    "    mask = sampled.index.get_level_values(1)\n",
    "\n",
    "    X_train = X.drop(mask)\n",
    "    X_test = X.loc[mask]\n",
    "    y_train = y.drop(mask)\n",
    "    y_test = y.loc[mask]\n",
    "\n",
    "    return X_train, X_test, y_train, y_test"
   ]
  },
  {
   "cell_type": "code",
   "execution_count": 14,
   "metadata": {},
   "outputs": [],
   "source": [
    "X = ds['X']\n",
    "l = ds['l'][0]\n",
    "split = 0.8\n",
    "W = 46\n",
    "H = 56\n",
    "IDs = 52\n",
    "X = pd.DataFrame(X.transpose())\n",
    "N = X.shape[0]*split\n",
    "l = pd.DataFrame(l)"
   ]
  },
  {
   "cell_type": "code",
   "execution_count": 18,
   "metadata": {},
   "outputs": [],
   "source": [
    "X_train, X_test, l_train, l_test = train_test_split(X, l, test_size=(1-split), stratify = l)\n",
    "# X_bar = np.mean(X, axis=1)\n",
    "X_train, X_test = X_train.values, X_test.values\n",
    "l_train, l_test = l_train.values, np.transpose(l_test.values)\n",
    "X_bar = np.transpose([np.mean(X_train, axis=0)])\n",
    "X_bar = np.ndarray.flatten(X_bar)"
   ]
  },
  {
   "cell_type": "code",
   "execution_count": 23,
   "metadata": {},
   "outputs": [
    {
     "name": "stdout",
     "output_type": "stream",
     "text": [
      "[1, 1, 2, 2, 3, 3, 4, 4, 5, 5, 6, 6, 7, 7, 8, 8, 9, 9, 10, 10, 11, 11, 12, 12, 13, 13, 14, 14, 15, 15, 16, 16, 17, 17, 18, 18, 19, 19, 20, 20, 21, 21, 22, 22, 23, 23, 24, 24, 25, 25, 26, 26, 27, 27, 28, 28, 29, 29, 30, 30, 31, 31, 32, 32, 33, 33, 34, 34, 35, 35, 36, 36, 37, 37, 38, 38, 39, 39, 40, 40, 41, 41, 42, 42, 43, 43, 44, 44, 45, 45, 46, 46, 47, 47, 48, 48, 49, 49, 50, 50, 51, 51, 52, 52]\n"
     ]
    }
   ],
   "source": [
    "#Confirmed split with equal class selection to remeove randomised bias\n",
    "print(sorted(l_test[0]))"
   ]
  },
  {
   "cell_type": "code",
   "execution_count": null,
   "metadata": {},
   "outputs": [],
   "source": [
    "train_subspaces = []\n",
    "for i in range(IDs):\n",
    "    images = []\n",
    "    for j in range(int(N)):\n",
    "        if l_train[j][0] == i+1:\n",
    "            images.append(X_train[j])\n",
    "    train_subspaces.append(images)"
   ]
  },
  {
   "cell_type": "code",
   "execution_count": null,
   "metadata": {},
   "outputs": [],
   "source": [
    "eigen_subspaces = []\n",
    "S_W = []\n",
    "S_B = []\n",
    "for i in range(IDs):\n",
    "    elements = np.asarray(train_subspaces[i])\n",
    "    elements_mean = np.mean(elements, axis=0)\n",
    "    elements = np.subtract(elements,elements_mean)\n",
    "    if S_W == []:\n",
    "        S_W = np.matmul(elements.T,elements)\n",
    "        mean_diff = np.atleast_2d(elements_mean).T-X_bar\n",
    "        S_B = np.matmul(mean_diff, mean_diff.T)\n",
    "    else:\n",
    "        S_W += np.matmul(elements.T,elements)\n",
    "        mean_diff = np.atleast_2d(elements_mean).T-X_bar\n",
    "        S_B += np.matmul(mean_diff, mean_diff.T)\n",
    "    S = np.matmul(elements,np.transpose(elements))\n",
    "    w, v = np.linalg.eig(S)\n",
    "    U = preprocessing.normalize(np.matmul(np.transpose(elements),v), axis=0)\n",
    "    eigen_subspaces.append([U,elements_mean])\n",
    "# print(elements_mean)"
   ]
  },
  {
   "cell_type": "code",
   "execution_count": null,
   "metadata": {},
   "outputs": [],
   "source": [
    "print(np.linalg.matrix_rank(S_W))\n",
    "print(np.linalg.matrix_rank(S_B))\n",
    "print(N-52)"
   ]
  },
  {
   "cell_type": "code",
   "execution_count": null,
   "metadata": {},
   "outputs": [],
   "source": [
    "S_T = S_W + S_B\n",
    "print(np.linalg.matrix_rank(S_T))\n",
    "print(S_T.shape)\n",
    "print(N)"
   ]
  },
  {
   "cell_type": "code",
   "execution_count": null,
   "metadata": {},
   "outputs": [],
   "source": [
    "#Feature vectors y_n\n",
    "# y_n = W_T * X_N\n",
    "#maybe use later for the sake fo showing data?\n",
    "\n",
    "# W_PCA \n"
   ]
  },
  {
   "cell_type": "code",
   "execution_count": null,
   "metadata": {},
   "outputs": [],
   "source": [
    "# correct = 0\n",
    "# wrong = []\n",
    "# right = []\n",
    "# for j in range(len(l_test[0])):\n",
    "#     error = []\n",
    "#     for i in range(IDs):\n",
    "#         test_img = X_test[j]-eigen_subspaces[i][1]\n",
    "#         identity = np.matmul(test_img,eigen_subspaces[i][0])\n",
    "#         recon = np.matmul(identity, np.transpose(eigen_subspaces[i][0]))+eigen_subspaces[i][1]\n",
    "#         diff = X_test[j]-recon\n",
    "#         error.append(np.matmul(diff,np.transpose(diff)))\n",
    "#     guess = np.argmin(error)+1\n",
    "#     if guess == l_test[0][j]:\n",
    "#         correct += 1\n",
    "#         right.append([[l_test[0][j], j], [guess]])\n",
    "#     else:\n",
    "#         wrong.append([[l_test[0][j], j], [guess]])\n",
    "            \n",
    "# print('Correct = '+str(round(100*correct/len(l_test[0]),2))+'%')"
   ]
  },
  {
   "cell_type": "code",
   "execution_count": null,
   "metadata": {},
   "outputs": [],
   "source": [
    "# plt.figure(figsize=(15.0,9.0))\n",
    "# incorrect = wrong[0]\n",
    "# guess = incorrect[1][0]-1\n",
    "# train_img = np.asarray(train_subspaces[guess])[0]\n",
    "# test_img = np.transpose(np.array_split(X_test[incorrect[0][1]], W))\n",
    "# train_img = np.transpose(np.array_split(np.transpose(train_img), W))\n",
    "# ax = plt.subplot(1, 2, 1)\n",
    "# ax.imshow(test_img, cmap='gray')\n",
    "# ax = plt.subplot(1, 2, 2)\n",
    "# ax.imshow(train_img, cmap='gray')"
   ]
  },
  {
   "cell_type": "code",
   "execution_count": null,
   "metadata": {},
   "outputs": [],
   "source": [
    "# plt.figure(figsize=(15.0,9.0))\n",
    "# correct = right[0]\n",
    "# guess = correct[1][0]-1\n",
    "# train_img = np.asarray(train_subspaces[guess])[0]\n",
    "# test_img = np.transpose(np.array_split(X_test[correct[0][1]], W))\n",
    "# train_img = np.transpose(np.array_split(np.transpose(train_img), W))\n",
    "# ax = plt.subplot(1, 2, 1)\n",
    "# ax.imshow(test_img, cmap='gray')\n",
    "# ax = plt.subplot(1, 2, 2)\n",
    "# ax.imshow(train_img, cmap='gray')"
   ]
  }
 ],
 "metadata": {
  "kernelspec": {
   "display_name": "Python 3",
   "language": "python",
   "name": "python3"
  },
  "language_info": {
   "codemirror_mode": {
    "name": "ipython",
    "version": 3
   },
   "file_extension": ".py",
   "mimetype": "text/x-python",
   "name": "python",
   "nbconvert_exporter": "python",
   "pygments_lexer": "ipython3",
   "version": "3.7.0"
  }
 },
 "nbformat": 4,
 "nbformat_minor": 2
}
