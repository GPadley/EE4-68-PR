{
 "cells": [
  {
   "cell_type": "code",
   "execution_count": 1,
   "metadata": {},
   "outputs": [],
   "source": [
    "import scipy.io as sio\n",
    "import numpy as np\n",
    "import pandas as pd\n",
    "from sklearn.model_selection import train_test_split\n",
    "from sklearn import preprocessing\n",
    "from sklearn.metrics import confusion_matrix\n",
    "import matplotlib.pyplot as plt\n",
    "import timeit\n",
    "import matplotlib as mpl\n",
    "\n",
    "mpl.rcParams['figure.figsize'] = (10,15)\n",
    "ds = sio.loadmat('face.mat')"
   ]
  },
  {
   "cell_type": "code",
   "execution_count": 2,
   "metadata": {},
   "outputs": [],
   "source": [
    "X = ds['X']\n",
    "l = ds['l'][0]\n",
    "split = 0.8\n",
    "W = 46\n",
    "H = 56\n",
    "IDs = 52\n",
    "X = pd.DataFrame(X.transpose())\n",
    "l = pd.DataFrame(l)\n",
    "\n",
    "#bagging \n",
    "bag_ratio = 0.75\n",
    "M_pca_ratio = 0.95\n",
    "M_lda_ratio = 0.90\n",
    "N = round(X.shape[0]*split) \n",
    "N_bag = round(X.shape[0]*split*bag_ratio) #different for each bag now"
   ]
  },
  {
   "cell_type": "code",
   "execution_count": 3,
   "metadata": {},
   "outputs": [
    {
     "name": "stdout",
     "output_type": "stream",
     "text": [
      "    l_train.shape (416, 1)\n",
      "    X_train.shape (416, 2576)\n"
     ]
    }
   ],
   "source": [
    "X_train, X_test, l_train, l_test = train_test_split(X, l, test_size=(1-split), stratify = l)\n",
    "# X_bar = np.mean(X, axis=1)\n",
    "X_train, X_test = X_train.values, X_test.values\n",
    "l_train, l_test = l_train.values, np.transpose(l_test.values)\n",
    "X_bar = np.transpose([np.mean(X_train, axis=0)])\n",
    "X_bar = np.ndarray.flatten(X_bar)\n",
    "print('    l_train.shape',l_train.shape)\n",
    "print('    X_train.shape', X_train.shape)"
   ]
  },
  {
   "cell_type": "markdown",
   "metadata": {},
   "source": [
    "## Functions to apply 1.3_a to bagging"
   ]
  },
  {
   "cell_type": "code",
   "execution_count": 4,
   "metadata": {},
   "outputs": [],
   "source": [
    "from random import randrange\n",
    "#Take the current split data and bag randomly \n",
    "def make_bag(X_train_data, l_train_data):\n",
    "    X_train_part = bag_train_space(X_train_data, l_train_data, 1)\n",
    "    X_bag_part = []\n",
    "    l_bag_part = []\n",
    "#     print(X_train.shape)\n",
    "#     print(bag, bag_size)\n",
    "    for i in range(IDs):\n",
    "#         print('Bullshit ' , len(X_train[i]))\n",
    "        for j in range(round(len(X_train_part[i])*bag_ratio)):\n",
    "            index = randrange(len(X_train_part[i]))\n",
    "#             print(index)\n",
    "            X_bag_part.append(X_train_part[i][index])\n",
    "            l_bag_part.append(i+1)\n",
    "    X_bar_part_bag = np.transpose([np.mean(X_bag_part, axis=0)])\n",
    "    X_bar_part_bag= np.ndarray.flatten(X_bar_part_bag)\n",
    "#     print()\n",
    "    return np.asarray(X_bag_part), np.asarray(l_bag_part), np.asarray(X_bar_part_bag)"
   ]
  },
  {
   "cell_type": "code",
   "execution_count": 5,
   "metadata": {},
   "outputs": [],
   "source": [
    "def bag_train_space(X_bag_data, l_bag_data, ratio):\n",
    "\n",
    "    train_subspaces = []\n",
    "    \n",
    "    for i in range(IDs):\n",
    "        images = []\n",
    "        for j in range(round(N*ratio)):\n",
    "            if l_bag_data[j] == i+1:\n",
    "                images.append(X_bag_data[j])\n",
    "        train_subspaces.append(images)\n",
    "    return np.asarray(train_subspaces)"
   ]
  },
  {
   "cell_type": "code",
   "execution_count": 6,
   "metadata": {},
   "outputs": [],
   "source": [
    "def SWSB(bag_subspaces, X_bar_bag):\n",
    "    elements = np.asarray(bag_subspaces[0])\n",
    "    elements_mean = np.mean(elements, axis=0)\n",
    "    elements = np.subtract(elements,elements_mean)\n",
    "    S_W = np.matmul(elements.T,elements)\n",
    "    mean_diff = np.atleast_2d(elements_mean)-X_bar_bag\n",
    "#     print(mean_diff.shape)\n",
    "    S_B = np.matmul(mean_diff.T, mean_diff)\n",
    "    for i in range(1,IDs):\n",
    "#         print(i)\n",
    "        elements = np.asarray(bag_subspaces[i])\n",
    "#         print(train_subspaces.shape)\n",
    "        elements_mean = np.mean(elements, axis=0)\n",
    "        elements = np.subtract(elements,elements_mean)\n",
    "        S_W += np.matmul(elements.T,elements)\n",
    "        mean_diff = np.atleast_2d(elements_mean)-X_bar_bag\n",
    "        S_B += np.matmul(mean_diff.T, mean_diff)\n",
    "    \n",
    "    return S_W, S_B\n",
    "                   "
   ]
  },
  {
   "cell_type": "code",
   "execution_count": 7,
   "metadata": {},
   "outputs": [],
   "source": [
    "#PCA\n",
    "def PCA(X_train_pca, X_bar_pca):\n",
    "    A = np.subtract(X_train_pca,X_bar_pca).T\n",
    "#     print(A.shape)\n",
    "#     print(np.matmul(A.T,A).shape)\n",
    "    w_pca, v_pca = np.linalg.eigh((1/N)*np.matmul(A.T,A))\n",
    "    inds = w_pca.argsort()[::-1]\n",
    "    w_pca = w_pca[inds]\n",
    "    v_pca = v_pca[:,inds]\n",
    "    cum_w = np.cumsum(w_pca)/np.sum(w_pca);\n",
    "    M_pca = np.argmax(cum_w>M_pca_ratio)\n",
    "    w_pca = w_pca[:M_pca]\n",
    "    v_pca = v_pca[:,:M_pca]\n",
    "    v_pca = preprocessing.normalize(np.matmul(A,v_pca), axis=0)\n",
    "    return w_pca, v_pca"
   ]
  },
  {
   "cell_type": "code",
   "execution_count": 8,
   "metadata": {},
   "outputs": [],
   "source": [
    "#LDA\n",
    "def LDA(S_W_bag, S_B_bag, v_pca):\n",
    "    proj_1 = np.dot(np.dot(v_pca.T,S_W_bag),v_pca)\n",
    "    proj_2 = np.dot(np.dot(v_pca.T,S_B_bag),v_pca)\n",
    "\n",
    "    w_fld, v_fld = np.linalg.eigh(np.linalg.inv(proj_1).dot(proj_2))\n",
    "    \n",
    "    cum_w = np.cumsum(w_fld)/np.sum(w_fld);\n",
    "    M_lda = 30\n",
    "    \n",
    "    inds = w_fld.argsort()[::-1]\n",
    "    w_fld = w_fld[inds]\n",
    "#     print(w_fld.shape)\n",
    "    v_fld = v_fld[:,inds]\n",
    "\n",
    "    \n",
    "    w_fld = w_fld[:M_lda]\n",
    "    v_fld = v_fld[:,:M_lda]\n",
    "    return w_fld, v_fld\n",
    "    \n",
    "    "
   ]
  },
  {
   "cell_type": "code",
   "execution_count": 9,
   "metadata": {},
   "outputs": [],
   "source": [
    "#W_OPT\n",
    "def w_opt(v_pca, v_fld): \n",
    "    v_opt = np.dot(v_pca,v_fld)\n",
    "    v_opt = preprocessing.normalize(v_opt,axis=0)\n",
    "    return v_opt"
   ]
  },
  {
   "cell_type": "code",
   "execution_count": 10,
   "metadata": {},
   "outputs": [],
   "source": [
    "#Get error of each bag\n",
    "def error(v_opt, X_train_dataset, X_test_data, l_train_error, l_test_error):\n",
    "    Y_train = []\n",
    "    for i in range(int(N_bag)):\n",
    "        Y_train.append(np.matmul(v_opt.T,X_train_dataset[i]))\n",
    "        \n",
    "    correct = 0\n",
    "    l_pred = []\n",
    "    \n",
    "    for i in range(len(X_test)):\n",
    "        y_test = np.matmul(v_opt.T, X_test_data[i])\n",
    "        diff = np.subtract(Y_train, y_test)\n",
    "        pred = np.diag(np.matmul(diff, diff.T))\n",
    "        value = np.argmin(pred)\n",
    "        l_pred.append(l_train_error[value])\n",
    "        if l_train_error[value] == l_test_error[0][i]:\n",
    "            correct += 1\n",
    "            \n",
    "    return correct/len(l_test[0]), l_pred"
   ]
  },
  {
   "cell_type": "markdown",
   "metadata": {},
   "source": [
    "#### Calling Functions \n",
    "***For loop***\n",
    "- make bags\n",
    "- make training subspaces\n",
    "- make eigen subspaces & S_W & S_B \n",
    "- PCA \n",
    "- LDA \n",
    "- W_opt \n",
    "- Error calculation\n",
    "- Committie machine\n"
   ]
  },
  {
   "cell_type": "code",
   "execution_count": 11,
   "metadata": {
    "scrolled": true
   },
   "outputs": [
    {
     "name": "stdout",
     "output_type": "stream",
     "text": [
      "    X bag shape (312, 2576) l bag shape (312,) X bar bag (2576,)\n",
      "    bag train space shape: (52, 6, 2576)\n",
      "    S_W (2576, 2576) S_B (2576, 2576)\n"
     ]
    }
   ],
   "source": [
    "# TEST SCRIPT\n",
    "X_bag_0, l_bag_0, X_bar_0 = make_bag(X_train, l_train)\n",
    "\n",
    "print('    X bag shape', X_bag_0.shape,'l bag shape', l_bag_0.shape, 'X bar bag', X_bar_0.shape)\n",
    "\n",
    "bag_0_train_space = bag_train_space(X_bag_0, l_bag_0, bag_ratio)\n",
    "\n",
    "print('    bag train space shape:', bag_0_train_space.shape)\n",
    "\n",
    "S_W_0, S_B_0= SWSB(bag_0_train_space, X_bar_0)\n",
    "\n",
    "print('    S_W', S_W_0.shape, 'S_B', S_B_0.shape)"
   ]
  },
  {
   "cell_type": "code",
   "execution_count": 12,
   "metadata": {},
   "outputs": [
    {
     "name": "stdout",
     "output_type": "stream",
     "text": [
      "(312,)\n"
     ]
    }
   ],
   "source": [
    "print(l_bag_0.shape)"
   ]
  },
  {
   "cell_type": "code",
   "execution_count": 13,
   "metadata": {},
   "outputs": [],
   "source": [
    "def N_bag_error(No_bags, X_train, l_train):\n",
    "    bag_error = []\n",
    "    bag_pred = []\n",
    "    for i in range(No_bags):\n",
    "        print('    Bag:', i+1)\n",
    "        X_bag, l_bag, X_bar_bag = make_bag(X_train, l_train)\n",
    "        bag_space = bag_train_space(X_bag, l_bag, bag_ratio)\n",
    "#         print(X_bar_bag.shape)\n",
    "        S_W, S_B = SWSB(bag_space, X_bar_bag)\n",
    "        w_pca, v_pca = PCA(X_bag, X_bar_bag)\n",
    "        w_fld, v_fld = LDA(S_W, S_B, v_pca)\n",
    "        v_opt = w_opt(v_pca, v_fld)\n",
    "        err, l_pred = error(v_opt, X_bag, X_test, l_bag, l_test)\n",
    "        print('    ', err)\n",
    "        bag_error.append(err)\n",
    "        bag_pred.append(l_pred)\n",
    "        \n",
    "        \n",
    "    return bag_error, bag_pred      "
   ]
  },
  {
   "cell_type": "code",
   "execution_count": 14,
   "metadata": {},
   "outputs": [],
   "source": [
    "# def commit_mac(bag_error, bag_pred):\n",
    "#     for \n",
    "#     y_com = "
   ]
  },
  {
   "cell_type": "code",
   "execution_count": 15,
   "metadata": {},
   "outputs": [
    {
     "name": "stdout",
     "output_type": "stream",
     "text": [
      "    Bag: 1\n",
      "     0.5961538461538461\n",
      "    Bag: 2\n",
      "     0.5673076923076923\n",
      "    Bag: 3\n",
      "     0.5769230769230769\n",
      "    Bag: 4\n",
      "     0.6153846153846154\n",
      "    Bag: 5\n",
      "     0.6057692307692307\n",
      "    Bag: 6\n",
      "     0.5769230769230769\n",
      "    Bag: 7\n",
      "     0.6057692307692307\n",
      "    Bag: 8\n",
      "     0.5961538461538461\n",
      "    Bag: 9\n",
      "     0.5384615384615384\n",
      "    Bag: 10\n",
      "     0.5480769230769231\n",
      "    Bag: 11\n",
      "     0.4519230769230769\n",
      "    Bag: 12\n",
      "     0.5480769230769231\n",
      "    Bag: 13\n",
      "     0.5576923076923077\n",
      "    Bag: 14\n",
      "     0.5480769230769231\n",
      "    Bag: 15\n",
      "     0.5769230769230769\n",
      "    Bag: 16\n",
      "     0.6346153846153846\n",
      "    Bag: 17\n",
      "     0.5769230769230769\n",
      "    Bag: 18\n",
      "     0.5576923076923077\n",
      "    Bag: 19\n",
      "     0.5576923076923077\n",
      "    Bag: 20\n",
      "     0.6442307692307693\n",
      "    Bag: 21\n",
      "     0.5096153846153846\n",
      "    Bag: 22\n",
      "     0.5865384615384616\n",
      "    Bag: 23\n",
      "     0.625\n",
      "    Bag: 24\n",
      "     0.5673076923076923\n",
      "    Bag: 25\n",
      "     0.5576923076923077\n",
      "    Bag: 26\n",
      "     0.5673076923076923\n",
      "    Bag: 27\n",
      "     0.5192307692307693\n",
      "    Bag: 28\n",
      "     0.5384615384615384\n",
      "    Bag: 29\n",
      "     0.6730769230769231\n",
      "    Bag: 30\n",
      "     0.5576923076923077\n",
      "    Bag: 31\n",
      "     0.5769230769230769\n",
      "    Bag: 32\n",
      "     0.5576923076923077\n",
      "    Bag: 33\n",
      "     0.5673076923076923\n",
      "    Bag: 34\n",
      "     0.5673076923076923\n",
      "    Bag: 35\n",
      "     0.5480769230769231\n",
      "    Bag: 36\n",
      "     0.5576923076923077\n",
      "    Bag: 37\n",
      "     0.6153846153846154\n",
      "    Bag: 38\n",
      "     0.5961538461538461\n",
      "    Bag: 39\n",
      "     0.5384615384615384\n",
      "    Bag: 40\n",
      "     0.5192307692307693\n",
      "    Bag: 41\n",
      "     0.5576923076923077\n",
      "    Bag: 42\n",
      "     0.6153846153846154\n",
      "    Bag: 43\n",
      "     0.6634615384615384\n",
      "    Bag: 44\n",
      "     0.5384615384615384\n",
      "    Bag: 45\n",
      "     0.5769230769230769\n",
      "    Bag: 46\n",
      "     0.5769230769230769\n",
      "    Bag: 47\n",
      "     0.625\n",
      "    Bag: 48\n",
      "     0.5384615384615384\n",
      "    Bag: 49\n",
      "     0.5865384615384616\n",
      "    Bag: 50\n",
      "     0.5673076923076923\n",
      "    Bag: 51\n",
      "     0.5192307692307693\n",
      "    Bag: 52\n",
      "     0.5480769230769231\n",
      "    Bag: 53\n",
      "     0.5769230769230769\n",
      "    Bag: 54\n",
      "     0.5480769230769231\n",
      "    Bag: 55\n",
      "     0.5865384615384616\n",
      "    Bag: 56\n",
      "     0.5673076923076923\n",
      "    Bag: 57\n",
      "     0.5865384615384616\n",
      "    Bag: 58\n",
      "     0.5961538461538461\n",
      "    Bag: 59\n",
      "     0.6442307692307693\n",
      "    Bag: 60\n",
      "     0.5769230769230769\n"
     ]
    }
   ],
   "source": [
    "bags_error, bags_pred = N_bag_error(60, X_train, l_train)"
   ]
  },
  {
   "cell_type": "code",
   "execution_count": 16,
   "metadata": {},
   "outputs": [
    {
     "name": "stdout",
     "output_type": "stream",
     "text": [
      "(60, 104)\n"
     ]
    }
   ],
   "source": [
    "bags_pred = np.asarray(bags_pred)\n",
    "print(bags_pred.shape)"
   ]
  },
  {
   "cell_type": "code",
   "execution_count": 17,
   "metadata": {},
   "outputs": [],
   "source": [
    "def commit_cor(bags_pred, l_test):\n",
    "    correct = 0\n",
    "    for i in range(len(bags_pred)):\n",
    "#     for i in range(bags_pred.shape[0]):\n",
    "#         value = np.floor(np.argmin(bags_pred[i])/round(8*bag_ratio))+1\n",
    "# #         print(value, l_test[0][i])\n",
    "        if bags_pred[i] == l_test[0][i]:\n",
    "            correct += 1\n",
    "    return correct/104"
   ]
  },
  {
   "cell_type": "code",
   "execution_count": 18,
   "metadata": {},
   "outputs": [],
   "source": [
    "def commit_mac(bags_pred, bags_err):\n",
    "    \n",
    "    y_pred = []\n",
    "    for i in range(bags_pred.T.shape[0]):\n",
    "        im_pred = np.zeros(IDs)\n",
    "        for j in range(bags_pred.T.shape[1]):\n",
    "            im_pred[bags_pred.T[i][j]-1] += 1\n",
    "        y_pred.append(np.argmax(im_pred)+1)\n",
    "    return y_pred\n",
    "    "
   ]
  },
  {
   "cell_type": "code",
   "execution_count": 19,
   "metadata": {},
   "outputs": [],
   "source": [
    "bags_commit = commit_mac(bags_pred, bags_error)"
   ]
  },
  {
   "cell_type": "code",
   "execution_count": 20,
   "metadata": {},
   "outputs": [
    {
     "name": "stdout",
     "output_type": "stream",
     "text": [
      "0.7403846153846154\n"
     ]
    }
   ],
   "source": [
    "print(commit_cor(bags_commit, l_test))"
   ]
  },
  {
   "cell_type": "code",
   "execution_count": null,
   "metadata": {},
   "outputs": [],
   "source": []
  },
  {
   "cell_type": "code",
   "execution_count": null,
   "metadata": {},
   "outputs": [],
   "source": []
  },
  {
   "cell_type": "code",
   "execution_count": null,
   "metadata": {},
   "outputs": [],
   "source": []
  },
  {
   "cell_type": "code",
   "execution_count": null,
   "metadata": {},
   "outputs": [],
   "source": []
  }
 ],
 "metadata": {
  "kernelspec": {
   "display_name": "Python 3",
   "language": "python",
   "name": "python3"
  },
  "language_info": {
   "codemirror_mode": {
    "name": "ipython",
    "version": 3
   },
   "file_extension": ".py",
   "mimetype": "text/x-python",
   "name": "python",
   "nbconvert_exporter": "python",
   "pygments_lexer": "ipython3",
   "version": "3.5.4"
  }
 },
 "nbformat": 4,
 "nbformat_minor": 2
}
