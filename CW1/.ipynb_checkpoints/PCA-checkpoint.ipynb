{
 "cells": [
  {
   "cell_type": "code",
   "execution_count": 1,
   "metadata": {},
   "outputs": [],
   "source": [
    "import scipy.io as sio\n",
    "import numpy as np\n",
    "import pandas as pd\n",
    "from sklearn.model_selection import train_test_split\n",
    "import matplotlib.pyplot as plt\n",
    "ds = sio.loadmat('face.mat')"
   ]
  },
  {
   "cell_type": "code",
   "execution_count": 2,
   "metadata": {},
   "outputs": [],
   "source": [
    "X = ds['X']\n",
    "l = ds['l'][0]\n",
    "X = pd.DataFrame(X.transpose())\n",
    "N = X.shape[0]*0.75\n",
    "l = pd.DataFrame(l)"
   ]
  },
  {
   "cell_type": "code",
   "execution_count": 3,
   "metadata": {},
   "outputs": [],
   "source": [
    "X_train, X_test, l_train, l_test = train_test_split(X, l, test_size=0.25, random_state=42)\n",
    "# X_bar = np.mean(X, axis=1)\n",
    "X_train, X_test = X_train.values, X_test.values"
   ]
  },
  {
   "cell_type": "code",
   "execution_count": 4,
   "metadata": {},
   "outputs": [],
   "source": [
    "X_bar = np.mean(X_train, axis=0)\n",
    "# print(X_bar)\n",
    "i = 0\n",
    "for x in X_train:\n",
    "    norm = [x - X_bar]\n",
    "    norm = np.asarray(norm, dtype='float32')\n",
    "    norm_T = np.transpose(norm)\n",
    "    if i == 0:\n",
    "        offset = np.dot(norm_T, norm)\n",
    "        i += 1\n",
    "        # print(norm.transpose())\n",
    "    else:\n",
    "        offset += np.dot(norm_T, norm)\n",
    "    #     offset += np.matmul (norm.transpose(), norm)\n",
    "offset = offset/N\n",
    "w, v = np.linalg.eig(offset)"
   ]
  },
  {
   "cell_type": "code",
   "execution_count": 5,
   "metadata": {},
   "outputs": [
    {
     "data": {
      "image/png": "[encoded data removed]",
      "text/plain": [
       "<Figure size 432x288 with 1 Axes>"
      ]
     },
     "metadata": {},
     "output_type": "display_data"
    }
   ],
   "source": [
    "sorted(w,reverse=True)\n",
    "plt.plot(w)\n",
    "plt.ylabel('Eigenvalue')\n",
    "plt.show()"
   ]
  },
  {
   "cell_type": "code",
   "execution_count": 6,
   "metadata": {},
   "outputs": [
    {
     "name": "stderr",
     "output_type": "stream",
     "text": [
      "c:\\users\\georg\\appdata\\local\\programs\\python\\python35\\lib\\site-packages\\ipykernel_launcher.py:4: RuntimeWarning: invalid value encountered in log10\n",
      "  after removing the cwd from sys.path.\n"
     ]
    },
    {
     "data": {
      "text/plain": [
       "[<matplotlib.lines.Line2D at 0x1c75e053978>]"
      ]
     },
     "execution_count": 6,
     "metadata": {},
     "output_type": "execute_result"
    },
    {
     "data": {
      "image/png": "[encoded data removed]",
      "text/plain": [
       "<Figure size 432x288 with 1 Axes>"
      ]
     },
     "metadata": {},
     "output_type": "display_data"
    }
   ],
   "source": [
    "aic = np.zeros_like(w)\n",
    "N_eig = w.shape[0]\n",
    "for i in range(N_eig):\n",
    "    aic[i] = np.log10(w[i])+2*i/N\n",
    "plt.plot(aic)"
   ]
  },
  {
   "cell_type": "code",
   "execution_count": 7,
   "metadata": {},
   "outputs": [
    {
     "name": "stdout",
     "output_type": "stream",
     "text": [
      "3.9745734\n",
      "126\n"
     ]
    }
   ],
   "source": [
    "test = min(aic[0:130])\n",
    "print(test)\n",
    "ind = np.argmin(aic[0:130])\n",
    "print(ind)"
   ]
  },
  {
   "cell_type": "code",
   "execution_count": null,
   "metadata": {},
   "outputs": [],
   "source": []
  }
 ],
 "metadata": {
  "kernelspec": {
   "display_name": "Python 3",
   "language": "python",
   "name": "python3"
  },
  "language_info": {
   "codemirror_mode": {
    "name": "ipython",
    "version": 3
   },
   "file_extension": ".py",
   "mimetype": "text/x-python",
   "name": "python",
   "nbconvert_exporter": "python",
   "pygments_lexer": "ipython3",
   "version": "3.5.4"
  }
 },
 "nbformat": 4,
 "nbformat_minor": 2
}
